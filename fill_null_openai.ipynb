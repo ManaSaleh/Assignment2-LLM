{
 "cells": [
  {
   "cell_type": "markdown",
   "id": "f2d024cd-a36e-486b-955b-164764538741",
   "metadata": {},
   "source": [
    "## Understanding Data and fill any missing values"
   ]
  },
  {
   "cell_type": "code",
   "execution_count": 1,
   "id": "bcb3d689-363a-4809-9738-9d717529e85f",
   "metadata": {
    "execution": {
     "iopub.execute_input": "2024-08-08T06:45:10.531133Z",
     "iopub.status.busy": "2024-08-08T06:45:10.530966Z",
     "iopub.status.idle": "2024-08-08T06:45:10.826384Z",
     "shell.execute_reply": "2024-08-08T06:45:10.826051Z",
     "shell.execute_reply.started": "2024-08-08T06:45:10.531114Z"
    }
   },
   "outputs": [
    {
     "data": {
      "text/html": [
       "<div>\n",
       "<style scoped>\n",
       "    .dataframe tbody tr th:only-of-type {\n",
       "        vertical-align: middle;\n",
       "    }\n",
       "\n",
       "    .dataframe tbody tr th {\n",
       "        vertical-align: top;\n",
       "    }\n",
       "\n",
       "    .dataframe thead th {\n",
       "        text-align: right;\n",
       "    }\n",
       "</style>\n",
       "<table border=\"1\" class=\"dataframe\">\n",
       "  <thead>\n",
       "    <tr style=\"text-align: right;\">\n",
       "      <th></th>\n",
       "      <th>hotel_name</th>\n",
       "      <th>hotel_description</th>\n",
       "      <th>review_title</th>\n",
       "      <th>review_text</th>\n",
       "      <th>rate</th>\n",
       "      <th>tripdate</th>\n",
       "      <th>hotel_url</th>\n",
       "      <th>hotel_image</th>\n",
       "      <th>price_range</th>\n",
       "      <th>rating_value</th>\n",
       "      <th>review_count</th>\n",
       "      <th>street_address</th>\n",
       "      <th>locality</th>\n",
       "      <th>country</th>\n",
       "    </tr>\n",
       "  </thead>\n",
       "  <tbody>\n",
       "    <tr>\n",
       "      <th>0</th>\n",
       "      <td>Romance Istanbul Hotel</td>\n",
       "      <td>Romance Istanbul Hotel has 39 rooms.Every room...</td>\n",
       "      <td>An exceptional boutique hotel, great value for...</td>\n",
       "      <td>None</td>\n",
       "      <td>NaN</td>\n",
       "      <td>February 2020</td>\n",
       "      <td>https://www.tripadvisor.com/Hotel_Review-g2939...</td>\n",
       "      <td>https://media-cdn.tripadvisor.com/media/photo-...</td>\n",
       "      <td>$ (Based on Average Nightly Rates for a Standa...</td>\n",
       "      <td>5.0</td>\n",
       "      <td>4023</td>\n",
       "      <td>Hudavendigar Cd. No:5 Sirkeci</td>\n",
       "      <td>Istanbul</td>\n",
       "      <td>Turkiye</td>\n",
       "    </tr>\n",
       "    <tr>\n",
       "      <th>1</th>\n",
       "      <td>Romance Istanbul Hotel</td>\n",
       "      <td>Romance Istanbul Hotel has 39 rooms.Every room...</td>\n",
       "      <td>You can’t get better than this.</td>\n",
       "      <td>None</td>\n",
       "      <td>NaN</td>\n",
       "      <td>March 2021</td>\n",
       "      <td>https://www.tripadvisor.com/Hotel_Review-g2939...</td>\n",
       "      <td>https://media-cdn.tripadvisor.com/media/photo-...</td>\n",
       "      <td>$ (Based on Average Nightly Rates for a Standa...</td>\n",
       "      <td>5.0</td>\n",
       "      <td>4023</td>\n",
       "      <td>Hudavendigar Cd. No:5 Sirkeci</td>\n",
       "      <td>Istanbul</td>\n",
       "      <td>Turkiye</td>\n",
       "    </tr>\n",
       "    <tr>\n",
       "      <th>2</th>\n",
       "      <td>Romance Istanbul Hotel</td>\n",
       "      <td>Romance Istanbul Hotel has 39 rooms.Every room...</td>\n",
       "      <td>Exceeds all expectations</td>\n",
       "      <td>None</td>\n",
       "      <td>NaN</td>\n",
       "      <td>March 2021</td>\n",
       "      <td>https://www.tripadvisor.com/Hotel_Review-g2939...</td>\n",
       "      <td>https://media-cdn.tripadvisor.com/media/photo-...</td>\n",
       "      <td>$ (Based on Average Nightly Rates for a Standa...</td>\n",
       "      <td>5.0</td>\n",
       "      <td>4023</td>\n",
       "      <td>Hudavendigar Cd. No:5 Sirkeci</td>\n",
       "      <td>Istanbul</td>\n",
       "      <td>Turkiye</td>\n",
       "    </tr>\n",
       "    <tr>\n",
       "      <th>3</th>\n",
       "      <td>Romance Istanbul Hotel</td>\n",
       "      <td>Romance Istanbul Hotel has 39 rooms.Every room...</td>\n",
       "      <td>Great Location, Fantastic Accommodations</td>\n",
       "      <td>None</td>\n",
       "      <td>NaN</td>\n",
       "      <td>August 2021</td>\n",
       "      <td>https://www.tripadvisor.com/Hotel_Review-g2939...</td>\n",
       "      <td>https://media-cdn.tripadvisor.com/media/photo-...</td>\n",
       "      <td>$ (Based on Average Nightly Rates for a Standa...</td>\n",
       "      <td>5.0</td>\n",
       "      <td>4023</td>\n",
       "      <td>Hudavendigar Cd. No:5 Sirkeci</td>\n",
       "      <td>Istanbul</td>\n",
       "      <td>Turkiye</td>\n",
       "    </tr>\n",
       "    <tr>\n",
       "      <th>4</th>\n",
       "      <td>Romance Istanbul Hotel</td>\n",
       "      <td>Romance Istanbul Hotel has 39 rooms.Every room...</td>\n",
       "      <td>Perfection. It is all in the details.</td>\n",
       "      <td>None</td>\n",
       "      <td>NaN</td>\n",
       "      <td>June 2021</td>\n",
       "      <td>https://www.tripadvisor.com/Hotel_Review-g2939...</td>\n",
       "      <td>https://media-cdn.tripadvisor.com/media/photo-...</td>\n",
       "      <td>$ (Based on Average Nightly Rates for a Standa...</td>\n",
       "      <td>5.0</td>\n",
       "      <td>4023</td>\n",
       "      <td>Hudavendigar Cd. No:5 Sirkeci</td>\n",
       "      <td>Istanbul</td>\n",
       "      <td>Turkiye</td>\n",
       "    </tr>\n",
       "  </tbody>\n",
       "</table>\n",
       "</div>"
      ],
      "text/plain": [
       "               hotel_name                                  hotel_description  \\\n",
       "0  Romance Istanbul Hotel  Romance Istanbul Hotel has 39 rooms.Every room...   \n",
       "1  Romance Istanbul Hotel  Romance Istanbul Hotel has 39 rooms.Every room...   \n",
       "2  Romance Istanbul Hotel  Romance Istanbul Hotel has 39 rooms.Every room...   \n",
       "3  Romance Istanbul Hotel  Romance Istanbul Hotel has 39 rooms.Every room...   \n",
       "4  Romance Istanbul Hotel  Romance Istanbul Hotel has 39 rooms.Every room...   \n",
       "\n",
       "                                        review_title review_text  rate  \\\n",
       "0  An exceptional boutique hotel, great value for...        None   NaN   \n",
       "1                    You can’t get better than this.        None   NaN   \n",
       "2                           Exceeds all expectations        None   NaN   \n",
       "3           Great Location, Fantastic Accommodations        None   NaN   \n",
       "4              Perfection. It is all in the details.        None   NaN   \n",
       "\n",
       "         tripdate                                          hotel_url  \\\n",
       "0   February 2020  https://www.tripadvisor.com/Hotel_Review-g2939...   \n",
       "1      March 2021  https://www.tripadvisor.com/Hotel_Review-g2939...   \n",
       "2      March 2021  https://www.tripadvisor.com/Hotel_Review-g2939...   \n",
       "3     August 2021  https://www.tripadvisor.com/Hotel_Review-g2939...   \n",
       "4       June 2021  https://www.tripadvisor.com/Hotel_Review-g2939...   \n",
       "\n",
       "                                         hotel_image  \\\n",
       "0  https://media-cdn.tripadvisor.com/media/photo-...   \n",
       "1  https://media-cdn.tripadvisor.com/media/photo-...   \n",
       "2  https://media-cdn.tripadvisor.com/media/photo-...   \n",
       "3  https://media-cdn.tripadvisor.com/media/photo-...   \n",
       "4  https://media-cdn.tripadvisor.com/media/photo-...   \n",
       "\n",
       "                                         price_range  rating_value  \\\n",
       "0  $ (Based on Average Nightly Rates for a Standa...           5.0   \n",
       "1  $ (Based on Average Nightly Rates for a Standa...           5.0   \n",
       "2  $ (Based on Average Nightly Rates for a Standa...           5.0   \n",
       "3  $ (Based on Average Nightly Rates for a Standa...           5.0   \n",
       "4  $ (Based on Average Nightly Rates for a Standa...           5.0   \n",
       "\n",
       "   review_count                 street_address  locality  country  \n",
       "0          4023  Hudavendigar Cd. No:5 Sirkeci  Istanbul  Turkiye  \n",
       "1          4023  Hudavendigar Cd. No:5 Sirkeci  Istanbul  Turkiye  \n",
       "2          4023  Hudavendigar Cd. No:5 Sirkeci  Istanbul  Turkiye  \n",
       "3          4023  Hudavendigar Cd. No:5 Sirkeci  Istanbul  Turkiye  \n",
       "4          4023  Hudavendigar Cd. No:5 Sirkeci  Istanbul  Turkiye  "
      ]
     },
     "execution_count": 1,
     "metadata": {},
     "output_type": "execute_result"
    }
   ],
   "source": [
    "import pandas as pd\n",
    "df = pd.read_parquet('0000.parquet')\n",
    "df.head()"
   ]
  },
  {
   "cell_type": "code",
   "execution_count": 2,
   "id": "5f84d0c5-781b-459b-9542-04d85ffd3cd8",
   "metadata": {
    "execution": {
     "iopub.execute_input": "2024-08-08T06:45:10.827116Z",
     "iopub.status.busy": "2024-08-08T06:45:10.826847Z",
     "iopub.status.idle": "2024-08-08T06:45:10.836268Z",
     "shell.execute_reply": "2024-08-08T06:45:10.835881Z",
     "shell.execute_reply.started": "2024-08-08T06:45:10.827103Z"
    }
   },
   "outputs": [],
   "source": [
    "df = df.drop_duplicates()"
   ]
  },
  {
   "cell_type": "code",
   "execution_count": 3,
   "id": "7af2114e-15b0-4d6a-8a75-135a56813aa1",
   "metadata": {
    "execution": {
     "iopub.execute_input": "2024-08-08T06:45:10.837175Z",
     "iopub.status.busy": "2024-08-08T06:45:10.837043Z",
     "iopub.status.idle": "2024-08-08T06:45:10.848971Z",
     "shell.execute_reply": "2024-08-08T06:45:10.848614Z",
     "shell.execute_reply.started": "2024-08-08T06:45:10.837161Z"
    }
   },
   "outputs": [
    {
     "data": {
      "text/html": [
       "<div>\n",
       "<style scoped>\n",
       "    .dataframe tbody tr th:only-of-type {\n",
       "        vertical-align: middle;\n",
       "    }\n",
       "\n",
       "    .dataframe tbody tr th {\n",
       "        vertical-align: top;\n",
       "    }\n",
       "\n",
       "    .dataframe thead th {\n",
       "        text-align: right;\n",
       "    }\n",
       "</style>\n",
       "<table border=\"1\" class=\"dataframe\">\n",
       "  <thead>\n",
       "    <tr style=\"text-align: right;\">\n",
       "      <th></th>\n",
       "      <th>rate</th>\n",
       "      <th>rating_value</th>\n",
       "      <th>review_count</th>\n",
       "    </tr>\n",
       "  </thead>\n",
       "  <tbody>\n",
       "    <tr>\n",
       "      <th>count</th>\n",
       "      <td>4867.000000</td>\n",
       "      <td>5997.000000</td>\n",
       "      <td>5997.000000</td>\n",
       "    </tr>\n",
       "    <tr>\n",
       "      <th>mean</th>\n",
       "      <td>4.368810</td>\n",
       "      <td>4.446640</td>\n",
       "      <td>3380.770885</td>\n",
       "    </tr>\n",
       "    <tr>\n",
       "      <th>std</th>\n",
       "      <td>1.172449</td>\n",
       "      <td>0.432757</td>\n",
       "      <td>3771.730100</td>\n",
       "    </tr>\n",
       "    <tr>\n",
       "      <th>min</th>\n",
       "      <td>1.000000</td>\n",
       "      <td>3.000000</td>\n",
       "      <td>39.000000</td>\n",
       "    </tr>\n",
       "    <tr>\n",
       "      <th>25%</th>\n",
       "      <td>4.000000</td>\n",
       "      <td>4.000000</td>\n",
       "      <td>962.000000</td>\n",
       "    </tr>\n",
       "    <tr>\n",
       "      <th>50%</th>\n",
       "      <td>5.000000</td>\n",
       "      <td>4.500000</td>\n",
       "      <td>2053.000000</td>\n",
       "    </tr>\n",
       "    <tr>\n",
       "      <th>75%</th>\n",
       "      <td>5.000000</td>\n",
       "      <td>5.000000</td>\n",
       "      <td>4595.000000</td>\n",
       "    </tr>\n",
       "    <tr>\n",
       "      <th>max</th>\n",
       "      <td>5.000000</td>\n",
       "      <td>5.000000</td>\n",
       "      <td>24877.000000</td>\n",
       "    </tr>\n",
       "  </tbody>\n",
       "</table>\n",
       "</div>"
      ],
      "text/plain": [
       "              rate  rating_value  review_count\n",
       "count  4867.000000   5997.000000   5997.000000\n",
       "mean      4.368810      4.446640   3380.770885\n",
       "std       1.172449      0.432757   3771.730100\n",
       "min       1.000000      3.000000     39.000000\n",
       "25%       4.000000      4.000000    962.000000\n",
       "50%       5.000000      4.500000   2053.000000\n",
       "75%       5.000000      5.000000   4595.000000\n",
       "max       5.000000      5.000000  24877.000000"
      ]
     },
     "execution_count": 3,
     "metadata": {},
     "output_type": "execute_result"
    }
   ],
   "source": [
    "df.describe()"
   ]
  },
  {
   "cell_type": "code",
   "execution_count": 4,
   "id": "54300aeb-8908-4d0b-b732-9bcbc1ff9257",
   "metadata": {
    "execution": {
     "iopub.execute_input": "2024-08-08T06:45:10.849543Z",
     "iopub.status.busy": "2024-08-08T06:45:10.849427Z",
     "iopub.status.idle": "2024-08-08T06:45:10.857361Z",
     "shell.execute_reply": "2024-08-08T06:45:10.856897Z",
     "shell.execute_reply.started": "2024-08-08T06:45:10.849531Z"
    }
   },
   "outputs": [
    {
     "name": "stdout",
     "output_type": "stream",
     "text": [
      "<class 'pandas.core.frame.DataFrame'>\n",
      "RangeIndex: 5997 entries, 0 to 5996\n",
      "Data columns (total 14 columns):\n",
      " #   Column             Non-Null Count  Dtype  \n",
      "---  ------             --------------  -----  \n",
      " 0   hotel_name         5997 non-null   object \n",
      " 1   hotel_description  5197 non-null   object \n",
      " 2   review_title       5997 non-null   object \n",
      " 3   review_text        4867 non-null   object \n",
      " 4   rate               4867 non-null   float64\n",
      " 5   tripdate           5997 non-null   object \n",
      " 6   hotel_url          5997 non-null   object \n",
      " 7   hotel_image        5997 non-null   object \n",
      " 8   price_range        5997 non-null   object \n",
      " 9   rating_value       5997 non-null   float64\n",
      " 10  review_count       5997 non-null   int64  \n",
      " 11  street_address     5997 non-null   object \n",
      " 12  locality           5997 non-null   object \n",
      " 13  country            5997 non-null   object \n",
      "dtypes: float64(2), int64(1), object(11)\n",
      "memory usage: 656.0+ KB\n"
     ]
    }
   ],
   "source": [
    "df.info()"
   ]
  },
  {
   "cell_type": "code",
   "execution_count": 5,
   "id": "c207644a-9476-452f-b2de-d337f1ad112a",
   "metadata": {
    "execution": {
     "iopub.execute_input": "2024-08-08T06:45:10.960706Z",
     "iopub.status.busy": "2024-08-08T06:45:10.960393Z",
     "iopub.status.idle": "2024-08-08T06:45:10.966799Z",
     "shell.execute_reply": "2024-08-08T06:45:10.966496Z",
     "shell.execute_reply.started": "2024-08-08T06:45:10.960673Z"
    }
   },
   "outputs": [
    {
     "data": {
      "text/plain": [
       "hotel_name              0\n",
       "hotel_description     800\n",
       "review_title            0\n",
       "review_text          1130\n",
       "rate                 1130\n",
       "tripdate                0\n",
       "hotel_url               0\n",
       "hotel_image             0\n",
       "price_range             0\n",
       "rating_value            0\n",
       "review_count            0\n",
       "street_address          0\n",
       "locality                0\n",
       "country                 0\n",
       "dtype: int64"
      ]
     },
     "execution_count": 5,
     "metadata": {},
     "output_type": "execute_result"
    }
   ],
   "source": [
    "df.isnull().sum()"
   ]
  },
  {
   "cell_type": "code",
   "execution_count": 6,
   "id": "fce86c69-26ce-439c-a073-65462c9404b6",
   "metadata": {
    "execution": {
     "iopub.execute_input": "2024-08-08T06:45:11.130816Z",
     "iopub.status.busy": "2024-08-08T06:45:11.130505Z",
     "iopub.status.idle": "2024-08-08T06:45:11.134372Z",
     "shell.execute_reply": "2024-08-08T06:45:11.134043Z",
     "shell.execute_reply.started": "2024-08-08T06:45:11.130791Z"
    }
   },
   "outputs": [
    {
     "data": {
      "text/plain": [
       "'Romance Istanbul Hotel has 39 rooms.Every room is elegantly furnished and harmonizes the modern life style with the traditional Ottoman touch. Romance Istanbul sits at the intersection of the old city’s most important part. With its luxuriously inspiring design and landmark old city location, steeped in the history of its surroundings, Romance Istanbul Hotel welcomes you with exceptional designed rooms and world-renowned Turkish hospitality. Our colleagues deliver the most personal service. It is perfectly placed and perfectly designed to enhance all that Istanbul has to offer. Each room offers a private bathroom and shower. Each is equipped with a satellite TV and free wifi connection. The rooms size change between 20 m2 and 45 m2. It includes 7 suite rooms: 1 Royal Suite, 4 Grand Suite, 1 Romance Suite and 1 Premium Suite, 2 Luxury Room With Terrace, 22 Deluxe Room, 8 City Room.'"
      ]
     },
     "execution_count": 6,
     "metadata": {},
     "output_type": "execute_result"
    }
   ],
   "source": [
    "df['hotel_description'][0]"
   ]
  },
  {
   "cell_type": "code",
   "execution_count": 7,
   "id": "acc2358f-23ce-45a5-90ab-0119ae9fd3f6",
   "metadata": {
    "execution": {
     "iopub.execute_input": "2024-08-08T06:45:11.301299Z",
     "iopub.status.busy": "2024-08-08T06:45:11.300993Z",
     "iopub.status.idle": "2024-08-08T06:45:11.305459Z",
     "shell.execute_reply": "2024-08-08T06:45:11.305142Z",
     "shell.execute_reply.started": "2024-08-08T06:45:11.301272Z"
    }
   },
   "outputs": [
    {
     "data": {
      "text/plain": [
       "array(['Primero Hotel', 'Beacon Grand A Union Square Hotel',\n",
       "       'Hilton San Francisco Financial District',\n",
       "       'Cow Hollow Inn and Suites',\n",
       "       'Parc 55 San Francisco - a Hilton Hotel',\n",
       "       'Park Grand London Hyde Park', 'Travelodge London City hotel',\n",
       "       'Leonardo Royal Hotel London Tower Bridge',\n",
       "       'Travelodge London Docklands Central',\n",
       "       'Travelodge London Central Kings Cross', 'Travelodge London Excel',\n",
       "       'Travelodge London Central City Road', 'Royal National Hotel',\n",
       "       'Palmers Lodge Swiss Cottage',\n",
       "       'Tempo by Hilton New York Times Square',\n",
       "       'Park Central Hotel New York', 'Hilton New York Times Square',\n",
       "       'Hotel La Comtesse', 'Hotel B55', 'Citadines Tour Eiffel Paris'],\n",
       "      dtype=object)"
      ]
     },
     "execution_count": 7,
     "metadata": {},
     "output_type": "execute_result"
    }
   ],
   "source": [
    "null_descriptions = df[df['hotel_description'].isna()]\n",
    "null_descriptions['hotel_name'].unique()"
   ]
  },
  {
   "cell_type": "code",
   "execution_count": 8,
   "id": "1f0b7cbc-0f40-490c-ac89-1f3d4e7de025",
   "metadata": {
    "execution": {
     "iopub.execute_input": "2024-08-08T06:45:11.475323Z",
     "iopub.status.busy": "2024-08-08T06:45:11.475016Z",
     "iopub.status.idle": "2024-08-08T06:45:11.478662Z",
     "shell.execute_reply": "2024-08-08T06:45:11.478315Z",
     "shell.execute_reply.started": "2024-08-08T06:45:11.475296Z"
    }
   },
   "outputs": [],
   "source": [
    "df['hotel_description'] = df['hotel_description'].fillna('No Description Available')"
   ]
  },
  {
   "cell_type": "code",
   "execution_count": 9,
   "id": "e66a4387-28ed-48ee-8f32-314ae9c5e413",
   "metadata": {
    "execution": {
     "iopub.execute_input": "2024-08-08T06:45:11.652019Z",
     "iopub.status.busy": "2024-08-08T06:45:11.651546Z",
     "iopub.status.idle": "2024-08-08T06:45:11.655485Z",
     "shell.execute_reply": "2024-08-08T06:45:11.655189Z",
     "shell.execute_reply.started": "2024-08-08T06:45:11.652003Z"
    },
    "scrolled": true
   },
   "outputs": [
    {
     "data": {
      "text/plain": [
       "array([5. , 4.5, 4. , 3. , 3.5])"
      ]
     },
     "execution_count": 9,
     "metadata": {},
     "output_type": "execute_result"
    }
   ],
   "source": [
    "df['rating_value'].unique()"
   ]
  },
  {
   "cell_type": "code",
   "execution_count": 10,
   "id": "e5f2d859-2d28-4cf4-9e15-b101f6966fc8",
   "metadata": {
    "execution": {
     "iopub.execute_input": "2024-08-08T06:45:11.841903Z",
     "iopub.status.busy": "2024-08-08T06:45:11.841515Z",
     "iopub.status.idle": "2024-08-08T06:45:11.850931Z",
     "shell.execute_reply": "2024-08-08T06:45:11.850611Z",
     "shell.execute_reply.started": "2024-08-08T06:45:11.841886Z"
    },
    "scrolled": true
   },
   "outputs": [
    {
     "data": {
      "text/plain": [
       "hotel_name\n",
       "AJWA Sultanahmet                                [625]\n",
       "Ace Hotel New York                             [2525]\n",
       "Ameritania At Times Square                     [7569]\n",
       "Argonaut Hotel                                 [7814]\n",
       "Arlo SoHo                                      [2900]\n",
       "                                                ...  \n",
       "Wyndham Grand Istanbul Kalamis Marina Hotel    [1461]\n",
       "Wyndham Istanbul Oldcity                       [1125]\n",
       "YOTEL Istanbul Airport Hotel (Landside)         [948]\n",
       "citizenM Paris Champs-Elysees                   [269]\n",
       "ibis London Canning Town                        [786]\n",
       "Name: review_count, Length: 150, dtype: object"
      ]
     },
     "execution_count": 10,
     "metadata": {},
     "output_type": "execute_result"
    }
   ],
   "source": [
    "unique_review_counts = df.groupby('hotel_name')['review_count'].unique()\n",
    "unique_review_counts"
   ]
  },
  {
   "cell_type": "code",
   "execution_count": 11,
   "id": "edf2ca70-9a0e-4366-bb3b-0d6cd9e288ad",
   "metadata": {
    "execution": {
     "iopub.execute_input": "2024-08-08T06:45:12.035432Z",
     "iopub.status.busy": "2024-08-08T06:45:12.035116Z",
     "iopub.status.idle": "2024-08-08T06:45:12.042219Z",
     "shell.execute_reply": "2024-08-08T06:45:12.041863Z",
     "shell.execute_reply.started": "2024-08-08T06:45:12.035406Z"
    }
   },
   "outputs": [
    {
     "data": {
      "text/html": [
       "<div>\n",
       "<style scoped>\n",
       "    .dataframe tbody tr th:only-of-type {\n",
       "        vertical-align: middle;\n",
       "    }\n",
       "\n",
       "    .dataframe tbody tr th {\n",
       "        vertical-align: top;\n",
       "    }\n",
       "\n",
       "    .dataframe thead th {\n",
       "        text-align: right;\n",
       "    }\n",
       "</style>\n",
       "<table border=\"1\" class=\"dataframe\">\n",
       "  <thead>\n",
       "    <tr style=\"text-align: right;\">\n",
       "      <th></th>\n",
       "      <th>hotel_name</th>\n",
       "      <th>rating_value</th>\n",
       "      <th>rate</th>\n",
       "      <th>review_count</th>\n",
       "    </tr>\n",
       "  </thead>\n",
       "  <tbody>\n",
       "    <tr>\n",
       "      <th>2358</th>\n",
       "      <td>Parc 55 San Francisco - a Hilton Hotel</td>\n",
       "      <td>4.0</td>\n",
       "      <td>5.0</td>\n",
       "      <td>3911</td>\n",
       "    </tr>\n",
       "    <tr>\n",
       "      <th>4785</th>\n",
       "      <td>The FIDI Hotel</td>\n",
       "      <td>4.5</td>\n",
       "      <td>3.0</td>\n",
       "      <td>39</td>\n",
       "    </tr>\n",
       "    <tr>\n",
       "      <th>1108</th>\n",
       "      <td>InterContinental Istanbul</td>\n",
       "      <td>4.5</td>\n",
       "      <td>NaN</td>\n",
       "      <td>2412</td>\n",
       "    </tr>\n",
       "    <tr>\n",
       "      <th>5976</th>\n",
       "      <td>Hotel Campanile Paris Bercy Village</td>\n",
       "      <td>4.0</td>\n",
       "      <td>4.0</td>\n",
       "      <td>1625</td>\n",
       "    </tr>\n",
       "    <tr>\n",
       "      <th>1370</th>\n",
       "      <td>LUMA Hotel San Francisco</td>\n",
       "      <td>4.5</td>\n",
       "      <td>NaN</td>\n",
       "      <td>603</td>\n",
       "    </tr>\n",
       "    <tr>\n",
       "      <th>2079</th>\n",
       "      <td>San Francisco Marriott Fisherman's Wharf</td>\n",
       "      <td>4.0</td>\n",
       "      <td>4.0</td>\n",
       "      <td>1878</td>\n",
       "    </tr>\n",
       "    <tr>\n",
       "      <th>3869</th>\n",
       "      <td>The Bryant Park Hotel</td>\n",
       "      <td>4.5</td>\n",
       "      <td>5.0</td>\n",
       "      <td>5037</td>\n",
       "    </tr>\n",
       "    <tr>\n",
       "      <th>540</th>\n",
       "      <td>Sirkeci Mansion</td>\n",
       "      <td>5.0</td>\n",
       "      <td>5.0</td>\n",
       "      <td>3648</td>\n",
       "    </tr>\n",
       "    <tr>\n",
       "      <th>3376</th>\n",
       "      <td>Holiday Inn London - West, an IHG Hotel</td>\n",
       "      <td>4.5</td>\n",
       "      <td>5.0</td>\n",
       "      <td>1372</td>\n",
       "    </tr>\n",
       "    <tr>\n",
       "      <th>5223</th>\n",
       "      <td>Hotel 34B - Astotel</td>\n",
       "      <td>5.0</td>\n",
       "      <td>4.0</td>\n",
       "      <td>3399</td>\n",
       "    </tr>\n",
       "  </tbody>\n",
       "</table>\n",
       "</div>"
      ],
      "text/plain": [
       "                                    hotel_name  rating_value  rate  \\\n",
       "2358    Parc 55 San Francisco - a Hilton Hotel           4.0   5.0   \n",
       "4785                            The FIDI Hotel           4.5   3.0   \n",
       "1108                 InterContinental Istanbul           4.5   NaN   \n",
       "5976       Hotel Campanile Paris Bercy Village           4.0   4.0   \n",
       "1370                  LUMA Hotel San Francisco           4.5   NaN   \n",
       "2079  San Francisco Marriott Fisherman's Wharf           4.0   4.0   \n",
       "3869                     The Bryant Park Hotel           4.5   5.0   \n",
       "540                            Sirkeci Mansion           5.0   5.0   \n",
       "3376   Holiday Inn London - West, an IHG Hotel           4.5   5.0   \n",
       "5223                       Hotel 34B - Astotel           5.0   4.0   \n",
       "\n",
       "      review_count  \n",
       "2358          3911  \n",
       "4785            39  \n",
       "1108          2412  \n",
       "5976          1625  \n",
       "1370           603  \n",
       "2079          1878  \n",
       "3869          5037  \n",
       "540           3648  \n",
       "3376          1372  \n",
       "5223          3399  "
      ]
     },
     "execution_count": 11,
     "metadata": {},
     "output_type": "execute_result"
    }
   ],
   "source": [
    "df[['hotel_name', 'rating_value', 'rate' , 'review_count']].sample(10)"
   ]
  },
  {
   "cell_type": "code",
   "execution_count": 12,
   "id": "7ea296ea-523d-4427-8217-ebfb27141a10",
   "metadata": {
    "execution": {
     "iopub.execute_input": "2024-08-08T06:45:12.234407Z",
     "iopub.status.busy": "2024-08-08T06:45:12.233812Z",
     "iopub.status.idle": "2024-08-08T06:45:12.826882Z",
     "shell.execute_reply": "2024-08-08T06:45:12.826348Z",
     "shell.execute_reply.started": "2024-08-08T06:45:12.234389Z"
    }
   },
   "outputs": [],
   "source": [
    "from sklearn.impute import KNNImputer\n",
    "imputer = KNNImputer(n_neighbors=3)\n",
    "columns_to_impute = ['rating_value', 'review_count', 'rate']\n",
    "df[columns_to_impute] = imputer.fit_transform(df[columns_to_impute])\n",
    "df[columns_to_impute] = df[columns_to_impute].round(2)"
   ]
  },
  {
   "cell_type": "code",
   "execution_count": 13,
   "id": "241611c2-5f21-4110-8e37-ec1141ece94b",
   "metadata": {
    "execution": {
     "iopub.execute_input": "2024-08-08T06:45:12.827846Z",
     "iopub.status.busy": "2024-08-08T06:45:12.827640Z",
     "iopub.status.idle": "2024-08-08T06:45:12.834609Z",
     "shell.execute_reply": "2024-08-08T06:45:12.834268Z",
     "shell.execute_reply.started": "2024-08-08T06:45:12.827833Z"
    }
   },
   "outputs": [
    {
     "data": {
      "text/html": [
       "<div>\n",
       "<style scoped>\n",
       "    .dataframe tbody tr th:only-of-type {\n",
       "        vertical-align: middle;\n",
       "    }\n",
       "\n",
       "    .dataframe tbody tr th {\n",
       "        vertical-align: top;\n",
       "    }\n",
       "\n",
       "    .dataframe thead th {\n",
       "        text-align: right;\n",
       "    }\n",
       "</style>\n",
       "<table border=\"1\" class=\"dataframe\">\n",
       "  <thead>\n",
       "    <tr style=\"text-align: right;\">\n",
       "      <th></th>\n",
       "      <th>hotel_name</th>\n",
       "      <th>rating_value</th>\n",
       "      <th>rate</th>\n",
       "      <th>review_count</th>\n",
       "    </tr>\n",
       "  </thead>\n",
       "  <tbody>\n",
       "    <tr>\n",
       "      <th>5634</th>\n",
       "      <td>Citadines Tour Eiffel Paris</td>\n",
       "      <td>4.0</td>\n",
       "      <td>5.00</td>\n",
       "      <td>471.0</td>\n",
       "    </tr>\n",
       "    <tr>\n",
       "      <th>4736</th>\n",
       "      <td>The Empire Hotel</td>\n",
       "      <td>3.5</td>\n",
       "      <td>5.00</td>\n",
       "      <td>8748.0</td>\n",
       "    </tr>\n",
       "    <tr>\n",
       "      <th>5446</th>\n",
       "      <td>citizenM Paris Champs-Elysees</td>\n",
       "      <td>4.5</td>\n",
       "      <td>5.00</td>\n",
       "      <td>269.0</td>\n",
       "    </tr>\n",
       "    <tr>\n",
       "      <th>5867</th>\n",
       "      <td>Hotel du Printemps</td>\n",
       "      <td>4.5</td>\n",
       "      <td>5.00</td>\n",
       "      <td>1142.0</td>\n",
       "    </tr>\n",
       "    <tr>\n",
       "      <th>494</th>\n",
       "      <td>Mula Hotel</td>\n",
       "      <td>5.0</td>\n",
       "      <td>5.00</td>\n",
       "      <td>197.0</td>\n",
       "    </tr>\n",
       "    <tr>\n",
       "      <th>2425</th>\n",
       "      <td>Park Grand London Hyde Park</td>\n",
       "      <td>4.5</td>\n",
       "      <td>5.00</td>\n",
       "      <td>4166.0</td>\n",
       "    </tr>\n",
       "    <tr>\n",
       "      <th>1184</th>\n",
       "      <td>Elite World Grand İstanbul Basın Ekspres</td>\n",
       "      <td>4.0</td>\n",
       "      <td>4.33</td>\n",
       "      <td>219.0</td>\n",
       "    </tr>\n",
       "    <tr>\n",
       "      <th>1742</th>\n",
       "      <td>Hotel Nikko San Francisco</td>\n",
       "      <td>4.0</td>\n",
       "      <td>5.00</td>\n",
       "      <td>4693.0</td>\n",
       "    </tr>\n",
       "    <tr>\n",
       "      <th>4848</th>\n",
       "      <td>Hotel Astoria - Astotel</td>\n",
       "      <td>4.5</td>\n",
       "      <td>5.00</td>\n",
       "      <td>2427.0</td>\n",
       "    </tr>\n",
       "    <tr>\n",
       "      <th>4365</th>\n",
       "      <td>Courtyard by Marriott New York Manhattan / Mid...</td>\n",
       "      <td>4.5</td>\n",
       "      <td>5.00</td>\n",
       "      <td>3058.0</td>\n",
       "    </tr>\n",
       "  </tbody>\n",
       "</table>\n",
       "</div>"
      ],
      "text/plain": [
       "                                             hotel_name  rating_value  rate  \\\n",
       "5634                        Citadines Tour Eiffel Paris           4.0  5.00   \n",
       "4736                                   The Empire Hotel           3.5  5.00   \n",
       "5446                      citizenM Paris Champs-Elysees           4.5  5.00   \n",
       "5867                                 Hotel du Printemps           4.5  5.00   \n",
       "494                                          Mula Hotel           5.0  5.00   \n",
       "2425                        Park Grand London Hyde Park           4.5  5.00   \n",
       "1184           Elite World Grand İstanbul Basın Ekspres           4.0  4.33   \n",
       "1742                          Hotel Nikko San Francisco           4.0  5.00   \n",
       "4848                            Hotel Astoria - Astotel           4.5  5.00   \n",
       "4365  Courtyard by Marriott New York Manhattan / Mid...           4.5  5.00   \n",
       "\n",
       "      review_count  \n",
       "5634         471.0  \n",
       "4736        8748.0  \n",
       "5446         269.0  \n",
       "5867        1142.0  \n",
       "494          197.0  \n",
       "2425        4166.0  \n",
       "1184         219.0  \n",
       "1742        4693.0  \n",
       "4848        2427.0  \n",
       "4365        3058.0  "
      ]
     },
     "execution_count": 13,
     "metadata": {},
     "output_type": "execute_result"
    }
   ],
   "source": [
    "df[['hotel_name', 'rating_value', 'rate' , 'review_count']].sample(10)"
   ]
  },
  {
   "cell_type": "code",
   "execution_count": 14,
   "id": "6b02e8da-135a-4111-a842-53729836bee2",
   "metadata": {
    "execution": {
     "iopub.execute_input": "2024-08-08T06:45:12.835191Z",
     "iopub.status.busy": "2024-08-08T06:45:12.835050Z",
     "iopub.status.idle": "2024-08-08T06:45:12.849552Z",
     "shell.execute_reply": "2024-08-08T06:45:12.849167Z",
     "shell.execute_reply.started": "2024-08-08T06:45:12.835179Z"
    }
   },
   "outputs": [
    {
     "data": {
      "text/plain": [
       "hotel_name                     YOTEL Istanbul Airport Hotel (Landside)\n",
       "hotel_description    Istanbul Airport is home both to YOTEL, offeri...\n",
       "review_title                               Complete and utter rip off!\n",
       "review_text          Stayed here for convenience  High price - €290...\n",
       "rate                                                               1.0\n",
       "tripdate                                                  October 2023\n",
       "hotel_url            https://www.tripadvisor.com/Hotel_Review-g2939...\n",
       "hotel_image          https://dynamic-media-cdn.tripadvisor.com/medi...\n",
       "price_range          $$ (Based on Average Nightly Rates for a Stand...\n",
       "rating_value                                                       4.0\n",
       "review_count                                                     948.0\n",
       "street_address               Terminal Caddesi No 1 Tayakadin Mahallesi\n",
       "locality                                                      Istanbul\n",
       "country                                                        Türkiye\n",
       "Name: 1070, dtype: object"
      ]
     },
     "execution_count": 14,
     "metadata": {},
     "output_type": "execute_result"
    }
   ],
   "source": [
    "df.iloc[1070]"
   ]
  },
  {
   "cell_type": "code",
   "execution_count": 15,
   "id": "4c41a9b6-c16c-488f-87c8-0ffbf8547a3f",
   "metadata": {
    "execution": {
     "iopub.execute_input": "2024-08-08T06:45:12.850427Z",
     "iopub.status.busy": "2024-08-08T06:45:12.850298Z",
     "iopub.status.idle": "2024-08-08T06:45:12.856573Z",
     "shell.execute_reply": "2024-08-08T06:45:12.856214Z",
     "shell.execute_reply.started": "2024-08-08T06:45:12.850413Z"
    }
   },
   "outputs": [
    {
     "data": {
      "text/plain": [
       "hotel_name              0\n",
       "hotel_description       0\n",
       "review_title            0\n",
       "review_text          1130\n",
       "rate                    0\n",
       "tripdate                0\n",
       "hotel_url               0\n",
       "hotel_image             0\n",
       "price_range             0\n",
       "rating_value            0\n",
       "review_count            0\n",
       "street_address          0\n",
       "locality                0\n",
       "country                 0\n",
       "dtype: int64"
      ]
     },
     "execution_count": 15,
     "metadata": {},
     "output_type": "execute_result"
    }
   ],
   "source": [
    "df.isnull().sum()"
   ]
  },
  {
   "cell_type": "markdown",
   "id": "a6acde28-ca59-4e87-8175-3fb7438a417f",
   "metadata": {},
   "source": [
    "---"
   ]
  },
  {
   "cell_type": "code",
   "execution_count": 16,
   "id": "7b0de231-c474-4be4-a61b-1a38d122e548",
   "metadata": {
    "execution": {
     "iopub.execute_input": "2024-08-08T06:45:13.551825Z",
     "iopub.status.busy": "2024-08-08T06:45:13.551473Z",
     "iopub.status.idle": "2024-08-08T06:45:13.581903Z",
     "shell.execute_reply": "2024-08-08T06:45:13.581550Z",
     "shell.execute_reply.started": "2024-08-08T06:45:13.551810Z"
    }
   },
   "outputs": [],
   "source": [
    "df['combined_review_rating'] = df.apply(lambda row: f\"Rating: {row['rate']}, Title: {row['review_title']}\", axis=1)"
   ]
  },
  {
   "cell_type": "code",
   "execution_count": 17,
   "id": "afb744bc-e29b-4c30-a513-5570fc05de81",
   "metadata": {
    "execution": {
     "iopub.execute_input": "2024-08-08T06:45:13.844353Z",
     "iopub.status.busy": "2024-08-08T06:45:13.843735Z",
     "iopub.status.idle": "2024-08-08T06:45:13.850307Z",
     "shell.execute_reply": "2024-08-08T06:45:13.849979Z",
     "shell.execute_reply.started": "2024-08-08T06:45:13.844325Z"
    }
   },
   "outputs": [
    {
     "data": {
      "text/html": [
       "<div>\n",
       "<style scoped>\n",
       "    .dataframe tbody tr th:only-of-type {\n",
       "        vertical-align: middle;\n",
       "    }\n",
       "\n",
       "    .dataframe tbody tr th {\n",
       "        vertical-align: top;\n",
       "    }\n",
       "\n",
       "    .dataframe thead th {\n",
       "        text-align: right;\n",
       "    }\n",
       "</style>\n",
       "<table border=\"1\" class=\"dataframe\">\n",
       "  <thead>\n",
       "    <tr style=\"text-align: right;\">\n",
       "      <th></th>\n",
       "      <th>rate</th>\n",
       "      <th>review_title</th>\n",
       "      <th>combined_review_rating</th>\n",
       "    </tr>\n",
       "  </thead>\n",
       "  <tbody>\n",
       "    <tr>\n",
       "      <th>2882</th>\n",
       "      <td>1.0</td>\n",
       "      <td>It’s a Big No !</td>\n",
       "      <td>Rating: 1.0, Title: It’s a Big No !</td>\n",
       "    </tr>\n",
       "    <tr>\n",
       "      <th>1781</th>\n",
       "      <td>3.0</td>\n",
       "      <td>Average</td>\n",
       "      <td>Rating: 3.0, Title: Average</td>\n",
       "    </tr>\n",
       "    <tr>\n",
       "      <th>5628</th>\n",
       "      <td>3.0</td>\n",
       "      <td>Fab location , decent stay .</td>\n",
       "      <td>Rating: 3.0, Title: Fab location , decent stay .</td>\n",
       "    </tr>\n",
       "    <tr>\n",
       "      <th>4672</th>\n",
       "      <td>5.0</td>\n",
       "      <td>Amazing historic hotel with a lot of charm.</td>\n",
       "      <td>Rating: 5.0, Title: Amazing historic hotel wit...</td>\n",
       "    </tr>\n",
       "    <tr>\n",
       "      <th>4680</th>\n",
       "      <td>5.0</td>\n",
       "      <td>Great Hotel!</td>\n",
       "      <td>Rating: 5.0, Title: Great Hotel!</td>\n",
       "    </tr>\n",
       "  </tbody>\n",
       "</table>\n",
       "</div>"
      ],
      "text/plain": [
       "      rate                                 review_title  \\\n",
       "2882   1.0                              It’s a Big No !   \n",
       "1781   3.0                                      Average   \n",
       "5628   3.0                 Fab location , decent stay .   \n",
       "4672   5.0  Amazing historic hotel with a lot of charm.   \n",
       "4680   5.0                                 Great Hotel!   \n",
       "\n",
       "                                 combined_review_rating  \n",
       "2882                Rating: 1.0, Title: It’s a Big No !  \n",
       "1781                        Rating: 3.0, Title: Average  \n",
       "5628   Rating: 3.0, Title: Fab location , decent stay .  \n",
       "4672  Rating: 5.0, Title: Amazing historic hotel wit...  \n",
       "4680                   Rating: 5.0, Title: Great Hotel!  "
      ]
     },
     "execution_count": 17,
     "metadata": {},
     "output_type": "execute_result"
    }
   ],
   "source": [
    "df[['rate', 'review_title', 'combined_review_rating']].sample(5)"
   ]
  },
  {
   "cell_type": "code",
   "execution_count": 18,
   "id": "50412b9f-46a5-4c5d-9cf7-7fd28b6b5c76",
   "metadata": {
    "execution": {
     "iopub.execute_input": "2024-08-08T06:45:14.059032Z",
     "iopub.status.busy": "2024-08-08T06:45:14.058405Z",
     "iopub.status.idle": "2024-08-08T06:45:14.062218Z",
     "shell.execute_reply": "2024-08-08T06:45:14.061882Z",
     "shell.execute_reply.started": "2024-08-08T06:45:14.059003Z"
    }
   },
   "outputs": [
    {
     "name": "stdout",
     "output_type": "stream",
     "text": [
      "1515    Rating: 5.0, Title: Above and Beyond Customer ...\n",
      "Name: combined_review_rating, dtype: object\n"
     ]
    }
   ],
   "source": [
    "print(df['combined_review_rating'].sample())"
   ]
  },
  {
   "cell_type": "code",
   "execution_count": 19,
   "id": "641e59f1-a92f-4f4f-a39d-fdb48496d71d",
   "metadata": {
    "execution": {
     "iopub.execute_input": "2024-08-08T06:45:14.448261Z",
     "iopub.status.busy": "2024-08-08T06:45:14.448063Z",
     "iopub.status.idle": "2024-08-08T06:45:14.521920Z",
     "shell.execute_reply": "2024-08-08T06:45:14.521550Z",
     "shell.execute_reply.started": "2024-08-08T06:45:14.448247Z"
    },
    "scrolled": true
   },
   "outputs": [],
   "source": [
    "import openai\n",
    "import os\n",
    "openai.api_key = \"#\""
   ]
  },
  {
   "cell_type": "code",
   "execution_count": 20,
   "id": "0f53412c-0252-450d-b1a8-40eecb872ce1",
   "metadata": {
    "execution": {
     "iopub.execute_input": "2024-08-08T06:45:14.764422Z",
     "iopub.status.busy": "2024-08-08T06:45:14.763758Z",
     "iopub.status.idle": "2024-08-08T06:45:14.769888Z",
     "shell.execute_reply": "2024-08-08T06:45:14.769182Z",
     "shell.execute_reply.started": "2024-08-08T06:45:14.764398Z"
    }
   },
   "outputs": [],
   "source": [
    "import openai\n",
    "\n",
    "def generate_review(combined_review_rating):\n",
    "    \"\"\"\n",
    "    Generates a hotel review based on the provided combined review rating using GPT-3.5-turbo or GPT-4-turbo.\n",
    "\n",
    "    Parameters:\n",
    "    - combined_review_rating (str): A string containing the combined review rating information to be used for generating the review.\n",
    "\n",
    "    Returns:\n",
    "    - str: A concise review text based on the provided rating and title, reflecting the overall information without directly mentioning them.\n",
    "    \n",
    "    Raises:\n",
    "    - ValueError: If the combined_review_rating is empty.\n",
    "    - openai.error.OpenAIError: If an error occurs during the API request.\n",
    "    \"\"\"\n",
    "    \n",
    "    if not combined_review_rating.strip():\n",
    "        raise ValueError(\"The 'combined_review_rating' parameter cannot be empty.\")\n",
    "    \n",
    "    prompt = (\n",
    "        \"Generate a brief hotel review based on the following combined review rating information. \"\n",
    "        \"The review should reflect the overall experience described by the rating and title without mentioning them explicitly.\"\n",
    "        \"\\n\\n\"\n",
    "        f\"{combined_review_rating}\"\n",
    "    )\n",
    "\n",
    "    try:\n",
    "        response = openai.ChatCompletion.create(\n",
    "            model=\"gpt-3.5-turbo\", \n",
    "            messages=[\n",
    "                {\"role\": \"system\", \"content\": \"You are a helpful assistant specializing in generating concise and descriptive hotel reviews.\"},\n",
    "                {\"role\": \"user\", \"content\": prompt}\n",
    "            ],\n",
    "            max_tokens=35,  \n",
    "            temperature=0.5 \n",
    "        )\n",
    "        \n",
    "        review_text = response['choices'][0]['message']['content'].strip()\n",
    "        return review_text\n",
    "    \n",
    "    except openai.error.OpenAIError as e:\n",
    "        return f\"An error occurred while generating the review: {e}\""
   ]
  },
  {
   "cell_type": "code",
   "execution_count": 21,
   "id": "89115b47-16e7-4e24-bf64-13c1553cd32d",
   "metadata": {
    "execution": {
     "iopub.execute_input": "2024-08-08T06:45:15.317101Z",
     "iopub.status.busy": "2024-08-08T06:45:15.316424Z",
     "iopub.status.idle": "2024-08-08T06:45:15.321726Z",
     "shell.execute_reply": "2024-08-08T06:45:15.321181Z",
     "shell.execute_reply.started": "2024-08-08T06:45:15.317077Z"
    }
   },
   "outputs": [],
   "source": [
    "def fill_missing_reviews(df):\n",
    "    \"\"\"\n",
    "    Generate and fill in missing review_text for rows where review_text is NaN using combined_review_rating from a new column.\n",
    "    \n",
    "    Parameters:\n",
    "    - df (pd.DataFrame): DataFrame containing the columns 'review_text' and 'combined_review_rating'.\n",
    "    \n",
    "    Returns:\n",
    "    - pd.DataFrame: Updated DataFrame with missing review_text filled.\n",
    "    \"\"\"\n",
    "    \n",
    "    if 'review_text' not in df.columns or 'combined_review_rating' not in df.columns:\n",
    "        raise ValueError(\"DataFrame must contain 'review_text' and 'combined_review_rating' columns.\")\n",
    "    \n",
    "    for index, row in df[df['review_text'].isna()].iterrows():\n",
    "        combined_review_rating = row['combined_review_rating']\n",
    "        if pd.notna(combined_review_rating):\n",
    "            try:\n",
    "                generated_review = generate_review(combined_review_rating)\n",
    "                df.at[index, 'review_text'] = generated_review\n",
    "            except ValueError as ve:\n",
    "                print(f\"ValueError for index {index}: {ve}\")\n",
    "            except openai.error.OpenAIError as oe:\n",
    "                print(f\"OpenAIError for index {index}: {oe}\")\n",
    "    \n",
    "    return df"
   ]
  },
  {
   "cell_type": "code",
   "execution_count": 22,
   "id": "be554aa3-6312-47ea-bdbf-4c2f1f05291a",
   "metadata": {
    "execution": {
     "iopub.execute_input": "2024-08-08T06:45:15.634040Z",
     "iopub.status.busy": "2024-08-08T06:45:15.633778Z",
     "iopub.status.idle": "2024-08-08T07:06:29.854415Z",
     "shell.execute_reply": "2024-08-08T07:06:29.853795Z",
     "shell.execute_reply.started": "2024-08-08T06:45:15.634020Z"
    }
   },
   "outputs": [
    {
     "name": "stdout",
     "output_type": "stream",
     "text": [
      "CPU times: user 3.23 s, sys: 175 ms, total: 3.41 s\n",
      "Wall time: 21min 14s\n"
     ]
    }
   ],
   "source": [
    "%%time\n",
    "df = fill_missing_reviews(df)"
   ]
  },
  {
   "cell_type": "code",
   "execution_count": 23,
   "id": "f1dd7875-b0fa-4e5e-a177-eded2111d053",
   "metadata": {
    "execution": {
     "iopub.execute_input": "2024-08-08T07:06:29.855574Z",
     "iopub.status.busy": "2024-08-08T07:06:29.855387Z",
     "iopub.status.idle": "2024-08-08T07:06:30.012445Z",
     "shell.execute_reply": "2024-08-08T07:06:30.011761Z",
     "shell.execute_reply.started": "2024-08-08T07:06:29.855555Z"
    }
   },
   "outputs": [],
   "source": [
    "df.to_csv('ClenedTraversall.csv', index=False)"
   ]
  },
  {
   "cell_type": "code",
   "execution_count": null,
   "id": "4aa5429f-dc8e-48a0-9416-c4776e6efe47",
   "metadata": {},
   "outputs": [],
   "source": []
  }
 ],
 "metadata": {
  "kernelspec": {
   "display_name": "Python 3 (ipykernel)",
   "language": "python",
   "name": "python3"
  },
  "language_info": {
   "codemirror_mode": {
    "name": "ipython",
    "version": 3
   },
   "file_extension": ".py",
   "mimetype": "text/x-python",
   "name": "python",
   "nbconvert_exporter": "python",
   "pygments_lexer": "ipython3",
   "version": "3.9.19"
  }
 },
 "nbformat": 4,
 "nbformat_minor": 5
}
