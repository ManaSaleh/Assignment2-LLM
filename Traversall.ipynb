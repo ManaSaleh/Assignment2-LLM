{
  "cells": [
    {
      "cell_type": "code",
      "execution_count": 4,
      "id": "CfKJfgY9bvkE",
      "metadata": {
        "colab": {
          "base_uri": "https://localhost:8080/"
        },
        "id": "CfKJfgY9bvkE",
        "outputId": "6f9eb573-2437-4d87-d710-9d0cf7f01a86"
      },
      "outputs": [
        {
          "name": "stdout",
          "output_type": "stream",
          "text": [
            "Mounted at /content/drive\n"
          ]
        }
      ],
      "source": [
        "from google.colab import drive\n",
        "drive.mount('/content/drive')"
      ]
    },
    {
      "cell_type": "markdown",
      "id": "c9e8c6d7",
      "metadata": {},
      "source": [
        "## Preprocessing Data and Embedding "
      ]
    },
    {
      "cell_type": "code",
      "execution_count": 1,
      "id": "946d8446-d61e-44bc-80d5-66cffb8808d1",
      "metadata": {
        "colab": {
          "base_uri": "https://localhost:8080/",
          "height": 573
        },
        "execution": {
          "iopub.execute_input": "2024-08-08T17:06:51.548386Z",
          "iopub.status.busy": "2024-08-08T17:06:51.547976Z",
          "iopub.status.idle": "2024-08-08T17:06:52.397102Z",
          "shell.execute_reply": "2024-08-08T17:06:52.396696Z",
          "shell.execute_reply.started": "2024-08-08T17:06:51.548354Z"
        },
        "id": "946d8446-d61e-44bc-80d5-66cffb8808d1",
        "outputId": "e2ccbb96-a4ae-48c9-f922-af28bb62f886"
      },
      "outputs": [
        {
          "data": {
            "text/html": [
              "<div>\n",
              "<style scoped>\n",
              "    .dataframe tbody tr th:only-of-type {\n",
              "        vertical-align: middle;\n",
              "    }\n",
              "\n",
              "    .dataframe tbody tr th {\n",
              "        vertical-align: top;\n",
              "    }\n",
              "\n",
              "    .dataframe thead th {\n",
              "        text-align: right;\n",
              "    }\n",
              "</style>\n",
              "<table border=\"1\" class=\"dataframe\">\n",
              "  <thead>\n",
              "    <tr style=\"text-align: right;\">\n",
              "      <th></th>\n",
              "      <th>hotel_name</th>\n",
              "      <th>review_title</th>\n",
              "      <th>review_text</th>\n",
              "      <th>rate</th>\n",
              "      <th>tripdate</th>\n",
              "      <th>hotel_url</th>\n",
              "      <th>hotel_image</th>\n",
              "      <th>price_range</th>\n",
              "      <th>rating_value</th>\n",
              "      <th>review_count</th>\n",
              "      <th>street_address</th>\n",
              "      <th>locality</th>\n",
              "      <th>country</th>\n",
              "      <th>combined_review_rating</th>\n",
              "      <th>hotel_description</th>\n",
              "      <th>hotel_description_length</th>\n",
              "      <th>hotel_description_summary</th>\n",
              "    </tr>\n",
              "  </thead>\n",
              "  <tbody>\n",
              "    <tr>\n",
              "      <th>0</th>\n",
              "      <td>Romance Istanbul Hotel</td>\n",
              "      <td>An exceptional boutique hotel, great value for...</td>\n",
              "      <td>This boutique hotel exceeded all expectations,...</td>\n",
              "      <td>5.0</td>\n",
              "      <td>February 2020</td>\n",
              "      <td>https://www.tripadvisor.com/Hotel_Review-g2939...</td>\n",
              "      <td>https://media-cdn.tripadvisor.com/media/photo-...</td>\n",
              "      <td>$ (Based on Average Nightly Rates for a Standa...</td>\n",
              "      <td>5.0</td>\n",
              "      <td>4023.0</td>\n",
              "      <td>Hudavendigar Cd. No:5 Sirkeci</td>\n",
              "      <td>Istanbul</td>\n",
              "      <td>Turkiye</td>\n",
              "      <td>Rating: 5.0, Title: An exceptional boutique ho...</td>\n",
              "      <td>Romance Istanbul Hotel has 39 rooms.Every room...</td>\n",
              "      <td>144</td>\n",
              "      <td>Romance Istanbul Hotel offers 39 elegantly fur...</td>\n",
              "    </tr>\n",
              "    <tr>\n",
              "      <th>1</th>\n",
              "      <td>Romance Istanbul Hotel</td>\n",
              "      <td>You can’t get better than this.</td>\n",
              "      <td>An exceptional stay that exceeded all expectat...</td>\n",
              "      <td>5.0</td>\n",
              "      <td>March 2021</td>\n",
              "      <td>https://www.tripadvisor.com/Hotel_Review-g2939...</td>\n",
              "      <td>https://media-cdn.tripadvisor.com/media/photo-...</td>\n",
              "      <td>$ (Based on Average Nightly Rates for a Standa...</td>\n",
              "      <td>5.0</td>\n",
              "      <td>4023.0</td>\n",
              "      <td>Hudavendigar Cd. No:5 Sirkeci</td>\n",
              "      <td>Istanbul</td>\n",
              "      <td>Turkiye</td>\n",
              "      <td>Rating: 5.0, Title: You can’t get better than ...</td>\n",
              "      <td>Romance Istanbul Hotel has 39 rooms.Every room...</td>\n",
              "      <td>144</td>\n",
              "      <td>Romance Istanbul Hotel offers 39 elegantly fur...</td>\n",
              "    </tr>\n",
              "    <tr>\n",
              "      <th>2</th>\n",
              "      <td>Romance Istanbul Hotel</td>\n",
              "      <td>Exceeds all expectations</td>\n",
              "      <td>This hotel truly goes above and beyond in ever...</td>\n",
              "      <td>5.0</td>\n",
              "      <td>March 2021</td>\n",
              "      <td>https://www.tripadvisor.com/Hotel_Review-g2939...</td>\n",
              "      <td>https://media-cdn.tripadvisor.com/media/photo-...</td>\n",
              "      <td>$ (Based on Average Nightly Rates for a Standa...</td>\n",
              "      <td>5.0</td>\n",
              "      <td>4023.0</td>\n",
              "      <td>Hudavendigar Cd. No:5 Sirkeci</td>\n",
              "      <td>Istanbul</td>\n",
              "      <td>Turkiye</td>\n",
              "      <td>Rating: 5.0, Title: Exceeds all expectations</td>\n",
              "      <td>Romance Istanbul Hotel has 39 rooms.Every room...</td>\n",
              "      <td>144</td>\n",
              "      <td>Romance Istanbul Hotel offers 39 elegantly fur...</td>\n",
              "    </tr>\n",
              "    <tr>\n",
              "      <th>3</th>\n",
              "      <td>Romance Istanbul Hotel</td>\n",
              "      <td>Great Location, Fantastic Accommodations</td>\n",
              "      <td>This hotel offers a superb experience with its...</td>\n",
              "      <td>5.0</td>\n",
              "      <td>August 2021</td>\n",
              "      <td>https://www.tripadvisor.com/Hotel_Review-g2939...</td>\n",
              "      <td>https://media-cdn.tripadvisor.com/media/photo-...</td>\n",
              "      <td>$ (Based on Average Nightly Rates for a Standa...</td>\n",
              "      <td>5.0</td>\n",
              "      <td>4023.0</td>\n",
              "      <td>Hudavendigar Cd. No:5 Sirkeci</td>\n",
              "      <td>Istanbul</td>\n",
              "      <td>Turkiye</td>\n",
              "      <td>Rating: 5.0, Title: Great Location, Fantastic ...</td>\n",
              "      <td>Romance Istanbul Hotel has 39 rooms.Every room...</td>\n",
              "      <td>144</td>\n",
              "      <td>Romance Istanbul Hotel offers 39 elegantly fur...</td>\n",
              "    </tr>\n",
              "    <tr>\n",
              "      <th>4</th>\n",
              "      <td>Romance Istanbul Hotel</td>\n",
              "      <td>Perfection. It is all in the details.</td>\n",
              "      <td>Impeccable attention to detail elevates the ex...</td>\n",
              "      <td>5.0</td>\n",
              "      <td>June 2021</td>\n",
              "      <td>https://www.tripadvisor.com/Hotel_Review-g2939...</td>\n",
              "      <td>https://media-cdn.tripadvisor.com/media/photo-...</td>\n",
              "      <td>$ (Based on Average Nightly Rates for a Standa...</td>\n",
              "      <td>5.0</td>\n",
              "      <td>4023.0</td>\n",
              "      <td>Hudavendigar Cd. No:5 Sirkeci</td>\n",
              "      <td>Istanbul</td>\n",
              "      <td>Turkiye</td>\n",
              "      <td>Rating: 5.0, Title: Perfection. It is all in t...</td>\n",
              "      <td>Romance Istanbul Hotel has 39 rooms.Every room...</td>\n",
              "      <td>144</td>\n",
              "      <td>Romance Istanbul Hotel offers 39 elegantly fur...</td>\n",
              "    </tr>\n",
              "  </tbody>\n",
              "</table>\n",
              "</div>"
            ],
            "text/plain": [
              "               hotel_name                                       review_title  \\\n",
              "0  Romance Istanbul Hotel  An exceptional boutique hotel, great value for...   \n",
              "1  Romance Istanbul Hotel                    You can’t get better than this.   \n",
              "2  Romance Istanbul Hotel                           Exceeds all expectations   \n",
              "3  Romance Istanbul Hotel           Great Location, Fantastic Accommodations   \n",
              "4  Romance Istanbul Hotel              Perfection. It is all in the details.   \n",
              "\n",
              "                                         review_text  rate        tripdate  \\\n",
              "0  This boutique hotel exceeded all expectations,...   5.0   February 2020   \n",
              "1  An exceptional stay that exceeded all expectat...   5.0      March 2021   \n",
              "2  This hotel truly goes above and beyond in ever...   5.0      March 2021   \n",
              "3  This hotel offers a superb experience with its...   5.0     August 2021   \n",
              "4  Impeccable attention to detail elevates the ex...   5.0       June 2021   \n",
              "\n",
              "                                           hotel_url  \\\n",
              "0  https://www.tripadvisor.com/Hotel_Review-g2939...   \n",
              "1  https://www.tripadvisor.com/Hotel_Review-g2939...   \n",
              "2  https://www.tripadvisor.com/Hotel_Review-g2939...   \n",
              "3  https://www.tripadvisor.com/Hotel_Review-g2939...   \n",
              "4  https://www.tripadvisor.com/Hotel_Review-g2939...   \n",
              "\n",
              "                                         hotel_image  \\\n",
              "0  https://media-cdn.tripadvisor.com/media/photo-...   \n",
              "1  https://media-cdn.tripadvisor.com/media/photo-...   \n",
              "2  https://media-cdn.tripadvisor.com/media/photo-...   \n",
              "3  https://media-cdn.tripadvisor.com/media/photo-...   \n",
              "4  https://media-cdn.tripadvisor.com/media/photo-...   \n",
              "\n",
              "                                         price_range  rating_value  \\\n",
              "0  $ (Based on Average Nightly Rates for a Standa...           5.0   \n",
              "1  $ (Based on Average Nightly Rates for a Standa...           5.0   \n",
              "2  $ (Based on Average Nightly Rates for a Standa...           5.0   \n",
              "3  $ (Based on Average Nightly Rates for a Standa...           5.0   \n",
              "4  $ (Based on Average Nightly Rates for a Standa...           5.0   \n",
              "\n",
              "   review_count                 street_address  locality  country  \\\n",
              "0        4023.0  Hudavendigar Cd. No:5 Sirkeci  Istanbul  Turkiye   \n",
              "1        4023.0  Hudavendigar Cd. No:5 Sirkeci  Istanbul  Turkiye   \n",
              "2        4023.0  Hudavendigar Cd. No:5 Sirkeci  Istanbul  Turkiye   \n",
              "3        4023.0  Hudavendigar Cd. No:5 Sirkeci  Istanbul  Turkiye   \n",
              "4        4023.0  Hudavendigar Cd. No:5 Sirkeci  Istanbul  Turkiye   \n",
              "\n",
              "                              combined_review_rating  \\\n",
              "0  Rating: 5.0, Title: An exceptional boutique ho...   \n",
              "1  Rating: 5.0, Title: You can’t get better than ...   \n",
              "2       Rating: 5.0, Title: Exceeds all expectations   \n",
              "3  Rating: 5.0, Title: Great Location, Fantastic ...   \n",
              "4  Rating: 5.0, Title: Perfection. It is all in t...   \n",
              "\n",
              "                                   hotel_description  \\\n",
              "0  Romance Istanbul Hotel has 39 rooms.Every room...   \n",
              "1  Romance Istanbul Hotel has 39 rooms.Every room...   \n",
              "2  Romance Istanbul Hotel has 39 rooms.Every room...   \n",
              "3  Romance Istanbul Hotel has 39 rooms.Every room...   \n",
              "4  Romance Istanbul Hotel has 39 rooms.Every room...   \n",
              "\n",
              "   hotel_description_length                          hotel_description_summary  \n",
              "0                       144  Romance Istanbul Hotel offers 39 elegantly fur...  \n",
              "1                       144  Romance Istanbul Hotel offers 39 elegantly fur...  \n",
              "2                       144  Romance Istanbul Hotel offers 39 elegantly fur...  \n",
              "3                       144  Romance Istanbul Hotel offers 39 elegantly fur...  \n",
              "4                       144  Romance Istanbul Hotel offers 39 elegantly fur...  "
            ]
          },
          "execution_count": 1,
          "metadata": {},
          "output_type": "execute_result"
        }
      ],
      "source": [
        "import pandas as pd\n",
        "df = pd.read_csv('/content/drive/MyDrive/data_with_summary.csv')\n",
        "df.head()"
      ]
    },
    {
      "cell_type": "code",
      "execution_count": 2,
      "id": "SFmImnmw7Fxb",
      "metadata": {
        "colab": {
          "base_uri": "https://localhost:8080/"
        },
        "id": "SFmImnmw7Fxb",
        "outputId": "0055410e-c0c1-425a-aea3-9aa8f5bd59d3"
      },
      "outputs": [
        {
          "name": "stdout",
          "output_type": "stream",
          "text": [
            "<class 'pandas.core.frame.DataFrame'>\n",
            "RangeIndex: 5997 entries, 0 to 5996\n",
            "Data columns (total 17 columns):\n",
            " #   Column                     Non-Null Count  Dtype  \n",
            "---  ------                     --------------  -----  \n",
            " 0   hotel_name                 5997 non-null   object \n",
            " 1   review_title               5997 non-null   object \n",
            " 2   review_text                5997 non-null   object \n",
            " 3   rate                       5997 non-null   float64\n",
            " 4   tripdate                   5997 non-null   object \n",
            " 5   hotel_url                  5997 non-null   object \n",
            " 6   hotel_image                5997 non-null   object \n",
            " 7   price_range                5997 non-null   object \n",
            " 8   rating_value               5997 non-null   float64\n",
            " 9   review_count               5997 non-null   float64\n",
            " 10  street_address             5997 non-null   object \n",
            " 11  locality                   5997 non-null   object \n",
            " 12  country                    5997 non-null   object \n",
            " 13  combined_review_rating     5997 non-null   object \n",
            " 14  hotel_description          5997 non-null   object \n",
            " 15  hotel_description_length   5997 non-null   int64  \n",
            " 16  hotel_description_summary  5997 non-null   object \n",
            "dtypes: float64(3), int64(1), object(13)\n",
            "memory usage: 796.6+ KB\n"
          ]
        }
      ],
      "source": [
        "df.info()"
      ]
    },
    {
      "cell_type": "code",
      "execution_count": 3,
      "id": "CIO8T_p46wh-",
      "metadata": {
        "colab": {
          "base_uri": "https://localhost:8080/"
        },
        "id": "CIO8T_p46wh-",
        "outputId": "6f557e21-9552-47a6-eb7b-63ad2e04b59e"
      },
      "outputs": [
        {
          "name": "stdout",
          "output_type": "stream",
          "text": [
            "Column:  hotel_name\n",
            "Unique Length:  150\n",
            "Column:  review_title\n",
            "Unique Length:  5314\n",
            "Column:  review_text\n",
            "Unique Length:  5994\n",
            "Column:  rate\n",
            "Unique Length:  10\n",
            "Column:  tripdate\n",
            "Unique Length:  76\n",
            "Column:  hotel_url\n",
            "Unique Length:  600\n",
            "Column:  hotel_image\n",
            "Unique Length:  150\n",
            "Column:  price_range\n",
            "Unique Length:  3\n",
            "Column:  rating_value\n",
            "Unique Length:  5\n",
            "Column:  review_count\n",
            "Unique Length:  147\n",
            "Column:  street_address\n",
            "Unique Length:  150\n",
            "Column:  locality\n",
            "Unique Length:  5\n",
            "Column:  country\n",
            "Unique Length:  5\n",
            "Column:  combined_review_rating\n",
            "Unique Length:  5466\n",
            "Column:  hotel_description\n",
            "Unique Length:  150\n",
            "Column:  hotel_description_length\n",
            "Unique Length:  107\n",
            "Column:  hotel_description_summary\n",
            "Unique Length:  150\n"
          ]
        }
      ],
      "source": [
        "# prompt: print all unique length of column\n",
        "for column in df.columns:\n",
        "  print(\"Column: \", column)\n",
        "  print(\"Unique Length: \", df[column].unique().size)\n"
      ]
    },
    {
      "cell_type": "code",
      "execution_count": 4,
      "id": "5126a71a-2b36-495a-bf0f-ff042733ee5b",
      "metadata": {
        "execution": {
          "iopub.execute_input": "2024-08-08T17:06:56.730506Z",
          "iopub.status.busy": "2024-08-08T17:06:56.730194Z",
          "iopub.status.idle": "2024-08-08T17:06:56.739771Z",
          "shell.execute_reply": "2024-08-08T17:06:56.739299Z",
          "shell.execute_reply.started": "2024-08-08T17:06:56.730486Z"
        },
        "id": "5126a71a-2b36-495a-bf0f-ff042733ee5b"
      },
      "outputs": [],
      "source": [
        "df = df.drop(['hotel_description_length', 'combined_review_rating'], axis=1)"
      ]
    },
    {
      "cell_type": "code",
      "execution_count": 5,
      "id": "IRcgLkAs7yJ3",
      "metadata": {
        "colab": {
          "base_uri": "https://localhost:8080/",
          "height": 573
        },
        "id": "IRcgLkAs7yJ3",
        "outputId": "9eb38e6e-9217-4f1c-eb9f-1e1dcbf799ca"
      },
      "outputs": [
        {
          "data": {
            "text/html": [
              "<div>\n",
              "<style scoped>\n",
              "    .dataframe tbody tr th:only-of-type {\n",
              "        vertical-align: middle;\n",
              "    }\n",
              "\n",
              "    .dataframe tbody tr th {\n",
              "        vertical-align: top;\n",
              "    }\n",
              "\n",
              "    .dataframe thead th {\n",
              "        text-align: right;\n",
              "    }\n",
              "</style>\n",
              "<table border=\"1\" class=\"dataframe\">\n",
              "  <thead>\n",
              "    <tr style=\"text-align: right;\">\n",
              "      <th></th>\n",
              "      <th>hotel_name</th>\n",
              "      <th>hotel_description</th>\n",
              "      <th>hotel_description_summary</th>\n",
              "      <th>rating_value</th>\n",
              "      <th>review_count</th>\n",
              "      <th>review_title</th>\n",
              "      <th>review_text</th>\n",
              "      <th>rate</th>\n",
              "      <th>tripdate</th>\n",
              "      <th>price_range</th>\n",
              "      <th>country</th>\n",
              "      <th>locality</th>\n",
              "      <th>street_address</th>\n",
              "      <th>hotel_url</th>\n",
              "      <th>hotel_image</th>\n",
              "    </tr>\n",
              "  </thead>\n",
              "  <tbody>\n",
              "    <tr>\n",
              "      <th>0</th>\n",
              "      <td>Romance Istanbul Hotel</td>\n",
              "      <td>Romance Istanbul Hotel has 39 rooms.Every room...</td>\n",
              "      <td>Romance Istanbul Hotel offers 39 elegantly fur...</td>\n",
              "      <td>5.0</td>\n",
              "      <td>4023.0</td>\n",
              "      <td>An exceptional boutique hotel, great value for...</td>\n",
              "      <td>This boutique hotel exceeded all expectations,...</td>\n",
              "      <td>5.0</td>\n",
              "      <td>February 2020</td>\n",
              "      <td>$ (Based on Average Nightly Rates for a Standa...</td>\n",
              "      <td>Turkiye</td>\n",
              "      <td>Istanbul</td>\n",
              "      <td>Hudavendigar Cd. No:5 Sirkeci</td>\n",
              "      <td>https://www.tripadvisor.com/Hotel_Review-g2939...</td>\n",
              "      <td>https://media-cdn.tripadvisor.com/media/photo-...</td>\n",
              "    </tr>\n",
              "    <tr>\n",
              "      <th>1</th>\n",
              "      <td>Romance Istanbul Hotel</td>\n",
              "      <td>Romance Istanbul Hotel has 39 rooms.Every room...</td>\n",
              "      <td>Romance Istanbul Hotel offers 39 elegantly fur...</td>\n",
              "      <td>5.0</td>\n",
              "      <td>4023.0</td>\n",
              "      <td>You can’t get better than this.</td>\n",
              "      <td>An exceptional stay that exceeded all expectat...</td>\n",
              "      <td>5.0</td>\n",
              "      <td>March 2021</td>\n",
              "      <td>$ (Based on Average Nightly Rates for a Standa...</td>\n",
              "      <td>Turkiye</td>\n",
              "      <td>Istanbul</td>\n",
              "      <td>Hudavendigar Cd. No:5 Sirkeci</td>\n",
              "      <td>https://www.tripadvisor.com/Hotel_Review-g2939...</td>\n",
              "      <td>https://media-cdn.tripadvisor.com/media/photo-...</td>\n",
              "    </tr>\n",
              "    <tr>\n",
              "      <th>2</th>\n",
              "      <td>Romance Istanbul Hotel</td>\n",
              "      <td>Romance Istanbul Hotel has 39 rooms.Every room...</td>\n",
              "      <td>Romance Istanbul Hotel offers 39 elegantly fur...</td>\n",
              "      <td>5.0</td>\n",
              "      <td>4023.0</td>\n",
              "      <td>Exceeds all expectations</td>\n",
              "      <td>This hotel truly goes above and beyond in ever...</td>\n",
              "      <td>5.0</td>\n",
              "      <td>March 2021</td>\n",
              "      <td>$ (Based on Average Nightly Rates for a Standa...</td>\n",
              "      <td>Turkiye</td>\n",
              "      <td>Istanbul</td>\n",
              "      <td>Hudavendigar Cd. No:5 Sirkeci</td>\n",
              "      <td>https://www.tripadvisor.com/Hotel_Review-g2939...</td>\n",
              "      <td>https://media-cdn.tripadvisor.com/media/photo-...</td>\n",
              "    </tr>\n",
              "    <tr>\n",
              "      <th>3</th>\n",
              "      <td>Romance Istanbul Hotel</td>\n",
              "      <td>Romance Istanbul Hotel has 39 rooms.Every room...</td>\n",
              "      <td>Romance Istanbul Hotel offers 39 elegantly fur...</td>\n",
              "      <td>5.0</td>\n",
              "      <td>4023.0</td>\n",
              "      <td>Great Location, Fantastic Accommodations</td>\n",
              "      <td>This hotel offers a superb experience with its...</td>\n",
              "      <td>5.0</td>\n",
              "      <td>August 2021</td>\n",
              "      <td>$ (Based on Average Nightly Rates for a Standa...</td>\n",
              "      <td>Turkiye</td>\n",
              "      <td>Istanbul</td>\n",
              "      <td>Hudavendigar Cd. No:5 Sirkeci</td>\n",
              "      <td>https://www.tripadvisor.com/Hotel_Review-g2939...</td>\n",
              "      <td>https://media-cdn.tripadvisor.com/media/photo-...</td>\n",
              "    </tr>\n",
              "    <tr>\n",
              "      <th>4</th>\n",
              "      <td>Romance Istanbul Hotel</td>\n",
              "      <td>Romance Istanbul Hotel has 39 rooms.Every room...</td>\n",
              "      <td>Romance Istanbul Hotel offers 39 elegantly fur...</td>\n",
              "      <td>5.0</td>\n",
              "      <td>4023.0</td>\n",
              "      <td>Perfection. It is all in the details.</td>\n",
              "      <td>Impeccable attention to detail elevates the ex...</td>\n",
              "      <td>5.0</td>\n",
              "      <td>June 2021</td>\n",
              "      <td>$ (Based on Average Nightly Rates for a Standa...</td>\n",
              "      <td>Turkiye</td>\n",
              "      <td>Istanbul</td>\n",
              "      <td>Hudavendigar Cd. No:5 Sirkeci</td>\n",
              "      <td>https://www.tripadvisor.com/Hotel_Review-g2939...</td>\n",
              "      <td>https://media-cdn.tripadvisor.com/media/photo-...</td>\n",
              "    </tr>\n",
              "  </tbody>\n",
              "</table>\n",
              "</div>"
            ],
            "text/plain": [
              "               hotel_name                                  hotel_description  \\\n",
              "0  Romance Istanbul Hotel  Romance Istanbul Hotel has 39 rooms.Every room...   \n",
              "1  Romance Istanbul Hotel  Romance Istanbul Hotel has 39 rooms.Every room...   \n",
              "2  Romance Istanbul Hotel  Romance Istanbul Hotel has 39 rooms.Every room...   \n",
              "3  Romance Istanbul Hotel  Romance Istanbul Hotel has 39 rooms.Every room...   \n",
              "4  Romance Istanbul Hotel  Romance Istanbul Hotel has 39 rooms.Every room...   \n",
              "\n",
              "                           hotel_description_summary  rating_value  \\\n",
              "0  Romance Istanbul Hotel offers 39 elegantly fur...           5.0   \n",
              "1  Romance Istanbul Hotel offers 39 elegantly fur...           5.0   \n",
              "2  Romance Istanbul Hotel offers 39 elegantly fur...           5.0   \n",
              "3  Romance Istanbul Hotel offers 39 elegantly fur...           5.0   \n",
              "4  Romance Istanbul Hotel offers 39 elegantly fur...           5.0   \n",
              "\n",
              "   review_count                                       review_title  \\\n",
              "0        4023.0  An exceptional boutique hotel, great value for...   \n",
              "1        4023.0                    You can’t get better than this.   \n",
              "2        4023.0                           Exceeds all expectations   \n",
              "3        4023.0           Great Location, Fantastic Accommodations   \n",
              "4        4023.0              Perfection. It is all in the details.   \n",
              "\n",
              "                                         review_text  rate        tripdate  \\\n",
              "0  This boutique hotel exceeded all expectations,...   5.0   February 2020   \n",
              "1  An exceptional stay that exceeded all expectat...   5.0      March 2021   \n",
              "2  This hotel truly goes above and beyond in ever...   5.0      March 2021   \n",
              "3  This hotel offers a superb experience with its...   5.0     August 2021   \n",
              "4  Impeccable attention to detail elevates the ex...   5.0       June 2021   \n",
              "\n",
              "                                         price_range  country  locality  \\\n",
              "0  $ (Based on Average Nightly Rates for a Standa...  Turkiye  Istanbul   \n",
              "1  $ (Based on Average Nightly Rates for a Standa...  Turkiye  Istanbul   \n",
              "2  $ (Based on Average Nightly Rates for a Standa...  Turkiye  Istanbul   \n",
              "3  $ (Based on Average Nightly Rates for a Standa...  Turkiye  Istanbul   \n",
              "4  $ (Based on Average Nightly Rates for a Standa...  Turkiye  Istanbul   \n",
              "\n",
              "                  street_address  \\\n",
              "0  Hudavendigar Cd. No:5 Sirkeci   \n",
              "1  Hudavendigar Cd. No:5 Sirkeci   \n",
              "2  Hudavendigar Cd. No:5 Sirkeci   \n",
              "3  Hudavendigar Cd. No:5 Sirkeci   \n",
              "4  Hudavendigar Cd. No:5 Sirkeci   \n",
              "\n",
              "                                           hotel_url  \\\n",
              "0  https://www.tripadvisor.com/Hotel_Review-g2939...   \n",
              "1  https://www.tripadvisor.com/Hotel_Review-g2939...   \n",
              "2  https://www.tripadvisor.com/Hotel_Review-g2939...   \n",
              "3  https://www.tripadvisor.com/Hotel_Review-g2939...   \n",
              "4  https://www.tripadvisor.com/Hotel_Review-g2939...   \n",
              "\n",
              "                                         hotel_image  \n",
              "0  https://media-cdn.tripadvisor.com/media/photo-...  \n",
              "1  https://media-cdn.tripadvisor.com/media/photo-...  \n",
              "2  https://media-cdn.tripadvisor.com/media/photo-...  \n",
              "3  https://media-cdn.tripadvisor.com/media/photo-...  \n",
              "4  https://media-cdn.tripadvisor.com/media/photo-...  "
            ]
          },
          "execution_count": 5,
          "metadata": {},
          "output_type": "execute_result"
        }
      ],
      "source": [
        "df = df[['hotel_name', 'hotel_description', 'hotel_description_summary', 'rating_value', 'review_count',\n",
        "         'review_title' , 'review_text', 'rate', 'tripdate', 'price_range', 'country', 'locality', 'street_address',\n",
        "         'hotel_url' , 'hotel_image']]\n",
        "df.head()\n"
      ]
    },
    {
      "cell_type": "code",
      "execution_count": 6,
      "id": "AOiKaIMt9a1e",
      "metadata": {
        "colab": {
          "base_uri": "https://localhost:8080/"
        },
        "id": "AOiKaIMt9a1e",
        "outputId": "dbdcdbd1-b50d-4314-ca12-3d5d169e113e"
      },
      "outputs": [
        {
          "data": {
            "text/plain": [
              "array(['$ (Based on Average Nightly Rates for a Standard Room from our Partners)',\n",
              "       '$$ (Based on Average Nightly Rates for a Standard Room from our Partners)',\n",
              "       '$$$ (Based on Average Nightly Rates for a Standard Room from our Partners)'],\n",
              "      dtype=object)"
            ]
          },
          "execution_count": 6,
          "metadata": {},
          "output_type": "execute_result"
        }
      ],
      "source": [
        "df['price_range'].unique()"
      ]
    },
    {
      "cell_type": "code",
      "execution_count": 7,
      "id": "lXFVp4B79jX6",
      "metadata": {
        "id": "lXFVp4B79jX6"
      },
      "outputs": [],
      "source": [
        "def classify_price_level(price):\n",
        "    \"\"\"Classify price level into 'affordable, moderate, or expensive'.\"\"\"\n",
        "    if '$$$' in price:\n",
        "        return 'expensive, high-end, premium'\n",
        "    elif '$$' in price:\n",
        "        return 'moderate, mid-range, reasonable'\n",
        "    elif '$' in price:\n",
        "        return 'affordable, budget, economical'\n",
        "    else:\n",
        "        return 'unknown'\n",
        "\n",
        "df['price_range'] = df['price_range'].apply(classify_price_level)"
      ]
    },
    {
      "cell_type": "code",
      "execution_count": 8,
      "id": "2hWltNKs_Y1H",
      "metadata": {
        "colab": {
          "base_uri": "https://localhost:8080/"
        },
        "id": "2hWltNKs_Y1H",
        "outputId": "030553bf-9b67-4730-f024-597a6e669342"
      },
      "outputs": [
        {
          "data": {
            "text/plain": [
              "array(['affordable, budget, economical',\n",
              "       'moderate, mid-range, reasonable', 'expensive, high-end, premium'],\n",
              "      dtype=object)"
            ]
          },
          "execution_count": 8,
          "metadata": {},
          "output_type": "execute_result"
        }
      ],
      "source": [
        "df['price_range'].unique()"
      ]
    },
    {
      "cell_type": "code",
      "execution_count": 9,
      "id": "GVCR4TbQA139",
      "metadata": {
        "id": "GVCR4TbQA139"
      },
      "outputs": [],
      "source": [
        "df['tripdate'] = pd.to_datetime(df['tripdate'].str.strip(), format='%B %Y', errors='coerce')"
      ]
    },
    {
      "cell_type": "code",
      "execution_count": 10,
      "id": "6h6eFUu3BxLn",
      "metadata": {
        "id": "6h6eFUu3BxLn"
      },
      "outputs": [],
      "source": [
        "df['tripdate'] = df['tripdate'].dt.to_period('M').astype(str)\n"
      ]
    },
    {
      "cell_type": "code",
      "execution_count": 11,
      "id": "X9ojSflCBVe7",
      "metadata": {
        "colab": {
          "base_uri": "https://localhost:8080/",
          "height": 486
        },
        "id": "X9ojSflCBVe7",
        "outputId": "643a62f1-7f6e-45c3-e6f8-f39a7c9a23e7"
      },
      "outputs": [
        {
          "data": {
            "text/html": [
              "<div>\n",
              "<style scoped>\n",
              "    .dataframe tbody tr th:only-of-type {\n",
              "        vertical-align: middle;\n",
              "    }\n",
              "\n",
              "    .dataframe tbody tr th {\n",
              "        vertical-align: top;\n",
              "    }\n",
              "\n",
              "    .dataframe thead th {\n",
              "        text-align: right;\n",
              "    }\n",
              "</style>\n",
              "<table border=\"1\" class=\"dataframe\">\n",
              "  <thead>\n",
              "    <tr style=\"text-align: right;\">\n",
              "      <th></th>\n",
              "      <th>hotel_name</th>\n",
              "      <th>hotel_description</th>\n",
              "      <th>hotel_description_summary</th>\n",
              "      <th>rating_value</th>\n",
              "      <th>review_count</th>\n",
              "      <th>review_title</th>\n",
              "      <th>review_text</th>\n",
              "      <th>rate</th>\n",
              "      <th>tripdate</th>\n",
              "      <th>price_range</th>\n",
              "      <th>country</th>\n",
              "      <th>locality</th>\n",
              "      <th>street_address</th>\n",
              "      <th>hotel_url</th>\n",
              "      <th>hotel_image</th>\n",
              "    </tr>\n",
              "  </thead>\n",
              "  <tbody>\n",
              "    <tr>\n",
              "      <th>0</th>\n",
              "      <td>Romance Istanbul Hotel</td>\n",
              "      <td>Romance Istanbul Hotel has 39 rooms.Every room...</td>\n",
              "      <td>Romance Istanbul Hotel offers 39 elegantly fur...</td>\n",
              "      <td>5.0</td>\n",
              "      <td>4023.0</td>\n",
              "      <td>An exceptional boutique hotel, great value for...</td>\n",
              "      <td>This boutique hotel exceeded all expectations,...</td>\n",
              "      <td>5.0</td>\n",
              "      <td>2020-02</td>\n",
              "      <td>affordable, budget, economical</td>\n",
              "      <td>Turkiye</td>\n",
              "      <td>Istanbul</td>\n",
              "      <td>Hudavendigar Cd. No:5 Sirkeci</td>\n",
              "      <td>https://www.tripadvisor.com/Hotel_Review-g2939...</td>\n",
              "      <td>https://media-cdn.tripadvisor.com/media/photo-...</td>\n",
              "    </tr>\n",
              "    <tr>\n",
              "      <th>1</th>\n",
              "      <td>Romance Istanbul Hotel</td>\n",
              "      <td>Romance Istanbul Hotel has 39 rooms.Every room...</td>\n",
              "      <td>Romance Istanbul Hotel offers 39 elegantly fur...</td>\n",
              "      <td>5.0</td>\n",
              "      <td>4023.0</td>\n",
              "      <td>You can’t get better than this.</td>\n",
              "      <td>An exceptional stay that exceeded all expectat...</td>\n",
              "      <td>5.0</td>\n",
              "      <td>2021-03</td>\n",
              "      <td>affordable, budget, economical</td>\n",
              "      <td>Turkiye</td>\n",
              "      <td>Istanbul</td>\n",
              "      <td>Hudavendigar Cd. No:5 Sirkeci</td>\n",
              "      <td>https://www.tripadvisor.com/Hotel_Review-g2939...</td>\n",
              "      <td>https://media-cdn.tripadvisor.com/media/photo-...</td>\n",
              "    </tr>\n",
              "    <tr>\n",
              "      <th>2</th>\n",
              "      <td>Romance Istanbul Hotel</td>\n",
              "      <td>Romance Istanbul Hotel has 39 rooms.Every room...</td>\n",
              "      <td>Romance Istanbul Hotel offers 39 elegantly fur...</td>\n",
              "      <td>5.0</td>\n",
              "      <td>4023.0</td>\n",
              "      <td>Exceeds all expectations</td>\n",
              "      <td>This hotel truly goes above and beyond in ever...</td>\n",
              "      <td>5.0</td>\n",
              "      <td>2021-03</td>\n",
              "      <td>affordable, budget, economical</td>\n",
              "      <td>Turkiye</td>\n",
              "      <td>Istanbul</td>\n",
              "      <td>Hudavendigar Cd. No:5 Sirkeci</td>\n",
              "      <td>https://www.tripadvisor.com/Hotel_Review-g2939...</td>\n",
              "      <td>https://media-cdn.tripadvisor.com/media/photo-...</td>\n",
              "    </tr>\n",
              "    <tr>\n",
              "      <th>3</th>\n",
              "      <td>Romance Istanbul Hotel</td>\n",
              "      <td>Romance Istanbul Hotel has 39 rooms.Every room...</td>\n",
              "      <td>Romance Istanbul Hotel offers 39 elegantly fur...</td>\n",
              "      <td>5.0</td>\n",
              "      <td>4023.0</td>\n",
              "      <td>Great Location, Fantastic Accommodations</td>\n",
              "      <td>This hotel offers a superb experience with its...</td>\n",
              "      <td>5.0</td>\n",
              "      <td>2021-08</td>\n",
              "      <td>affordable, budget, economical</td>\n",
              "      <td>Turkiye</td>\n",
              "      <td>Istanbul</td>\n",
              "      <td>Hudavendigar Cd. No:5 Sirkeci</td>\n",
              "      <td>https://www.tripadvisor.com/Hotel_Review-g2939...</td>\n",
              "      <td>https://media-cdn.tripadvisor.com/media/photo-...</td>\n",
              "    </tr>\n",
              "    <tr>\n",
              "      <th>4</th>\n",
              "      <td>Romance Istanbul Hotel</td>\n",
              "      <td>Romance Istanbul Hotel has 39 rooms.Every room...</td>\n",
              "      <td>Romance Istanbul Hotel offers 39 elegantly fur...</td>\n",
              "      <td>5.0</td>\n",
              "      <td>4023.0</td>\n",
              "      <td>Perfection. It is all in the details.</td>\n",
              "      <td>Impeccable attention to detail elevates the ex...</td>\n",
              "      <td>5.0</td>\n",
              "      <td>2021-06</td>\n",
              "      <td>affordable, budget, economical</td>\n",
              "      <td>Turkiye</td>\n",
              "      <td>Istanbul</td>\n",
              "      <td>Hudavendigar Cd. No:5 Sirkeci</td>\n",
              "      <td>https://www.tripadvisor.com/Hotel_Review-g2939...</td>\n",
              "      <td>https://media-cdn.tripadvisor.com/media/photo-...</td>\n",
              "    </tr>\n",
              "  </tbody>\n",
              "</table>\n",
              "</div>"
            ],
            "text/plain": [
              "               hotel_name                                  hotel_description  \\\n",
              "0  Romance Istanbul Hotel  Romance Istanbul Hotel has 39 rooms.Every room...   \n",
              "1  Romance Istanbul Hotel  Romance Istanbul Hotel has 39 rooms.Every room...   \n",
              "2  Romance Istanbul Hotel  Romance Istanbul Hotel has 39 rooms.Every room...   \n",
              "3  Romance Istanbul Hotel  Romance Istanbul Hotel has 39 rooms.Every room...   \n",
              "4  Romance Istanbul Hotel  Romance Istanbul Hotel has 39 rooms.Every room...   \n",
              "\n",
              "                           hotel_description_summary  rating_value  \\\n",
              "0  Romance Istanbul Hotel offers 39 elegantly fur...           5.0   \n",
              "1  Romance Istanbul Hotel offers 39 elegantly fur...           5.0   \n",
              "2  Romance Istanbul Hotel offers 39 elegantly fur...           5.0   \n",
              "3  Romance Istanbul Hotel offers 39 elegantly fur...           5.0   \n",
              "4  Romance Istanbul Hotel offers 39 elegantly fur...           5.0   \n",
              "\n",
              "   review_count                                       review_title  \\\n",
              "0        4023.0  An exceptional boutique hotel, great value for...   \n",
              "1        4023.0                    You can’t get better than this.   \n",
              "2        4023.0                           Exceeds all expectations   \n",
              "3        4023.0           Great Location, Fantastic Accommodations   \n",
              "4        4023.0              Perfection. It is all in the details.   \n",
              "\n",
              "                                         review_text  rate tripdate  \\\n",
              "0  This boutique hotel exceeded all expectations,...   5.0  2020-02   \n",
              "1  An exceptional stay that exceeded all expectat...   5.0  2021-03   \n",
              "2  This hotel truly goes above and beyond in ever...   5.0  2021-03   \n",
              "3  This hotel offers a superb experience with its...   5.0  2021-08   \n",
              "4  Impeccable attention to detail elevates the ex...   5.0  2021-06   \n",
              "\n",
              "                      price_range  country  locality  \\\n",
              "0  affordable, budget, economical  Turkiye  Istanbul   \n",
              "1  affordable, budget, economical  Turkiye  Istanbul   \n",
              "2  affordable, budget, economical  Turkiye  Istanbul   \n",
              "3  affordable, budget, economical  Turkiye  Istanbul   \n",
              "4  affordable, budget, economical  Turkiye  Istanbul   \n",
              "\n",
              "                  street_address  \\\n",
              "0  Hudavendigar Cd. No:5 Sirkeci   \n",
              "1  Hudavendigar Cd. No:5 Sirkeci   \n",
              "2  Hudavendigar Cd. No:5 Sirkeci   \n",
              "3  Hudavendigar Cd. No:5 Sirkeci   \n",
              "4  Hudavendigar Cd. No:5 Sirkeci   \n",
              "\n",
              "                                           hotel_url  \\\n",
              "0  https://www.tripadvisor.com/Hotel_Review-g2939...   \n",
              "1  https://www.tripadvisor.com/Hotel_Review-g2939...   \n",
              "2  https://www.tripadvisor.com/Hotel_Review-g2939...   \n",
              "3  https://www.tripadvisor.com/Hotel_Review-g2939...   \n",
              "4  https://www.tripadvisor.com/Hotel_Review-g2939...   \n",
              "\n",
              "                                         hotel_image  \n",
              "0  https://media-cdn.tripadvisor.com/media/photo-...  \n",
              "1  https://media-cdn.tripadvisor.com/media/photo-...  \n",
              "2  https://media-cdn.tripadvisor.com/media/photo-...  \n",
              "3  https://media-cdn.tripadvisor.com/media/photo-...  \n",
              "4  https://media-cdn.tripadvisor.com/media/photo-...  "
            ]
          },
          "execution_count": 11,
          "metadata": {},
          "output_type": "execute_result"
        }
      ],
      "source": [
        "df.head()"
      ]
    },
    {
      "cell_type": "code",
      "execution_count": 12,
      "id": "w6i-1DR9COLa",
      "metadata": {
        "colab": {
          "base_uri": "https://localhost:8080/",
          "height": 957
        },
        "id": "w6i-1DR9COLa",
        "outputId": "7ac18615-2a6b-4a28-8cad-0b640063f7dc"
      },
      "outputs": [
        {
          "data": {
            "image/png": "[encoded data removed]",
            "text/plain": [
              "<Figure size 1000x500 with 1 Axes>"
            ]
          },
          "metadata": {},
          "output_type": "display_data"
        },
        {
          "data": {
            "image/png": "[encoded data removed]",
            "text/plain": [
              "<Figure size 1000x500 with 1 Axes>"
            ]
          },
          "metadata": {},
          "output_type": "display_data"
        }
      ],
      "source": [
        "import matplotlib.pyplot as plt\n",
        "import seaborn as sns\n",
        "\n",
        "# Plot distribution of ratings\n",
        "plt.figure(figsize=(10, 5))\n",
        "sns.histplot(df['rating_value'], bins=10, kde=True)\n",
        "plt.title('Distribution of Ratings')\n",
        "plt.xlabel('Rating Value')\n",
        "plt.ylabel('Frequency')\n",
        "plt.show()\n",
        "\n",
        "# Plot price range distribution\n",
        "plt.figure(figsize=(10, 5))\n",
        "sns.countplot(data=df, x='price_range', order=df['price_range'].value_counts().index)\n",
        "plt.title('Distribution of Price Ranges')\n",
        "plt.xlabel('Price Range')\n",
        "plt.ylabel('Count')\n",
        "plt.show()\n"
      ]
    },
    {
      "cell_type": "code",
      "execution_count": 13,
      "id": "S0WvuoAU_nCX",
      "metadata": {
        "id": "S0WvuoAU_nCX"
      },
      "outputs": [],
      "source": [
        "df['full_review'] = df['review_title'] + ': ' + df['review_text']"
      ]
    },
    {
      "cell_type": "code",
      "execution_count": 14,
      "id": "0Enp5VcHAGmc",
      "metadata": {
        "id": "0Enp5VcHAGmc"
      },
      "outputs": [],
      "source": [
        "df['full_address'] = df['street_address'] + ', ' + df['locality'] + ', ' + df['country']"
      ]
    },
    {
      "cell_type": "code",
      "execution_count": 16,
      "id": "375daa90",
      "metadata": {},
      "outputs": [
        {
          "name": "stdout",
          "output_type": "stream",
          "text": [
            "Defaulting to user installation because normal site-packages is not writeable\n",
            "Collecting nltk\n",
            "  Downloading nltk-3.8.2-py3-none-any.whl.metadata (2.9 kB)\n",
            "Requirement already satisfied: click in c:\\users\\manas\\appdata\\local\\packages\\pythonsoftwarefoundation.python.3.12_qbz5n2kfra8p0\\localcache\\local-packages\\python312\\site-packages (from nltk) (8.1.7)\n",
            "Requirement already satisfied: joblib in c:\\users\\manas\\appdata\\local\\packages\\pythonsoftwarefoundation.python.3.12_qbz5n2kfra8p0\\localcache\\local-packages\\python312\\site-packages (from nltk) (1.3.2)\n",
            "Requirement already satisfied: regex>=2021.8.3 in c:\\users\\manas\\appdata\\local\\packages\\pythonsoftwarefoundation.python.3.12_qbz5n2kfra8p0\\localcache\\local-packages\\python312\\site-packages (from nltk) (2024.4.28)\n",
            "Requirement already satisfied: tqdm in c:\\users\\manas\\appdata\\local\\packages\\pythonsoftwarefoundation.python.3.12_qbz5n2kfra8p0\\localcache\\local-packages\\python312\\site-packages (from nltk) (4.66.2)\n",
            "Requirement already satisfied: colorama in c:\\users\\manas\\appdata\\local\\packages\\pythonsoftwarefoundation.python.3.12_qbz5n2kfra8p0\\localcache\\local-packages\\python312\\site-packages (from click->nltk) (0.4.6)\n",
            "Downloading nltk-3.8.2-py3-none-any.whl (1.5 MB)\n",
            "   ---------------------------------------- 0.0/1.5 MB ? eta -:--:--\n",
            "   ---------------------------------------- 0.0/1.5 MB ? eta -:--:--\n",
            "   ---------------------------------------- 1.5/1.5 MB 7.2 MB/s eta 0:00:00\n",
            "Installing collected packages: nltk\n",
            "Successfully installed nltk-3.8.2\n"
          ]
        }
      ],
      "source": [
        "!pip install nltk"
      ]
    },
    {
      "cell_type": "code",
      "execution_count": 19,
      "id": "Eo0dCmQQv2MN",
      "metadata": {
        "colab": {
          "base_uri": "https://localhost:8080/"
        },
        "id": "Eo0dCmQQv2MN",
        "outputId": "e6a64844-bcc6-4276-9d3b-263afa4c53ba"
      },
      "outputs": [
        {
          "name": "stderr",
          "output_type": "stream",
          "text": [
            "[nltk_data] Downloading package punkt_tab to\n",
            "[nltk_data]     C:\\Users\\manas\\AppData\\Roaming\\nltk_data...\n",
            "[nltk_data]   Unzipping tokenizers\\punkt_tab.zip.\n",
            "[nltk_data] Downloading package stopwords to\n",
            "[nltk_data]     C:\\Users\\manas\\AppData\\Roaming\\nltk_data...\n",
            "[nltk_data]   Package stopwords is already up-to-date!\n"
          ]
        }
      ],
      "source": [
        "from nltk.tokenize import word_tokenize\n",
        "from nltk.corpus import stopwords\n",
        "from nltk.stem import PorterStemmer\n",
        "import string\n",
        "import re\n",
        "import nltk\n",
        "\n",
        "nltk.download('punkt_tab')\n",
        "nltk.download('stopwords')\n",
        "\n",
        "stop_words = set(stopwords.words('english'))\n",
        "stemmer = PorterStemmer()\n",
        "\n",
        "def preprocess_text(text):\n",
        "    # Tokenize and convert to lowercase\n",
        "    tokens = word_tokenize(text.lower())\n",
        "\n",
        "    # Keep only alphanumeric tokens (including alphabetic and numeric characters)\n",
        "    tokens = [word for word in tokens if word.isalnum()]\n",
        "\n",
        "    # Remove stop words and apply stemming\n",
        "    tokens = [stemmer.stem(word) for word in tokens if word not in stop_words]\n",
        "\n",
        "    # Join tokens back into a single string\n",
        "    return ' '.join(tokens)"
      ]
    },
    {
      "cell_type": "code",
      "execution_count": null,
      "id": "355b415b",
      "metadata": {},
      "outputs": [],
      "source": [
        "df['description_processed'] = df['hotel_description'].apply(preprocess_text)\n",
        "df['full_review_processed'] = df['full_review'].apply(preprocess_text)\n",
        "df['address_processed'] = df['full_address'].apply(preprocess_text)\n",
        "df['price_processed'] = df['price_range'].apply(preprocess_text)"
      ]
    },
    {
      "cell_type": "code",
      "execution_count": 17,
      "id": "_Mn97BlJEzYU",
      "metadata": {
        "colab": {
          "base_uri": "https://localhost:8080/",
          "height": 516
        },
        "id": "_Mn97BlJEzYU",
        "outputId": "2e9bc795-f307-4854-cf03-6d528c631adf"
      },
      "outputs": [
        {
          "data": {
            "application/vnd.google.colaboratory.intrinsic+json": {
              "type": "dataframe"
            },
            "text/html": [
              "\n",
              "  <div id=\"df-43b92d7d-442a-4d70-a677-5c798e11bbc8\" class=\"colab-df-container\">\n",
              "    <div>\n",
              "<style scoped>\n",
              "    .dataframe tbody tr th:only-of-type {\n",
              "        vertical-align: middle;\n",
              "    }\n",
              "\n",
              "    .dataframe tbody tr th {\n",
              "        vertical-align: top;\n",
              "    }\n",
              "\n",
              "    .dataframe thead th {\n",
              "        text-align: right;\n",
              "    }\n",
              "</style>\n",
              "<table border=\"1\" class=\"dataframe\">\n",
              "  <thead>\n",
              "    <tr style=\"text-align: right;\">\n",
              "      <th></th>\n",
              "      <th>hotel_name</th>\n",
              "      <th>hotel_description</th>\n",
              "      <th>hotel_description_summary</th>\n",
              "      <th>rating_value</th>\n",
              "      <th>review_count</th>\n",
              "      <th>review_title</th>\n",
              "      <th>review_text</th>\n",
              "      <th>rate</th>\n",
              "      <th>tripdate</th>\n",
              "      <th>price_range</th>\n",
              "      <th>...</th>\n",
              "      <th>locality</th>\n",
              "      <th>street_address</th>\n",
              "      <th>hotel_url</th>\n",
              "      <th>hotel_image</th>\n",
              "      <th>full_review</th>\n",
              "      <th>full_address</th>\n",
              "      <th>description_processed</th>\n",
              "      <th>full_review_processed</th>\n",
              "      <th>address_processed</th>\n",
              "      <th>price_processed</th>\n",
              "    </tr>\n",
              "  </thead>\n",
              "  <tbody>\n",
              "    <tr>\n",
              "      <th>5700</th>\n",
              "      <td>Hotel Tourisme Avenue</td>\n",
              "      <td>Finding an ideal charming 4 stars hotel in Par...</td>\n",
              "      <td>Hotel Tourisme Avenue offers a charming 4-star...</td>\n",
              "      <td>4.5</td>\n",
              "      <td>1671.0</td>\n",
              "      <td>Great hotel in a fantastic neighborhood!</td>\n",
              "      <td>Excellent hotel in a great neighbourhood. We w...</td>\n",
              "      <td>5.00</td>\n",
              "      <td>2023-07</td>\n",
              "      <td>moderate, mid-range, reasonable</td>\n",
              "      <td>...</td>\n",
              "      <td>Paris</td>\n",
              "      <td>66 avenue de la Motte Picquet</td>\n",
              "      <td>https://www.tripadvisor.com/Hotel_Review-g1871...</td>\n",
              "      <td>https://media-cdn.tripadvisor.com/media/photo-...</td>\n",
              "      <td>Great hotel in a fantastic neighborhood!: Exce...</td>\n",
              "      <td>66 avenue de la Motte Picquet, Paris, France</td>\n",
              "      <td>find ideal charm 4 star hotel pari difficult w...</td>\n",
              "      <td>great hotel fantast neighborhood excel hotel g...</td>\n",
              "      <td>66 avenu de la mott picquet pari franc</td>\n",
              "      <td>moder reason</td>\n",
              "    </tr>\n",
              "    <tr>\n",
              "      <th>5647</th>\n",
              "      <td>Pullman Paris Eiffel Tower Hotel</td>\n",
              "      <td>Stay at the Pullman Paris Tour Eiffel, the fav...</td>\n",
              "      <td>The Pullman Paris Tour Eiffel offers a conveni...</td>\n",
              "      <td>4.0</td>\n",
              "      <td>3935.0</td>\n",
              "      <td>Fabulous hotel stay</td>\n",
              "      <td>Hotel fabulous location close to the    Eiffel...</td>\n",
              "      <td>5.00</td>\n",
              "      <td>2023-12</td>\n",
              "      <td>moderate, mid-range, reasonable</td>\n",
              "      <td>...</td>\n",
              "      <td>Paris</td>\n",
              "      <td>18 Avenue de Suffren</td>\n",
              "      <td>https://www.tripadvisor.com/Hotel_Review-g1871...</td>\n",
              "      <td>https://media-cdn.tripadvisor.com/media/photo-...</td>\n",
              "      <td>Fabulous hotel stay: Hotel fabulous location c...</td>\n",
              "      <td>18 Avenue de Suffren, Paris, France</td>\n",
              "      <td>stay pullman pari tour eiffel favorit hotel tr...</td>\n",
              "      <td>fabul hotel stay hotel fabul locat close eiffe...</td>\n",
              "      <td>18 avenu de suffren pari franc</td>\n",
              "      <td>moder reason</td>\n",
              "    </tr>\n",
              "    <tr>\n",
              "      <th>5615</th>\n",
              "      <td>Citadines Tour Eiffel Paris</td>\n",
              "      <td>L'apart'hotel Citadines Tour Eiffel Paris est ...</td>\n",
              "      <td>The Citadines Tour Eiffel Paris apart-hotel of...</td>\n",
              "      <td>4.0</td>\n",
              "      <td>471.0</td>\n",
              "      <td>Pleasant stay</td>\n",
              "      <td>We arrived at the Hotel at 10am, check in was ...</td>\n",
              "      <td>5.00</td>\n",
              "      <td>2022-12</td>\n",
              "      <td>moderate, mid-range, reasonable</td>\n",
              "      <td>...</td>\n",
              "      <td>Paris</td>\n",
              "      <td>132 boulevard de Grenelle 15th Arr.</td>\n",
              "      <td>https://www.tripadvisor.com/Hotel_Review-g1871...</td>\n",
              "      <td>https://media-cdn.tripadvisor.com/media/photo-...</td>\n",
              "      <td>Pleasant stay: We arrived at the Hotel at 10am...</td>\n",
              "      <td>132 boulevard de Grenelle 15th Arr., Paris, Fr...</td>\n",
              "      <td>citadin tour eiffel pari est situé sur le boul...</td>\n",
              "      <td>pleasant stay arriv hotel 10am check suppos st...</td>\n",
              "      <td>132 boulevard de grenel 15th pari franc</td>\n",
              "      <td>moder reason</td>\n",
              "    </tr>\n",
              "    <tr>\n",
              "      <th>5637</th>\n",
              "      <td>Pullman Paris Eiffel Tower Hotel</td>\n",
              "      <td>Stay at the Pullman Paris Tour Eiffel, the fav...</td>\n",
              "      <td>The Pullman Paris Tour Eiffel offers a conveni...</td>\n",
              "      <td>4.0</td>\n",
              "      <td>3935.0</td>\n",
              "      <td>Outstanding</td>\n",
              "      <td>This is a great hotel with a perfect location ...</td>\n",
              "      <td>5.00</td>\n",
              "      <td>2023-09</td>\n",
              "      <td>moderate, mid-range, reasonable</td>\n",
              "      <td>...</td>\n",
              "      <td>Paris</td>\n",
              "      <td>18 Avenue de Suffren</td>\n",
              "      <td>https://www.tripadvisor.com/Hotel_Review-g1871...</td>\n",
              "      <td>https://media-cdn.tripadvisor.com/media/photo-...</td>\n",
              "      <td>Outstanding: This is a great hotel with a perf...</td>\n",
              "      <td>18 Avenue de Suffren, Paris, France</td>\n",
              "      <td>stay pullman pari tour eiffel favorit hotel tr...</td>\n",
              "      <td>outstand great hotel perfect locat sightse sta...</td>\n",
              "      <td>18 avenu de suffren pari franc</td>\n",
              "      <td>moder reason</td>\n",
              "    </tr>\n",
              "    <tr>\n",
              "      <th>2102</th>\n",
              "      <td>Hilton San Francisco Financial District</td>\n",
              "      <td>Stay in a central location in San Francisco, C...</td>\n",
              "      <td>The Hilton San Francisco Financial District of...</td>\n",
              "      <td>4.0</td>\n",
              "      <td>5006.0</td>\n",
              "      <td>Another badly run Hilton in the US</td>\n",
              "      <td>This Hilton property in the US falls short of ...</td>\n",
              "      <td>4.33</td>\n",
              "      <td>2020-02</td>\n",
              "      <td>affordable, budget, economical</td>\n",
              "      <td>...</td>\n",
              "      <td>San Francisco</td>\n",
              "      <td>750 Kearny Street</td>\n",
              "      <td>https://www.tripadvisor.com/Hotel_Review-g6071...</td>\n",
              "      <td>https://dynamic-media-cdn.tripadvisor.com/medi...</td>\n",
              "      <td>Another badly run Hilton in the US: This Hilto...</td>\n",
              "      <td>750 Kearny Street, San Francisco, United States</td>\n",
              "      <td>stay central locat san francisco california su...</td>\n",
              "      <td>anoth badli run hilton us hilton properti us f...</td>\n",
              "      <td>750 kearni street san francisco unit state</td>\n",
              "      <td>afford budget econom</td>\n",
              "    </tr>\n",
              "  </tbody>\n",
              "</table>\n",
              "<p>5 rows × 21 columns</p>\n",
              "</div>\n",
              "    <div class=\"colab-df-buttons\">\n",
              "\n",
              "  <div class=\"colab-df-container\">\n",
              "    <button class=\"colab-df-convert\" onclick=\"convertToInteractive('df-43b92d7d-442a-4d70-a677-5c798e11bbc8')\"\n",
              "            title=\"Convert this dataframe to an interactive table.\"\n",
              "            style=\"display:none;\">\n",
              "\n",
              "  <svg xmlns=\"http://www.w3.org/2000/svg\" height=\"24px\" viewBox=\"0 -960 960 960\">\n",
              "    <path d=\"M120-120v-720h720v720H120Zm60-500h600v-160H180v160Zm220 220h160v-160H400v160Zm0 220h160v-160H400v160ZM180-400h160v-160H180v160Zm440 0h160v-160H620v160ZM180-180h160v-160H180v160Zm440 0h160v-160H620v160Z\"/>\n",
              "  </svg>\n",
              "    </button>\n",
              "\n",
              "  <style>\n",
              "    .colab-df-container {\n",
              "      display:flex;\n",
              "      gap: 12px;\n",
              "    }\n",
              "\n",
              "    .colab-df-convert {\n",
              "      background-color: #E8F0FE;\n",
              "      border: none;\n",
              "      border-radius: 50%;\n",
              "      cursor: pointer;\n",
              "      display: none;\n",
              "      fill: #1967D2;\n",
              "      height: 32px;\n",
              "      padding: 0 0 0 0;\n",
              "      width: 32px;\n",
              "    }\n",
              "\n",
              "    .colab-df-convert:hover {\n",
              "      background-color: #E2EBFA;\n",
              "      box-shadow: 0px 1px 2px rgba(60, 64, 67, 0.3), 0px 1px 3px 1px rgba(60, 64, 67, 0.15);\n",
              "      fill: #174EA6;\n",
              "    }\n",
              "\n",
              "    .colab-df-buttons div {\n",
              "      margin-bottom: 4px;\n",
              "    }\n",
              "\n",
              "    [theme=dark] .colab-df-convert {\n",
              "      background-color: #3B4455;\n",
              "      fill: #D2E3FC;\n",
              "    }\n",
              "\n",
              "    [theme=dark] .colab-df-convert:hover {\n",
              "      background-color: #434B5C;\n",
              "      box-shadow: 0px 1px 3px 1px rgba(0, 0, 0, 0.15);\n",
              "      filter: drop-shadow(0px 1px 2px rgba(0, 0, 0, 0.3));\n",
              "      fill: #FFFFFF;\n",
              "    }\n",
              "  </style>\n",
              "\n",
              "    <script>\n",
              "      const buttonEl =\n",
              "        document.querySelector('#df-43b92d7d-442a-4d70-a677-5c798e11bbc8 button.colab-df-convert');\n",
              "      buttonEl.style.display =\n",
              "        google.colab.kernel.accessAllowed ? 'block' : 'none';\n",
              "\n",
              "      async function convertToInteractive(key) {\n",
              "        const element = document.querySelector('#df-43b92d7d-442a-4d70-a677-5c798e11bbc8');\n",
              "        const dataTable =\n",
              "          await google.colab.kernel.invokeFunction('convertToInteractive',\n",
              "                                                    [key], {});\n",
              "        if (!dataTable) return;\n",
              "\n",
              "        const docLinkHtml = 'Like what you see? Visit the ' +\n",
              "          '<a target=\"_blank\" href=https://colab.research.google.com/notebooks/data_table.ipynb>data table notebook</a>'\n",
              "          + ' to learn more about interactive tables.';\n",
              "        element.innerHTML = '';\n",
              "        dataTable['output_type'] = 'display_data';\n",
              "        await google.colab.output.renderOutput(dataTable, element);\n",
              "        const docLink = document.createElement('div');\n",
              "        docLink.innerHTML = docLinkHtml;\n",
              "        element.appendChild(docLink);\n",
              "      }\n",
              "    </script>\n",
              "  </div>\n",
              "\n",
              "\n",
              "<div id=\"df-5630bc52-7dcd-4ebb-a044-0a227e41efb9\">\n",
              "  <button class=\"colab-df-quickchart\" onclick=\"quickchart('df-5630bc52-7dcd-4ebb-a044-0a227e41efb9')\"\n",
              "            title=\"Suggest charts\"\n",
              "            style=\"display:none;\">\n",
              "\n",
              "<svg xmlns=\"http://www.w3.org/2000/svg\" height=\"24px\"viewBox=\"0 0 24 24\"\n",
              "     width=\"24px\">\n",
              "    <g>\n",
              "        <path d=\"M19 3H5c-1.1 0-2 .9-2 2v14c0 1.1.9 2 2 2h14c1.1 0 2-.9 2-2V5c0-1.1-.9-2-2-2zM9 17H7v-7h2v7zm4 0h-2V7h2v10zm4 0h-2v-4h2v4z\"/>\n",
              "    </g>\n",
              "</svg>\n",
              "  </button>\n",
              "\n",
              "<style>\n",
              "  .colab-df-quickchart {\n",
              "      --bg-color: #E8F0FE;\n",
              "      --fill-color: #1967D2;\n",
              "      --hover-bg-color: #E2EBFA;\n",
              "      --hover-fill-color: #174EA6;\n",
              "      --disabled-fill-color: #AAA;\n",
              "      --disabled-bg-color: #DDD;\n",
              "  }\n",
              "\n",
              "  [theme=dark] .colab-df-quickchart {\n",
              "      --bg-color: #3B4455;\n",
              "      --fill-color: #D2E3FC;\n",
              "      --hover-bg-color: #434B5C;\n",
              "      --hover-fill-color: #FFFFFF;\n",
              "      --disabled-bg-color: #3B4455;\n",
              "      --disabled-fill-color: #666;\n",
              "  }\n",
              "\n",
              "  .colab-df-quickchart {\n",
              "    background-color: var(--bg-color);\n",
              "    border: none;\n",
              "    border-radius: 50%;\n",
              "    cursor: pointer;\n",
              "    display: none;\n",
              "    fill: var(--fill-color);\n",
              "    height: 32px;\n",
              "    padding: 0;\n",
              "    width: 32px;\n",
              "  }\n",
              "\n",
              "  .colab-df-quickchart:hover {\n",
              "    background-color: var(--hover-bg-color);\n",
              "    box-shadow: 0 1px 2px rgba(60, 64, 67, 0.3), 0 1px 3px 1px rgba(60, 64, 67, 0.15);\n",
              "    fill: var(--button-hover-fill-color);\n",
              "  }\n",
              "\n",
              "  .colab-df-quickchart-complete:disabled,\n",
              "  .colab-df-quickchart-complete:disabled:hover {\n",
              "    background-color: var(--disabled-bg-color);\n",
              "    fill: var(--disabled-fill-color);\n",
              "    box-shadow: none;\n",
              "  }\n",
              "\n",
              "  .colab-df-spinner {\n",
              "    border: 2px solid var(--fill-color);\n",
              "    border-color: transparent;\n",
              "    border-bottom-color: var(--fill-color);\n",
              "    animation:\n",
              "      spin 1s steps(1) infinite;\n",
              "  }\n",
              "\n",
              "  @keyframes spin {\n",
              "    0% {\n",
              "      border-color: transparent;\n",
              "      border-bottom-color: var(--fill-color);\n",
              "      border-left-color: var(--fill-color);\n",
              "    }\n",
              "    20% {\n",
              "      border-color: transparent;\n",
              "      border-left-color: var(--fill-color);\n",
              "      border-top-color: var(--fill-color);\n",
              "    }\n",
              "    30% {\n",
              "      border-color: transparent;\n",
              "      border-left-color: var(--fill-color);\n",
              "      border-top-color: var(--fill-color);\n",
              "      border-right-color: var(--fill-color);\n",
              "    }\n",
              "    40% {\n",
              "      border-color: transparent;\n",
              "      border-right-color: var(--fill-color);\n",
              "      border-top-color: var(--fill-color);\n",
              "    }\n",
              "    60% {\n",
              "      border-color: transparent;\n",
              "      border-right-color: var(--fill-color);\n",
              "    }\n",
              "    80% {\n",
              "      border-color: transparent;\n",
              "      border-right-color: var(--fill-color);\n",
              "      border-bottom-color: var(--fill-color);\n",
              "    }\n",
              "    90% {\n",
              "      border-color: transparent;\n",
              "      border-bottom-color: var(--fill-color);\n",
              "    }\n",
              "  }\n",
              "</style>\n",
              "\n",
              "  <script>\n",
              "    async function quickchart(key) {\n",
              "      const quickchartButtonEl =\n",
              "        document.querySelector('#' + key + ' button');\n",
              "      quickchartButtonEl.disabled = true;  // To prevent multiple clicks.\n",
              "      quickchartButtonEl.classList.add('colab-df-spinner');\n",
              "      try {\n",
              "        const charts = await google.colab.kernel.invokeFunction(\n",
              "            'suggestCharts', [key], {});\n",
              "      } catch (error) {\n",
              "        console.error('Error during call to suggestCharts:', error);\n",
              "      }\n",
              "      quickchartButtonEl.classList.remove('colab-df-spinner');\n",
              "      quickchartButtonEl.classList.add('colab-df-quickchart-complete');\n",
              "    }\n",
              "    (() => {\n",
              "      let quickchartButtonEl =\n",
              "        document.querySelector('#df-5630bc52-7dcd-4ebb-a044-0a227e41efb9 button');\n",
              "      quickchartButtonEl.style.display =\n",
              "        google.colab.kernel.accessAllowed ? 'block' : 'none';\n",
              "    })();\n",
              "  </script>\n",
              "</div>\n",
              "\n",
              "    </div>\n",
              "  </div>\n"
            ],
            "text/plain": [
              "                                   hotel_name  \\\n",
              "5700                    Hotel Tourisme Avenue   \n",
              "5647         Pullman Paris Eiffel Tower Hotel   \n",
              "5615              Citadines Tour Eiffel Paris   \n",
              "5637         Pullman Paris Eiffel Tower Hotel   \n",
              "2102  Hilton San Francisco Financial District   \n",
              "\n",
              "                                      hotel_description  \\\n",
              "5700  Finding an ideal charming 4 stars hotel in Par...   \n",
              "5647  Stay at the Pullman Paris Tour Eiffel, the fav...   \n",
              "5615  L'apart'hotel Citadines Tour Eiffel Paris est ...   \n",
              "5637  Stay at the Pullman Paris Tour Eiffel, the fav...   \n",
              "2102  Stay in a central location in San Francisco, C...   \n",
              "\n",
              "                              hotel_description_summary  rating_value  \\\n",
              "5700  Hotel Tourisme Avenue offers a charming 4-star...           4.5   \n",
              "5647  The Pullman Paris Tour Eiffel offers a conveni...           4.0   \n",
              "5615  The Citadines Tour Eiffel Paris apart-hotel of...           4.0   \n",
              "5637  The Pullman Paris Tour Eiffel offers a conveni...           4.0   \n",
              "2102  The Hilton San Francisco Financial District of...           4.0   \n",
              "\n",
              "      review_count                              review_title  \\\n",
              "5700        1671.0  Great hotel in a fantastic neighborhood!   \n",
              "5647        3935.0                       Fabulous hotel stay   \n",
              "5615         471.0                             Pleasant stay   \n",
              "5637        3935.0                               Outstanding   \n",
              "2102        5006.0        Another badly run Hilton in the US   \n",
              "\n",
              "                                            review_text  rate tripdate  \\\n",
              "5700  Excellent hotel in a great neighbourhood. We w...  5.00  2023-07   \n",
              "5647  Hotel fabulous location close to the    Eiffel...  5.00  2023-12   \n",
              "5615  We arrived at the Hotel at 10am, check in was ...  5.00  2022-12   \n",
              "5637  This is a great hotel with a perfect location ...  5.00  2023-09   \n",
              "2102  This Hilton property in the US falls short of ...  4.33  2020-02   \n",
              "\n",
              "                          price_range  ...       locality  \\\n",
              "5700  moderate, mid-range, reasonable  ...          Paris   \n",
              "5647  moderate, mid-range, reasonable  ...          Paris   \n",
              "5615  moderate, mid-range, reasonable  ...          Paris   \n",
              "5637  moderate, mid-range, reasonable  ...          Paris   \n",
              "2102   affordable, budget, economical  ...  San Francisco   \n",
              "\n",
              "                           street_address  \\\n",
              "5700        66 avenue de la Motte Picquet   \n",
              "5647                 18 Avenue de Suffren   \n",
              "5615  132 boulevard de Grenelle 15th Arr.   \n",
              "5637                 18 Avenue de Suffren   \n",
              "2102                    750 Kearny Street   \n",
              "\n",
              "                                              hotel_url  \\\n",
              "5700  https://www.tripadvisor.com/Hotel_Review-g1871...   \n",
              "5647  https://www.tripadvisor.com/Hotel_Review-g1871...   \n",
              "5615  https://www.tripadvisor.com/Hotel_Review-g1871...   \n",
              "5637  https://www.tripadvisor.com/Hotel_Review-g1871...   \n",
              "2102  https://www.tripadvisor.com/Hotel_Review-g6071...   \n",
              "\n",
              "                                            hotel_image  \\\n",
              "5700  https://media-cdn.tripadvisor.com/media/photo-...   \n",
              "5647  https://media-cdn.tripadvisor.com/media/photo-...   \n",
              "5615  https://media-cdn.tripadvisor.com/media/photo-...   \n",
              "5637  https://media-cdn.tripadvisor.com/media/photo-...   \n",
              "2102  https://dynamic-media-cdn.tripadvisor.com/medi...   \n",
              "\n",
              "                                            full_review  \\\n",
              "5700  Great hotel in a fantastic neighborhood!: Exce...   \n",
              "5647  Fabulous hotel stay: Hotel fabulous location c...   \n",
              "5615  Pleasant stay: We arrived at the Hotel at 10am...   \n",
              "5637  Outstanding: This is a great hotel with a perf...   \n",
              "2102  Another badly run Hilton in the US: This Hilto...   \n",
              "\n",
              "                                           full_address  \\\n",
              "5700       66 avenue de la Motte Picquet, Paris, France   \n",
              "5647                18 Avenue de Suffren, Paris, France   \n",
              "5615  132 boulevard de Grenelle 15th Arr., Paris, Fr...   \n",
              "5637                18 Avenue de Suffren, Paris, France   \n",
              "2102    750 Kearny Street, San Francisco, United States   \n",
              "\n",
              "                                  description_processed  \\\n",
              "5700  find ideal charm 4 star hotel pari difficult w...   \n",
              "5647  stay pullman pari tour eiffel favorit hotel tr...   \n",
              "5615  citadin tour eiffel pari est situé sur le boul...   \n",
              "5637  stay pullman pari tour eiffel favorit hotel tr...   \n",
              "2102  stay central locat san francisco california su...   \n",
              "\n",
              "                                  full_review_processed  \\\n",
              "5700  great hotel fantast neighborhood excel hotel g...   \n",
              "5647  fabul hotel stay hotel fabul locat close eiffe...   \n",
              "5615  pleasant stay arriv hotel 10am check suppos st...   \n",
              "5637  outstand great hotel perfect locat sightse sta...   \n",
              "2102  anoth badli run hilton us hilton properti us f...   \n",
              "\n",
              "                               address_processed       price_processed  \n",
              "5700      66 avenu de la mott picquet pari franc          moder reason  \n",
              "5647              18 avenu de suffren pari franc          moder reason  \n",
              "5615     132 boulevard de grenel 15th pari franc          moder reason  \n",
              "5637              18 avenu de suffren pari franc          moder reason  \n",
              "2102  750 kearni street san francisco unit state  afford budget econom  \n",
              "\n",
              "[5 rows x 21 columns]"
            ]
          },
          "execution_count": 17,
          "metadata": {},
          "output_type": "execute_result"
        }
      ],
      "source": [
        "df.sample(5)"
      ]
    },
    {
      "cell_type": "code",
      "execution_count": 18,
      "id": "NO0rCWDdM887",
      "metadata": {
        "colab": {
          "base_uri": "https://localhost:8080/"
        },
        "id": "NO0rCWDdM887",
        "outputId": "cd07643d-f6b7-4f03-afd9-68c128dad4a6"
      },
      "outputs": [
        {
          "name": "stdout",
          "output_type": "stream",
          "text": [
            "Number of unique descriptions: 150\n",
            "Number of unique reviews: 5995\n",
            "Number of unique addresses: 150\n",
            "Number of unique prices: 3\n"
          ]
        }
      ],
      "source": [
        "unique_descriptions = df['description_processed'].unique()\n",
        "print(f\"Number of unique descriptions: {len(unique_descriptions)}\")\n",
        "unique_reviews = df['full_review_processed'].unique()\n",
        "print(f\"Number of unique reviews: {len(unique_reviews)}\")\n",
        "unique_addresses = df['address_processed'].unique()\n",
        "print(f\"Number of unique addresses: {len(unique_addresses)}\")\n",
        "unique_prices = df['price_processed'].unique()\n",
        "print(f\"Number of unique prices: {len(unique_prices)}\")"
      ]
    },
    {
      "cell_type": "code",
      "execution_count": 19,
      "id": "hZjL79xrVGvZ",
      "metadata": {
        "colab": {
          "base_uri": "https://localhost:8080/"
        },
        "collapsed": true,
        "id": "hZjL79xrVGvZ",
        "outputId": "9d25384c-e877-42e6-bb02-e0b8a24919fa"
      },
      "outputs": [
        {
          "name": "stdout",
          "output_type": "stream",
          "text": [
            "Requirement already satisfied: sentence_transformers in /usr/local/lib/python3.10/dist-packages (3.0.1)\n",
            "Requirement already satisfied: transformers<5.0.0,>=4.34.0 in /usr/local/lib/python3.10/dist-packages (from sentence_transformers) (4.42.4)\n",
            "Requirement already satisfied: tqdm in /usr/local/lib/python3.10/dist-packages (from sentence_transformers) (4.66.5)\n",
            "Requirement already satisfied: torch>=1.11.0 in /usr/local/lib/python3.10/dist-packages (from sentence_transformers) (2.3.1+cu121)\n",
            "Requirement already satisfied: numpy in /usr/local/lib/python3.10/dist-packages (from sentence_transformers) (1.26.4)\n",
            "Requirement already satisfied: scikit-learn in /usr/local/lib/python3.10/dist-packages (from sentence_transformers) (1.3.2)\n",
            "Requirement already satisfied: scipy in /usr/local/lib/python3.10/dist-packages (from sentence_transformers) (1.13.1)\n",
            "Requirement already satisfied: huggingface-hub>=0.15.1 in /usr/local/lib/python3.10/dist-packages (from sentence_transformers) (0.23.5)\n",
            "Requirement already satisfied: Pillow in /usr/local/lib/python3.10/dist-packages (from sentence_transformers) (9.4.0)\n",
            "Requirement already satisfied: filelock in /usr/local/lib/python3.10/dist-packages (from huggingface-hub>=0.15.1->sentence_transformers) (3.15.4)\n",
            "Requirement already satisfied: fsspec>=2023.5.0 in /usr/local/lib/python3.10/dist-packages (from huggingface-hub>=0.15.1->sentence_transformers) (2024.6.1)\n",
            "Requirement already satisfied: packaging>=20.9 in /usr/local/lib/python3.10/dist-packages (from huggingface-hub>=0.15.1->sentence_transformers) (24.1)\n",
            "Requirement already satisfied: pyyaml>=5.1 in /usr/local/lib/python3.10/dist-packages (from huggingface-hub>=0.15.1->sentence_transformers) (6.0.2)\n",
            "Requirement already satisfied: requests in /usr/local/lib/python3.10/dist-packages (from huggingface-hub>=0.15.1->sentence_transformers) (2.32.3)\n",
            "Requirement already satisfied: typing-extensions>=3.7.4.3 in /usr/local/lib/python3.10/dist-packages (from huggingface-hub>=0.15.1->sentence_transformers) (4.12.2)\n",
            "Requirement already satisfied: sympy in /usr/local/lib/python3.10/dist-packages (from torch>=1.11.0->sentence_transformers) (1.13.1)\n",
            "Requirement already satisfied: networkx in /usr/local/lib/python3.10/dist-packages (from torch>=1.11.0->sentence_transformers) (3.3)\n",
            "Requirement already satisfied: jinja2 in /usr/local/lib/python3.10/dist-packages (from torch>=1.11.0->sentence_transformers) (3.1.4)\n",
            "Requirement already satisfied: nvidia-cuda-nvrtc-cu12==12.1.105 in /usr/local/lib/python3.10/dist-packages (from torch>=1.11.0->sentence_transformers) (12.1.105)\n",
            "Requirement already satisfied: nvidia-cuda-runtime-cu12==12.1.105 in /usr/local/lib/python3.10/dist-packages (from torch>=1.11.0->sentence_transformers) (12.1.105)\n",
            "Requirement already satisfied: nvidia-cuda-cupti-cu12==12.1.105 in /usr/local/lib/python3.10/dist-packages (from torch>=1.11.0->sentence_transformers) (12.1.105)\n",
            "Requirement already satisfied: nvidia-cudnn-cu12==8.9.2.26 in /usr/local/lib/python3.10/dist-packages (from torch>=1.11.0->sentence_transformers) (8.9.2.26)\n",
            "Requirement already satisfied: nvidia-cublas-cu12==12.1.3.1 in /usr/local/lib/python3.10/dist-packages (from torch>=1.11.0->sentence_transformers) (12.1.3.1)\n",
            "Requirement already satisfied: nvidia-cufft-cu12==11.0.2.54 in /usr/local/lib/python3.10/dist-packages (from torch>=1.11.0->sentence_transformers) (11.0.2.54)\n",
            "Requirement already satisfied: nvidia-curand-cu12==10.3.2.106 in /usr/local/lib/python3.10/dist-packages (from torch>=1.11.0->sentence_transformers) (10.3.2.106)\n",
            "Requirement already satisfied: nvidia-cusolver-cu12==11.4.5.107 in /usr/local/lib/python3.10/dist-packages (from torch>=1.11.0->sentence_transformers) (11.4.5.107)\n",
            "Requirement already satisfied: nvidia-cusparse-cu12==12.1.0.106 in /usr/local/lib/python3.10/dist-packages (from torch>=1.11.0->sentence_transformers) (12.1.0.106)\n",
            "Requirement already satisfied: nvidia-nccl-cu12==2.20.5 in /usr/local/lib/python3.10/dist-packages (from torch>=1.11.0->sentence_transformers) (2.20.5)\n",
            "Requirement already satisfied: nvidia-nvtx-cu12==12.1.105 in /usr/local/lib/python3.10/dist-packages (from torch>=1.11.0->sentence_transformers) (12.1.105)\n",
            "Requirement already satisfied: triton==2.3.1 in /usr/local/lib/python3.10/dist-packages (from torch>=1.11.0->sentence_transformers) (2.3.1)\n",
            "Requirement already satisfied: nvidia-nvjitlink-cu12 in /usr/local/lib/python3.10/dist-packages (from nvidia-cusolver-cu12==11.4.5.107->torch>=1.11.0->sentence_transformers) (12.6.20)\n",
            "Requirement already satisfied: regex!=2019.12.17 in /usr/local/lib/python3.10/dist-packages (from transformers<5.0.0,>=4.34.0->sentence_transformers) (2024.5.15)\n",
            "Requirement already satisfied: safetensors>=0.4.1 in /usr/local/lib/python3.10/dist-packages (from transformers<5.0.0,>=4.34.0->sentence_transformers) (0.4.4)\n",
            "Requirement already satisfied: tokenizers<0.20,>=0.19 in /usr/local/lib/python3.10/dist-packages (from transformers<5.0.0,>=4.34.0->sentence_transformers) (0.19.1)\n",
            "Requirement already satisfied: joblib>=1.1.1 in /usr/local/lib/python3.10/dist-packages (from scikit-learn->sentence_transformers) (1.4.2)\n",
            "Requirement already satisfied: threadpoolctl>=2.0.0 in /usr/local/lib/python3.10/dist-packages (from scikit-learn->sentence_transformers) (3.5.0)\n",
            "Requirement already satisfied: MarkupSafe>=2.0 in /usr/local/lib/python3.10/dist-packages (from jinja2->torch>=1.11.0->sentence_transformers) (2.1.5)\n",
            "Requirement already satisfied: charset-normalizer<4,>=2 in /usr/local/lib/python3.10/dist-packages (from requests->huggingface-hub>=0.15.1->sentence_transformers) (3.3.2)\n",
            "Requirement already satisfied: idna<4,>=2.5 in /usr/local/lib/python3.10/dist-packages (from requests->huggingface-hub>=0.15.1->sentence_transformers) (3.7)\n",
            "Requirement already satisfied: urllib3<3,>=1.21.1 in /usr/local/lib/python3.10/dist-packages (from requests->huggingface-hub>=0.15.1->sentence_transformers) (2.0.7)\n",
            "Requirement already satisfied: certifi>=2017.4.17 in /usr/local/lib/python3.10/dist-packages (from requests->huggingface-hub>=0.15.1->sentence_transformers) (2024.7.4)\n",
            "Requirement already satisfied: mpmath<1.4,>=1.1.0 in /usr/local/lib/python3.10/dist-packages (from sympy->torch>=1.11.0->sentence_transformers) (1.3.0)\n"
          ]
        }
      ],
      "source": [
        "!pip install sentence_transformers"
      ]
    },
    {
      "cell_type": "code",
      "execution_count": 20,
      "id": "eRjvzC7gNEaW",
      "metadata": {
        "colab": {
          "base_uri": "https://localhost:8080/"
        },
        "collapsed": true,
        "id": "eRjvzC7gNEaW",
        "outputId": "bc8c3fed-93b8-4060-bcc5-ec2b9681d7a9"
      },
      "outputs": [
        {
          "name": "stderr",
          "output_type": "stream",
          "text": [
            "/usr/local/lib/python3.10/dist-packages/sentence_transformers/cross_encoder/CrossEncoder.py:11: TqdmExperimentalWarning: Using `tqdm.autonotebook.tqdm` in notebook mode. Use `tqdm.tqdm` instead to force console mode (e.g. in jupyter console)\n",
            "  from tqdm.autonotebook import tqdm, trange\n",
            "/usr/local/lib/python3.10/dist-packages/huggingface_hub/utils/_token.py:89: UserWarning: \n",
            "The secret `HF_TOKEN` does not exist in your Colab secrets.\n",
            "To authenticate with the Hugging Face Hub, create a token in your settings tab (https://huggingface.co/settings/tokens), set it as secret in your Google Colab and restart your session.\n",
            "You will be able to reuse this secret in all of your notebooks.\n",
            "Please note that authentication is recommended but still optional to access public models or datasets.\n",
            "  warnings.warn(\n",
            "WARNING:transformers_modules.nomic-ai.nomic-bert-2048.e55a7d4324f65581af5f483e830b80f34680e8ff.modeling_hf_nomic_bert:<All keys matched successfully>\n"
          ]
        }
      ],
      "source": [
        "from sentence_transformers import SentenceTransformer\n",
        "import torch\n",
        "\n",
        "device = torch.device('cuda' if torch.cuda.is_available() else 'cpu')\n",
        "model = SentenceTransformer(\"nomic-ai/nomic-embed-text-v1.5\" , trust_remote_code=True)"
      ]
    },
    {
      "cell_type": "code",
      "execution_count": 21,
      "id": "lN67s8TwRw2J",
      "metadata": {
        "id": "lN67s8TwRw2J"
      },
      "outputs": [],
      "source": [
        "def embed_text(texts, model, device, batch_size=32):\n",
        "    embeddings_list = []\n",
        "    model.to(device)\n",
        "    model.eval()\n",
        "    for start in range(0, len(texts), batch_size):\n",
        "        end = min(start + batch_size, len(texts))\n",
        "        batch_texts = texts[start:end]\n",
        "        with torch.no_grad():\n",
        "            batch_embeddings = model.encode(batch_texts, convert_to_tensor=True)\n",
        "            batch_embeddings = batch_embeddings.to(device).cpu().numpy()\n",
        "        embeddings_list.extend(batch_embeddings)\n",
        "    return np.array(embeddings_list)"
      ]
    },
    {
      "cell_type": "code",
      "execution_count": 22,
      "id": "-G7qjx0iVGSu",
      "metadata": {
        "id": "-G7qjx0iVGSu"
      },
      "outputs": [],
      "source": [
        "def save_embeddings(texts, filename, model, device):\n",
        "    embeddings = embed_text(texts, model, device)\n",
        "    np.save(filename, embeddings)"
      ]
    },
    {
      "cell_type": "code",
      "execution_count": 23,
      "id": "7WQnk99CVIaW",
      "metadata": {
        "id": "7WQnk99CVIaW"
      },
      "outputs": [],
      "source": [
        "import numpy as np\n",
        "# Save embeddings\n",
        "save_embeddings(unique_descriptions, 'embeddings_descriptions.npy', model, device)\n",
        "save_embeddings(unique_addresses, 'embeddings_addresses.npy', model, device)\n",
        "save_embeddings(unique_prices, 'embeddings_prices.npy', model, device)"
      ]
    },
    {
      "cell_type": "code",
      "execution_count": 24,
      "id": "_JHEE-d-X5z4",
      "metadata": {
        "id": "_JHEE-d-X5z4"
      },
      "outputs": [],
      "source": [
        "def load_embeddings(filename):\n",
        "    return np.load(filename)"
      ]
    },
    {
      "cell_type": "code",
      "execution_count": 25,
      "id": "ISvX53MQaAFi",
      "metadata": {
        "id": "ISvX53MQaAFi"
      },
      "outputs": [],
      "source": [
        "embeddings_descriptions = load_embeddings('embeddings_descriptions.npy')\n",
        "embeddings_addresses = load_embeddings('embeddings_addresses.npy')\n",
        "embeddings_prices = load_embeddings('embeddings_prices.npy')"
      ]
    },
    {
      "cell_type": "code",
      "execution_count": 26,
      "id": "2JeF_c7XkHPj",
      "metadata": {
        "id": "2JeF_c7XkHPj"
      },
      "outputs": [],
      "source": [
        "# Create mapping from text to embeddings\n",
        "description_to_embedding = dict(zip(unique_descriptions, embeddings_descriptions))\n",
        "address_to_embedding = dict(zip(unique_addresses, embeddings_addresses))\n",
        "price_to_embedding = dict(zip(unique_prices, embeddings_prices))"
      ]
    },
    {
      "cell_type": "code",
      "execution_count": 27,
      "id": "gzQ0aoJWkMuO",
      "metadata": {
        "id": "gzQ0aoJWkMuO"
      },
      "outputs": [],
      "source": [
        "def get_embedding(text, embedding_dict, model_dim):\n",
        "    return embedding_dict.get(text, np.zeros(model_dim))"
      ]
    },
    {
      "cell_type": "code",
      "execution_count": 28,
      "id": "wkOCGFAmaCnm",
      "metadata": {
        "id": "wkOCGFAmaCnm"
      },
      "outputs": [],
      "source": [
        "embedding_dim = model.get_sentence_embedding_dimension()\n",
        "df['embedding_descriptions'] = df['description_processed'].apply(lambda x: get_embedding(x, description_to_embedding, embedding_dim))\n",
        "df['embedding_addresses'] = df['address_processed'].apply(lambda x: get_embedding(x, address_to_embedding, embedding_dim))\n",
        "df['embedding_prices'] = df['price_processed'].apply(lambda x: get_embedding(x, price_to_embedding, embedding_dim))"
      ]
    },
    {
      "cell_type": "code",
      "execution_count": 29,
      "id": "rETIAv4Mac7W",
      "metadata": {
        "id": "rETIAv4Mac7W"
      },
      "outputs": [],
      "source": [
        "def embed_full_reviews(df, model, device, batch_size=32):\n",
        "    full_reviews = df['full_review_processed'].tolist()\n",
        "    embeddings_list = embed_text(full_reviews, model, device, batch_size)\n",
        "    return embeddings_list"
      ]
    },
    {
      "cell_type": "code",
      "execution_count": 30,
      "id": "vQrdJDRDagLP",
      "metadata": {
        "colab": {
          "base_uri": "https://localhost:8080/"
        },
        "id": "vQrdJDRDagLP",
        "outputId": "d2688528-5900-4e22-cb6c-159f83b0a42e"
      },
      "outputs": [
        {
          "name": "stdout",
          "output_type": "stream",
          "text": [
            "CPU times: user 47 s, sys: 207 ms, total: 47.2 s\n",
            "Wall time: 57.2 s\n"
          ]
        }
      ],
      "source": [
        "%%time\n",
        "embeddings_full_review_array = embed_full_reviews(df, model, device)\n",
        "df['embedding_full_review'] = list(embeddings_full_review_array)"
      ]
    },
    {
      "cell_type": "code",
      "execution_count": 31,
      "id": "pUA4XkLa4vmh",
      "metadata": {
        "colab": {
          "base_uri": "https://localhost:8080/",
          "height": 585
        },
        "id": "pUA4XkLa4vmh",
        "outputId": "de0948ee-b0b9-4ccc-dd20-80ad1fa6e43d"
      },
      "outputs": [
        {
          "data": {
            "application/vnd.google.colaboratory.intrinsic+json": {
              "type": "dataframe"
            },
            "text/html": [
              "\n",
              "  <div id=\"df-aa6ac68c-ead6-411d-87c9-696ba7b4a0b7\" class=\"colab-df-container\">\n",
              "    <div>\n",
              "<style scoped>\n",
              "    .dataframe tbody tr th:only-of-type {\n",
              "        vertical-align: middle;\n",
              "    }\n",
              "\n",
              "    .dataframe tbody tr th {\n",
              "        vertical-align: top;\n",
              "    }\n",
              "\n",
              "    .dataframe thead th {\n",
              "        text-align: right;\n",
              "    }\n",
              "</style>\n",
              "<table border=\"1\" class=\"dataframe\">\n",
              "  <thead>\n",
              "    <tr style=\"text-align: right;\">\n",
              "      <th></th>\n",
              "      <th>hotel_name</th>\n",
              "      <th>hotel_description</th>\n",
              "      <th>hotel_description_summary</th>\n",
              "      <th>rating_value</th>\n",
              "      <th>review_count</th>\n",
              "      <th>review_title</th>\n",
              "      <th>review_text</th>\n",
              "      <th>rate</th>\n",
              "      <th>tripdate</th>\n",
              "      <th>price_range</th>\n",
              "      <th>...</th>\n",
              "      <th>full_review</th>\n",
              "      <th>full_address</th>\n",
              "      <th>description_processed</th>\n",
              "      <th>full_review_processed</th>\n",
              "      <th>address_processed</th>\n",
              "      <th>price_processed</th>\n",
              "      <th>embedding_descriptions</th>\n",
              "      <th>embedding_addresses</th>\n",
              "      <th>embedding_prices</th>\n",
              "      <th>embedding_full_review</th>\n",
              "    </tr>\n",
              "  </thead>\n",
              "  <tbody>\n",
              "    <tr>\n",
              "      <th>2623</th>\n",
              "      <td>Canopy by Hilton London City</td>\n",
              "      <td>Canopy by Hilton London City is an impressive ...</td>\n",
              "      <td>Canopy by Hilton London City is a stylish new ...</td>\n",
              "      <td>5.0</td>\n",
              "      <td>911.0</td>\n",
              "      <td>3 amazing days in Canopy!</td>\n",
              "      <td>We spent 3 amazing days at Canopy! Georgia, De...</td>\n",
              "      <td>5.00</td>\n",
              "      <td>2023-12</td>\n",
              "      <td>moderate, mid-range, reasonable</td>\n",
              "      <td>...</td>\n",
              "      <td>3 amazing days in Canopy! : We spent 3 amazing...</td>\n",
              "      <td>11-15 Minories, London, United Kingdom</td>\n",
              "      <td>canopi hilton london citi impress new hotel lo...</td>\n",
              "      <td>3 amaz day canopi spent 3 amaz day canopi geor...</td>\n",
              "      <td>minori london unit kingdom</td>\n",
              "      <td>moder reason</td>\n",
              "      <td>[-0.70117855, 0.75697166, -3.6809473, -0.12613...</td>\n",
              "      <td>[-0.07866699, 0.3256071, -3.7898421, -1.125340...</td>\n",
              "      <td>[0.16235323, 0.4613351, -3.2719269, -0.4398266...</td>\n",
              "      <td>[0.031118423, 0.6318265, -4.217355, 0.09739119...</td>\n",
              "    </tr>\n",
              "    <tr>\n",
              "      <th>3499</th>\n",
              "      <td>Palmers Lodge Swiss Cottage</td>\n",
              "      <td>Palmers Lodge Swiss Cottage garners praise for...</td>\n",
              "      <td>Palmers Lodge Swiss Cottage offers clean rooms...</td>\n",
              "      <td>4.0</td>\n",
              "      <td>2133.0</td>\n",
              "      <td>Excellent accommodation hostel</td>\n",
              "      <td>It's amazing hostel , I recommend it every thi...</td>\n",
              "      <td>5.00</td>\n",
              "      <td>2023-11</td>\n",
              "      <td>affordable, budget, economical</td>\n",
              "      <td>...</td>\n",
              "      <td>Excellent accommodation hostel : It's amazing ...</td>\n",
              "      <td>40 College Cres, London, United Kingdom</td>\n",
              "      <td>palmer lodg swiss cottag garner prais cleanli ...</td>\n",
              "      <td>excel accommod hostel amaz hostel recommend ev...</td>\n",
              "      <td>40 colleg cre london unit kingdom</td>\n",
              "      <td>afford budget econom</td>\n",
              "      <td>[-0.9376102, 1.0186832, -3.6288683, -1.2321209...</td>\n",
              "      <td>[-0.21679592, -0.5376356, -4.0752683, -1.11421...</td>\n",
              "      <td>[0.41714233, 0.93826044, -2.9774604, -0.179409...</td>\n",
              "      <td>[-1.3095641, 1.3902057, -3.449737, 0.36841518,...</td>\n",
              "    </tr>\n",
              "    <tr>\n",
              "      <th>2432</th>\n",
              "      <td>Park Grand London Hyde Park</td>\n",
              "      <td>Experience elegance and luxury at Park Grand H...</td>\n",
              "      <td>Park Grand Hyde Park Hotel combines contempora...</td>\n",
              "      <td>4.5</td>\n",
              "      <td>4166.0</td>\n",
              "      <td>Relaxing</td>\n",
              "      <td>Mr Mubashir gave us a very warm welcoming and...</td>\n",
              "      <td>5.00</td>\n",
              "      <td>2023-12</td>\n",
              "      <td>affordable, budget, economical</td>\n",
              "      <td>...</td>\n",
              "      <td>Relaxing :  Mr Mubashir gave us a very warm we...</td>\n",
              "      <td>78 - 82 Westbourne Terrace Paddington, London,...</td>\n",
              "      <td>experi eleg luxuri park grand hyde park hotel ...</td>\n",
              "      <td>relax mr mubashir gave us warm welcom staff ki...</td>\n",
              "      <td>78 82 westbourn terrac paddington london unit ...</td>\n",
              "      <td>afford budget econom</td>\n",
              "      <td>[-0.9192584, 1.7232802, -3.4214063, -0.2609110...</td>\n",
              "      <td>[-0.4918593, -0.2640891, -3.4415865, -1.722679...</td>\n",
              "      <td>[0.41714233, 0.93826044, -2.9774604, -0.179409...</td>\n",
              "      <td>[-0.29889593, 1.6662335, -3.8145454, -0.909224...</td>\n",
              "    </tr>\n",
              "    <tr>\n",
              "      <th>1552</th>\n",
              "      <td>BEI San Francisco, Trademark Collection by Wyn...</td>\n",
              "      <td>In the heart of San Francisco’s Civic Center, ...</td>\n",
              "      <td>BEI in San Francisco's Civic Center provides a...</td>\n",
              "      <td>4.0</td>\n",
              "      <td>581.0</td>\n",
              "      <td>Delightful stay!</td>\n",
              "      <td>Delightful stay! From the warm welcome to the ...</td>\n",
              "      <td>5.00</td>\n",
              "      <td>2023-11</td>\n",
              "      <td>affordable, budget, economical</td>\n",
              "      <td>...</td>\n",
              "      <td>Delightful stay!: Delightful stay! From the wa...</td>\n",
              "      <td>50 8th St, San Francisco, United States</td>\n",
              "      <td>heart san francisco civic center bei destin bu...</td>\n",
              "      <td>delight stay delight stay warm welcom cozi roo...</td>\n",
              "      <td>50 8th st san francisco unit state</td>\n",
              "      <td>afford budget econom</td>\n",
              "      <td>[-0.5396188, 1.5039314, -3.6813974, 0.72759724...</td>\n",
              "      <td>[-0.121539354, 0.3638302, -2.9874213, 0.153483...</td>\n",
              "      <td>[0.41714233, 0.93826044, -2.9774604, -0.179409...</td>\n",
              "      <td>[-0.34371617, 1.54506, -4.3396707, -0.8498875,...</td>\n",
              "    </tr>\n",
              "    <tr>\n",
              "      <th>634</th>\n",
              "      <td>Sura Hagia Sophia Hotel</td>\n",
              "      <td>Sura Hagia Sophia Hotel, located in Sultanahme...</td>\n",
              "      <td>The Sura Hagia Sophia Hotel in Istanbul offers...</td>\n",
              "      <td>4.5</td>\n",
              "      <td>934.0</td>\n",
              "      <td>Dr.</td>\n",
              "      <td>The hotel provided a delightful and comfortabl...</td>\n",
              "      <td>4.67</td>\n",
              "      <td>2022-08</td>\n",
              "      <td>affordable, budget, economical</td>\n",
              "      <td>...</td>\n",
              "      <td>Dr.: The hotel provided a delightful and comfo...</td>\n",
              "      <td>Divanyolu Cd. Alemdar Mah. Ticarethane Sk. No....</td>\n",
              "      <td>sura hagia sophia hotel locat sultanahmet host...</td>\n",
              "      <td>hotel provid delight comfort stay except servi...</td>\n",
              "      <td>divanyolu cd alemdar mah ticarethan sk 10 ista...</td>\n",
              "      <td>afford budget econom</td>\n",
              "      <td>[-1.0684416, 1.603552, -3.359347, -0.31470433,...</td>\n",
              "      <td>[-0.5890545, 0.49789277, -3.022979, 0.11913945...</td>\n",
              "      <td>[0.41714233, 0.93826044, -2.9774604, -0.179409...</td>\n",
              "      <td>[-0.48204726, 1.1494806, -3.786967, -0.0007931...</td>\n",
              "    </tr>\n",
              "  </tbody>\n",
              "</table>\n",
              "<p>5 rows × 25 columns</p>\n",
              "</div>\n",
              "    <div class=\"colab-df-buttons\">\n",
              "\n",
              "  <div class=\"colab-df-container\">\n",
              "    <button class=\"colab-df-convert\" onclick=\"convertToInteractive('df-aa6ac68c-ead6-411d-87c9-696ba7b4a0b7')\"\n",
              "            title=\"Convert this dataframe to an interactive table.\"\n",
              "            style=\"display:none;\">\n",
              "\n",
              "  <svg xmlns=\"http://www.w3.org/2000/svg\" height=\"24px\" viewBox=\"0 -960 960 960\">\n",
              "    <path d=\"M120-120v-720h720v720H120Zm60-500h600v-160H180v160Zm220 220h160v-160H400v160Zm0 220h160v-160H400v160ZM180-400h160v-160H180v160Zm440 0h160v-160H620v160ZM180-180h160v-160H180v160Zm440 0h160v-160H620v160Z\"/>\n",
              "  </svg>\n",
              "    </button>\n",
              "\n",
              "  <style>\n",
              "    .colab-df-container {\n",
              "      display:flex;\n",
              "      gap: 12px;\n",
              "    }\n",
              "\n",
              "    .colab-df-convert {\n",
              "      background-color: #E8F0FE;\n",
              "      border: none;\n",
              "      border-radius: 50%;\n",
              "      cursor: pointer;\n",
              "      display: none;\n",
              "      fill: #1967D2;\n",
              "      height: 32px;\n",
              "      padding: 0 0 0 0;\n",
              "      width: 32px;\n",
              "    }\n",
              "\n",
              "    .colab-df-convert:hover {\n",
              "      background-color: #E2EBFA;\n",
              "      box-shadow: 0px 1px 2px rgba(60, 64, 67, 0.3), 0px 1px 3px 1px rgba(60, 64, 67, 0.15);\n",
              "      fill: #174EA6;\n",
              "    }\n",
              "\n",
              "    .colab-df-buttons div {\n",
              "      margin-bottom: 4px;\n",
              "    }\n",
              "\n",
              "    [theme=dark] .colab-df-convert {\n",
              "      background-color: #3B4455;\n",
              "      fill: #D2E3FC;\n",
              "    }\n",
              "\n",
              "    [theme=dark] .colab-df-convert:hover {\n",
              "      background-color: #434B5C;\n",
              "      box-shadow: 0px 1px 3px 1px rgba(0, 0, 0, 0.15);\n",
              "      filter: drop-shadow(0px 1px 2px rgba(0, 0, 0, 0.3));\n",
              "      fill: #FFFFFF;\n",
              "    }\n",
              "  </style>\n",
              "\n",
              "    <script>\n",
              "      const buttonEl =\n",
              "        document.querySelector('#df-aa6ac68c-ead6-411d-87c9-696ba7b4a0b7 button.colab-df-convert');\n",
              "      buttonEl.style.display =\n",
              "        google.colab.kernel.accessAllowed ? 'block' : 'none';\n",
              "\n",
              "      async function convertToInteractive(key) {\n",
              "        const element = document.querySelector('#df-aa6ac68c-ead6-411d-87c9-696ba7b4a0b7');\n",
              "        const dataTable =\n",
              "          await google.colab.kernel.invokeFunction('convertToInteractive',\n",
              "                                                    [key], {});\n",
              "        if (!dataTable) return;\n",
              "\n",
              "        const docLinkHtml = 'Like what you see? Visit the ' +\n",
              "          '<a target=\"_blank\" href=https://colab.research.google.com/notebooks/data_table.ipynb>data table notebook</a>'\n",
              "          + ' to learn more about interactive tables.';\n",
              "        element.innerHTML = '';\n",
              "        dataTable['output_type'] = 'display_data';\n",
              "        await google.colab.output.renderOutput(dataTable, element);\n",
              "        const docLink = document.createElement('div');\n",
              "        docLink.innerHTML = docLinkHtml;\n",
              "        element.appendChild(docLink);\n",
              "      }\n",
              "    </script>\n",
              "  </div>\n",
              "\n",
              "\n",
              "<div id=\"df-da0618ab-54af-414e-91f7-02675ba7daf7\">\n",
              "  <button class=\"colab-df-quickchart\" onclick=\"quickchart('df-da0618ab-54af-414e-91f7-02675ba7daf7')\"\n",
              "            title=\"Suggest charts\"\n",
              "            style=\"display:none;\">\n",
              "\n",
              "<svg xmlns=\"http://www.w3.org/2000/svg\" height=\"24px\"viewBox=\"0 0 24 24\"\n",
              "     width=\"24px\">\n",
              "    <g>\n",
              "        <path d=\"M19 3H5c-1.1 0-2 .9-2 2v14c0 1.1.9 2 2 2h14c1.1 0 2-.9 2-2V5c0-1.1-.9-2-2-2zM9 17H7v-7h2v7zm4 0h-2V7h2v10zm4 0h-2v-4h2v4z\"/>\n",
              "    </g>\n",
              "</svg>\n",
              "  </button>\n",
              "\n",
              "<style>\n",
              "  .colab-df-quickchart {\n",
              "      --bg-color: #E8F0FE;\n",
              "      --fill-color: #1967D2;\n",
              "      --hover-bg-color: #E2EBFA;\n",
              "      --hover-fill-color: #174EA6;\n",
              "      --disabled-fill-color: #AAA;\n",
              "      --disabled-bg-color: #DDD;\n",
              "  }\n",
              "\n",
              "  [theme=dark] .colab-df-quickchart {\n",
              "      --bg-color: #3B4455;\n",
              "      --fill-color: #D2E3FC;\n",
              "      --hover-bg-color: #434B5C;\n",
              "      --hover-fill-color: #FFFFFF;\n",
              "      --disabled-bg-color: #3B4455;\n",
              "      --disabled-fill-color: #666;\n",
              "  }\n",
              "\n",
              "  .colab-df-quickchart {\n",
              "    background-color: var(--bg-color);\n",
              "    border: none;\n",
              "    border-radius: 50%;\n",
              "    cursor: pointer;\n",
              "    display: none;\n",
              "    fill: var(--fill-color);\n",
              "    height: 32px;\n",
              "    padding: 0;\n",
              "    width: 32px;\n",
              "  }\n",
              "\n",
              "  .colab-df-quickchart:hover {\n",
              "    background-color: var(--hover-bg-color);\n",
              "    box-shadow: 0 1px 2px rgba(60, 64, 67, 0.3), 0 1px 3px 1px rgba(60, 64, 67, 0.15);\n",
              "    fill: var(--button-hover-fill-color);\n",
              "  }\n",
              "\n",
              "  .colab-df-quickchart-complete:disabled,\n",
              "  .colab-df-quickchart-complete:disabled:hover {\n",
              "    background-color: var(--disabled-bg-color);\n",
              "    fill: var(--disabled-fill-color);\n",
              "    box-shadow: none;\n",
              "  }\n",
              "\n",
              "  .colab-df-spinner {\n",
              "    border: 2px solid var(--fill-color);\n",
              "    border-color: transparent;\n",
              "    border-bottom-color: var(--fill-color);\n",
              "    animation:\n",
              "      spin 1s steps(1) infinite;\n",
              "  }\n",
              "\n",
              "  @keyframes spin {\n",
              "    0% {\n",
              "      border-color: transparent;\n",
              "      border-bottom-color: var(--fill-color);\n",
              "      border-left-color: var(--fill-color);\n",
              "    }\n",
              "    20% {\n",
              "      border-color: transparent;\n",
              "      border-left-color: var(--fill-color);\n",
              "      border-top-color: var(--fill-color);\n",
              "    }\n",
              "    30% {\n",
              "      border-color: transparent;\n",
              "      border-left-color: var(--fill-color);\n",
              "      border-top-color: var(--fill-color);\n",
              "      border-right-color: var(--fill-color);\n",
              "    }\n",
              "    40% {\n",
              "      border-color: transparent;\n",
              "      border-right-color: var(--fill-color);\n",
              "      border-top-color: var(--fill-color);\n",
              "    }\n",
              "    60% {\n",
              "      border-color: transparent;\n",
              "      border-right-color: var(--fill-color);\n",
              "    }\n",
              "    80% {\n",
              "      border-color: transparent;\n",
              "      border-right-color: var(--fill-color);\n",
              "      border-bottom-color: var(--fill-color);\n",
              "    }\n",
              "    90% {\n",
              "      border-color: transparent;\n",
              "      border-bottom-color: var(--fill-color);\n",
              "    }\n",
              "  }\n",
              "</style>\n",
              "\n",
              "  <script>\n",
              "    async function quickchart(key) {\n",
              "      const quickchartButtonEl =\n",
              "        document.querySelector('#' + key + ' button');\n",
              "      quickchartButtonEl.disabled = true;  // To prevent multiple clicks.\n",
              "      quickchartButtonEl.classList.add('colab-df-spinner');\n",
              "      try {\n",
              "        const charts = await google.colab.kernel.invokeFunction(\n",
              "            'suggestCharts', [key], {});\n",
              "      } catch (error) {\n",
              "        console.error('Error during call to suggestCharts:', error);\n",
              "      }\n",
              "      quickchartButtonEl.classList.remove('colab-df-spinner');\n",
              "      quickchartButtonEl.classList.add('colab-df-quickchart-complete');\n",
              "    }\n",
              "    (() => {\n",
              "      let quickchartButtonEl =\n",
              "        document.querySelector('#df-da0618ab-54af-414e-91f7-02675ba7daf7 button');\n",
              "      quickchartButtonEl.style.display =\n",
              "        google.colab.kernel.accessAllowed ? 'block' : 'none';\n",
              "    })();\n",
              "  </script>\n",
              "</div>\n",
              "\n",
              "    </div>\n",
              "  </div>\n"
            ],
            "text/plain": [
              "                                             hotel_name  \\\n",
              "2623                       Canopy by Hilton London City   \n",
              "3499                        Palmers Lodge Swiss Cottage   \n",
              "2432                        Park Grand London Hyde Park   \n",
              "1552  BEI San Francisco, Trademark Collection by Wyn...   \n",
              "634                             Sura Hagia Sophia Hotel   \n",
              "\n",
              "                                      hotel_description  \\\n",
              "2623  Canopy by Hilton London City is an impressive ...   \n",
              "3499  Palmers Lodge Swiss Cottage garners praise for...   \n",
              "2432  Experience elegance and luxury at Park Grand H...   \n",
              "1552  In the heart of San Francisco’s Civic Center, ...   \n",
              "634   Sura Hagia Sophia Hotel, located in Sultanahme...   \n",
              "\n",
              "                              hotel_description_summary  rating_value  \\\n",
              "2623  Canopy by Hilton London City is a stylish new ...           5.0   \n",
              "3499  Palmers Lodge Swiss Cottage offers clean rooms...           4.0   \n",
              "2432  Park Grand Hyde Park Hotel combines contempora...           4.5   \n",
              "1552  BEI in San Francisco's Civic Center provides a...           4.0   \n",
              "634   The Sura Hagia Sophia Hotel in Istanbul offers...           4.5   \n",
              "\n",
              "      review_count                     review_title  \\\n",
              "2623         911.0       3 amazing days in Canopy!    \n",
              "3499        2133.0  Excellent accommodation hostel    \n",
              "2432        4166.0                        Relaxing    \n",
              "1552         581.0                 Delightful stay!   \n",
              "634          934.0                              Dr.   \n",
              "\n",
              "                                            review_text  rate tripdate  \\\n",
              "2623  We spent 3 amazing days at Canopy! Georgia, De...  5.00  2023-12   \n",
              "3499  It's amazing hostel , I recommend it every thi...  5.00  2023-11   \n",
              "2432   Mr Mubashir gave us a very warm welcoming and...  5.00  2023-12   \n",
              "1552  Delightful stay! From the warm welcome to the ...  5.00  2023-11   \n",
              "634   The hotel provided a delightful and comfortabl...  4.67  2022-08   \n",
              "\n",
              "                          price_range  ...  \\\n",
              "2623  moderate, mid-range, reasonable  ...   \n",
              "3499   affordable, budget, economical  ...   \n",
              "2432   affordable, budget, economical  ...   \n",
              "1552   affordable, budget, economical  ...   \n",
              "634    affordable, budget, economical  ...   \n",
              "\n",
              "                                            full_review  \\\n",
              "2623  3 amazing days in Canopy! : We spent 3 amazing...   \n",
              "3499  Excellent accommodation hostel : It's amazing ...   \n",
              "2432  Relaxing :  Mr Mubashir gave us a very warm we...   \n",
              "1552  Delightful stay!: Delightful stay! From the wa...   \n",
              "634   Dr.: The hotel provided a delightful and comfo...   \n",
              "\n",
              "                                           full_address  \\\n",
              "2623             11-15 Minories, London, United Kingdom   \n",
              "3499            40 College Cres, London, United Kingdom   \n",
              "2432  78 - 82 Westbourne Terrace Paddington, London,...   \n",
              "1552            50 8th St, San Francisco, United States   \n",
              "634   Divanyolu Cd. Alemdar Mah. Ticarethane Sk. No....   \n",
              "\n",
              "                                  description_processed  \\\n",
              "2623  canopi hilton london citi impress new hotel lo...   \n",
              "3499  palmer lodg swiss cottag garner prais cleanli ...   \n",
              "2432  experi eleg luxuri park grand hyde park hotel ...   \n",
              "1552  heart san francisco civic center bei destin bu...   \n",
              "634   sura hagia sophia hotel locat sultanahmet host...   \n",
              "\n",
              "                                  full_review_processed  \\\n",
              "2623  3 amaz day canopi spent 3 amaz day canopi geor...   \n",
              "3499  excel accommod hostel amaz hostel recommend ev...   \n",
              "2432  relax mr mubashir gave us warm welcom staff ki...   \n",
              "1552  delight stay delight stay warm welcom cozi roo...   \n",
              "634   hotel provid delight comfort stay except servi...   \n",
              "\n",
              "                                      address_processed       price_processed  \\\n",
              "2623                         minori london unit kingdom          moder reason   \n",
              "3499                  40 colleg cre london unit kingdom  afford budget econom   \n",
              "2432  78 82 westbourn terrac paddington london unit ...  afford budget econom   \n",
              "1552                 50 8th st san francisco unit state  afford budget econom   \n",
              "634   divanyolu cd alemdar mah ticarethan sk 10 ista...  afford budget econom   \n",
              "\n",
              "                                 embedding_descriptions  \\\n",
              "2623  [-0.70117855, 0.75697166, -3.6809473, -0.12613...   \n",
              "3499  [-0.9376102, 1.0186832, -3.6288683, -1.2321209...   \n",
              "2432  [-0.9192584, 1.7232802, -3.4214063, -0.2609110...   \n",
              "1552  [-0.5396188, 1.5039314, -3.6813974, 0.72759724...   \n",
              "634   [-1.0684416, 1.603552, -3.359347, -0.31470433,...   \n",
              "\n",
              "                                    embedding_addresses  \\\n",
              "2623  [-0.07866699, 0.3256071, -3.7898421, -1.125340...   \n",
              "3499  [-0.21679592, -0.5376356, -4.0752683, -1.11421...   \n",
              "2432  [-0.4918593, -0.2640891, -3.4415865, -1.722679...   \n",
              "1552  [-0.121539354, 0.3638302, -2.9874213, 0.153483...   \n",
              "634   [-0.5890545, 0.49789277, -3.022979, 0.11913945...   \n",
              "\n",
              "                                       embedding_prices  \\\n",
              "2623  [0.16235323, 0.4613351, -3.2719269, -0.4398266...   \n",
              "3499  [0.41714233, 0.93826044, -2.9774604, -0.179409...   \n",
              "2432  [0.41714233, 0.93826044, -2.9774604, -0.179409...   \n",
              "1552  [0.41714233, 0.93826044, -2.9774604, -0.179409...   \n",
              "634   [0.41714233, 0.93826044, -2.9774604, -0.179409...   \n",
              "\n",
              "                                  embedding_full_review  \n",
              "2623  [0.031118423, 0.6318265, -4.217355, 0.09739119...  \n",
              "3499  [-1.3095641, 1.3902057, -3.449737, 0.36841518,...  \n",
              "2432  [-0.29889593, 1.6662335, -3.8145454, -0.909224...  \n",
              "1552  [-0.34371617, 1.54506, -4.3396707, -0.8498875,...  \n",
              "634   [-0.48204726, 1.1494806, -3.786967, -0.0007931...  \n",
              "\n",
              "[5 rows x 25 columns]"
            ]
          },
          "execution_count": 31,
          "metadata": {},
          "output_type": "execute_result"
        }
      ],
      "source": [
        "df.sample(5)"
      ]
    },
    {
      "cell_type": "code",
      "execution_count": 32,
      "id": "FVslg1bTfEOZ",
      "metadata": {
        "id": "FVslg1bTfEOZ"
      },
      "outputs": [],
      "source": [
        "df.to_csv('/content/drive/MyDrive/data_with_embeddings.csv', index=False)"
      ]
    },
    {
      "cell_type": "markdown",
      "id": "06f2b853",
      "metadata": {},
      "source": [
        "## Search Engine"
      ]
    },
    {
      "cell_type": "code",
      "execution_count": 66,
      "id": "l5-sSuqM8P3Y",
      "metadata": {
        "colab": {
          "base_uri": "https://localhost:8080/"
        },
        "id": "l5-sSuqM8P3Y",
        "outputId": "bce6f4e0-d29b-4122-e096-ba40077c5783"
      },
      "outputs": [
        {
          "name": "stdout",
          "output_type": "stream",
          "text": [
            "(5997, 768)\n",
            "(5997, 768)\n",
            "(5997, 768)\n",
            "(5997, 768)\n"
          ]
        }
      ],
      "source": [
        "embeddings_addresses_array = np.vstack(df['embedding_addresses'])\n",
        "embeddings_prices_array = np.vstack(df['embedding_prices'])\n",
        "embeddings_full_review_array = np.vstack(df['embedding_full_review'])\n",
        "embeddings_descriptions_array = np.vstack(df['embedding_descriptions'])\n",
        "\n",
        "print(embeddings_addresses_array.shape)\n",
        "print(embeddings_prices_array.shape)\n",
        "print(embeddings_full_review_array.shape)\n",
        "print(embeddings_descriptions_array.shape)"
      ]
    },
    {
      "cell_type": "code",
      "execution_count": 67,
      "id": "gJ1i0l73PqY0",
      "metadata": {
        "colab": {
          "base_uri": "https://localhost:8080/"
        },
        "id": "gJ1i0l73PqY0",
        "outputId": "842be476-544f-4df0-9eeb-fb0d9046f2a6"
      },
      "outputs": [
        {
          "name": "stdout",
          "output_type": "stream",
          "text": [
            "Shape of combined_embeddings: (5997, 3072)\n"
          ]
        }
      ],
      "source": [
        "combined_embeddings = np.hstack([\n",
        "    embeddings_addresses_array,\n",
        "    embeddings_prices_array,\n",
        "    embeddings_full_review_array,\n",
        "    embeddings_descriptions_array\n",
        "])\n",
        "\n",
        "print(\"Shape of combined_embeddings:\", combined_embeddings.shape)"
      ]
    },
    {
      "cell_type": "code",
      "execution_count": 34,
      "id": "XDI5_7G7QS81",
      "metadata": {
        "colab": {
          "base_uri": "https://localhost:8080/"
        },
        "id": "XDI5_7G7QS81",
        "outputId": "18efa9ea-f86d-4b46-a2fe-0437ff85cc38"
      },
      "outputs": [
        {
          "name": "stderr",
          "output_type": "stream",
          "text": [
            "[nltk_data] Downloading package punkt to /root/nltk_data...\n",
            "[nltk_data]   Package punkt is already up-to-date!\n",
            "[nltk_data] Downloading package stopwords to /root/nltk_data...\n",
            "[nltk_data]   Package stopwords is already up-to-date!\n"
          ]
        }
      ],
      "source": [
        "from nltk.tokenize import word_tokenize\n",
        "from nltk.corpus import stopwords\n",
        "from nltk.stem import PorterStemmer\n",
        "import string\n",
        "import re\n",
        "import nltk\n",
        "\n",
        "nltk.download('punkt')\n",
        "nltk.download('stopwords')\n",
        "\n",
        "stop_words = set(stopwords.words('english'))\n",
        "stemmer = PorterStemmer()\n",
        "\n",
        "def preprocess_text(text):\n",
        "    # Tokenize and convert to lowercase\n",
        "    tokens = word_tokenize(text.lower())\n",
        "\n",
        "    # Keep only alphanumeric tokens (including alphabetic and numeric characters)\n",
        "    tokens = [word for word in tokens if word.isalnum()]\n",
        "\n",
        "    # Remove stop words and apply stemming\n",
        "    tokens = [stemmer.stem(word) for word in tokens if word not in stop_words]\n",
        "\n",
        "    # Join tokens back into a single string\n",
        "    return ' '.join(tokens)"
      ]
    },
    {
      "cell_type": "code",
      "execution_count": 35,
      "id": "Bh2zmmYfQL5_",
      "metadata": {
        "colab": {
          "base_uri": "https://localhost:8080/"
        },
        "id": "Bh2zmmYfQL5_",
        "outputId": "cc30e09b-534e-43ad-ea67-96c4ba2b1655"
      },
      "outputs": [
        {
          "name": "stderr",
          "output_type": "stream",
          "text": [
            "WARNING:transformers_modules.nomic-ai.nomic-bert-2048.e55a7d4324f65581af5f483e830b80f34680e8ff.modeling_hf_nomic_bert:<All keys matched successfully>\n"
          ]
        }
      ],
      "source": [
        "from sentence_transformers import SentenceTransformer\n",
        "import torch\n",
        "\n",
        "device = torch.device('cuda' if torch.cuda.is_available() else 'cpu')\n",
        "model = SentenceTransformer(\"nomic-ai/nomic-embed-text-v1.5\" , trust_remote_code=True)\n",
        "\n",
        "def embed(text):\n",
        "    embeddings = model.encode(text, convert_to_tensor=True)\n",
        "    embeddings = embeddings.to(device)\n",
        "    return embeddings"
      ]
    },
    {
      "cell_type": "code",
      "execution_count": 36,
      "id": "RxQis4uOQGf_",
      "metadata": {
        "id": "RxQis4uOQGf_"
      },
      "outputs": [],
      "source": [
        "query = \"A good hotel with a great view on New York\"\n",
        "query_preprocessing = preprocess_text(query)\n",
        "query_embedding = embed([query]).cpu().numpy()[0]"
      ]
    },
    {
      "cell_type": "code",
      "execution_count": 37,
      "id": "d3TD1KVNP3lB",
      "metadata": {
        "id": "d3TD1KVNP3lB"
      },
      "outputs": [],
      "source": [
        "query_addresses_embedding = embed([query_preprocessing]).cpu().numpy()[0]\n",
        "query_prices_embedding = embed([query_preprocessing]).cpu().numpy()[0]\n",
        "query_full_review_embedding = embed([query_preprocessing]).cpu().numpy()[0]\n",
        "query_descriptions_embedding = embed([query_preprocessing]).cpu().numpy()[0]"
      ]
    },
    {
      "cell_type": "code",
      "execution_count": 41,
      "id": "Bwxa_72OP4Np",
      "metadata": {
        "id": "Bwxa_72OP4Np"
      },
      "outputs": [],
      "source": [
        "query_combined_embedding = np.concatenate([\n",
        "    query_addresses_embedding,\n",
        "    query_prices_embedding,\n",
        "    query_full_review_embedding,\n",
        "    query_descriptions_embedding\n",
        "])"
      ]
    },
    {
      "cell_type": "code",
      "execution_count": 43,
      "id": "SI5exnegQQtM",
      "metadata": {
        "colab": {
          "base_uri": "https://localhost:8080/"
        },
        "id": "SI5exnegQQtM",
        "outputId": "5455fae6-14c9-4ffb-85a4-045e5df996ec"
      },
      "outputs": [
        {
          "name": "stdout",
          "output_type": "stream",
          "text": [
            "Query combined embedding shape after reshaping: (1, 3072)\n"
          ]
        }
      ],
      "source": [
        "query_combined_embedding = query_combined_embedding.reshape(1, -1)\n",
        "print(\"Query combined embedding shape after reshaping:\", query_combined_embedding.shape)"
      ]
    },
    {
      "cell_type": "code",
      "execution_count": 123,
      "id": "zvOKyJHrS86P",
      "metadata": {
        "colab": {
          "base_uri": "https://localhost:8080/"
        },
        "collapsed": true,
        "id": "zvOKyJHrS86P",
        "outputId": "c31924b3-1f95-436a-a53e-e4ba6250edfb"
      },
      "outputs": [
        {
          "name": "stdout",
          "output_type": "stream",
          "text": [
            "Requirement already satisfied: rank_bm25 in /usr/local/lib/python3.10/dist-packages (0.2.2)\n",
            "Requirement already satisfied: numpy in /usr/local/lib/python3.10/dist-packages (from rank_bm25) (1.26.4)\n"
          ]
        }
      ],
      "source": [
        "!pip install rank_bm25"
      ]
    },
    {
      "cell_type": "code",
      "execution_count": 44,
      "id": "6N2pz_mRwSzs",
      "metadata": {
        "id": "6N2pz_mRwSzs"
      },
      "outputs": [],
      "source": [
        "from rank_bm25 import BM25Okapi\n",
        "\n",
        "def bm25_search(df, query, k1=1.5, b=0.75):\n",
        "    \"\"\"\n",
        "    Perform BM25 search across tokenized columns in a DataFrame.\n",
        "\n",
        "    Parameters:\n",
        "    - df: pandas DataFrame containing tokenized text columns\n",
        "    - query: string representing the search query\n",
        "\n",
        "    Returns:\n",
        "    - scores: list of BM25 relevance scores for each row in the DataFrame\n",
        "    \"\"\"\n",
        "    # Combine all tokenized fields for BM25 search\n",
        "    combined_columns = [\n",
        "        description + full_review + address + price\n",
        "        for description, full_review, address, price in zip(\n",
        "            df['description_processed'], df['full_review_processed'], df['address_processed'], df['price_processed']\n",
        "        )\n",
        "    ]\n",
        "    # Initialize BM25 model\n",
        "    bm25 = BM25Okapi(combined_columns, k1=k1, b=b)\n",
        "\n",
        "    # Perform search and get relevance scores\n",
        "    scores = bm25.get_scores(query_preprocessing)\n",
        "\n",
        "    return scores"
      ]
    },
    {
      "cell_type": "code",
      "execution_count": 45,
      "id": "yoqT_9LJfAxW",
      "metadata": {
        "id": "yoqT_9LJfAxW"
      },
      "outputs": [],
      "source": [
        "scores = bm25_search(df, query_preprocessing, k1=1.5, b=0.75)"
      ]
    },
    {
      "cell_type": "code",
      "execution_count": 46,
      "id": "RGgtV_HDUiqN",
      "metadata": {
        "id": "RGgtV_HDUiqN"
      },
      "outputs": [],
      "source": [
        "scores = np.array(scores)"
      ]
    },
    {
      "cell_type": "code",
      "execution_count": 47,
      "id": "YJ4CQtmwPOEi",
      "metadata": {
        "id": "YJ4CQtmwPOEi"
      },
      "outputs": [],
      "source": [
        "top_indices = np.argsort(scores)[::-1][:5]"
      ]
    },
    {
      "cell_type": "code",
      "execution_count": 48,
      "id": "jPxrYcCKfptw",
      "metadata": {
        "colab": {
          "base_uri": "https://localhost:8080/"
        },
        "id": "jPxrYcCKfptw",
        "outputId": "ca417029-81ab-4c15-f0e4-498716f5c298"
      },
      "outputs": [
        {
          "name": "stdout",
          "output_type": "stream",
          "text": [
            "Hotel Name: Travelodge London City hotel\n",
            "Description: Travelodge London City offers comfortable, family-friendly accommodation with amenities like flat-screen TVs and free wifi. Enjoy a meal at their on-site restaurant or explore nearby attractions like Covent Garden, the Coca-Cola London Eye, and iconic landmarks like Tower of London.  The hotel's location grants easy access to diverse restaurants and thrilling experiences within walking distance, making it an ideal choice for travelers seeking convenience and comfort in London. \n",
            "\n",
            "Review Title: Wonderful stay - nightmare departure!\n",
            "Review Text: I had a horrendous time trying to vacate my room, the key wouldn’t work, I went to reception 4 times and nobody was willing to help just replace keys which again didn’t work! Turned and wonderful stay into a nightmare!   I had timed my journey via underground - Heathrow express to Heathrow to catch a flight and was quite comfortable with my journey but after 1/2 hour, I was beginning to feel stressed and concerned that I would miss my flight as my luggage and passport were locked in my room!  I found your staff to be incompetent and unhelpful, I asked several times if someone could come back to my room (on the 6th floor) and let me in with a master key and was told reception couldn’t leave the desk, when actually I had to wait twice while dealing with my issue as nobody was\n",
            "Rating: 1.0\n",
            "Price Range: affordable, budget, economical\n",
            "Trip Date: 2024-01\n",
            "Hotel URL: https://www.tripadvisor.com/Hotel_Review-g186338-d13569031-Reviews-or10-Travelodge_London_City_hotel-London_England.html\n",
            "Rating Value: 4.5\n",
            "Review Count: 3242.0\n",
            "Country: United Kingdom\n",
            "City: London\n",
            "Street Address: 20 Middlesex Street\n",
            "Hotel Image: https://media-cdn.tripadvisor.com/media/photo-s/24/fe/f8/9b/travelodge-londoncity.jpg\n",
            "\n",
            "----------------------------------------\n",
            "Hotel Name: Travelodge London Central Kings Cross\n",
            "Description: Travelodge London Central Kings Cross offers convenient access to London's top attractions like Covent Garden and the Coca-Cola London Eye. Comfortable guest rooms include flat screen TVs, and free WiFi ensures easy connectivity. Guests can enjoy a complimentary breakfast and explore nearby restaurants like Hawksmoor Seven Dials, Ye Olde Cheshire Cheese, and ROKA Charlotte Street.  The British Museum is also within walking distance. \n",
            "\n",
            "Review Title: Think twice before booking\n",
            "Review Text: We prefered this hotel due to allowing pets however pet is not allowed in breakfast area. Had to enter the area separately with my partner as my dog can not stay alone. There was no hot food in breakfast even we paid extra.  If your room located near middle door, I suggest you to request change. Lots of door closure noise during night.  Otherwise, comfortable bed and enough big , warm room.\n",
            "Rating: 2.0\n",
            "Price Range: affordable, budget, economical\n",
            "Trip Date: 2024-01\n",
            "Hotel URL: https://www.tripadvisor.com/Hotel_Review-g186338-d289706-Reviews-or10-Travelodge_London_Central_Kings_Cross-London_England.html\n",
            "Rating Value: 4.5\n",
            "Review Count: 395.0\n",
            "Country: United Kingdom\n",
            "City: London\n",
            "Street Address: Willing House 356-364 Gray's Inn Road Willings House\n",
            "Hotel Image: https://media-cdn.tripadvisor.com/media/photo-s/26/37/24/88/gb-exterior.jpg\n",
            "\n",
            "----------------------------------------\n",
            "Hotel Name: Warwick New York\n",
            "Description: The Warwick Hotel in New York boasts a rich history dating back to 1926, built by media tycoon William Randolph Hearst. Its iconic status draws renowned guests like The Beatles and Elvis throughout the years. Today, this 4-star luxury hotel continues to deliver exceptional service and hospitality while embodying both style and tradition.  \n",
            "\n",
            "Review Title: Lovely hotel, great staff!\n",
            "Review Text: I booked this hotel as a package through Last-minute.com, as it was well-priced and the location was good. It was near Central Park, and there was a Prets around the corner and a couple of food stores very nearby. When I arrived I was told I'd been upgraded to a suite! It was absolutely lovely - bigger than my first apartment! There was a living room, large bedroom, bath and shower, a tiny kitchen, two TVs, walk in cupboard with hairdryer, iron and ironing board, safe, and luggage stand; two bottles of water, a coffee maker, slippers, recycling bins, desk with sockets, and loads of drawer units. There were three windows... the only downside was that the views from each were brick walls! But I wasn't there for the view! Staff were lovely, very helpful, especially the doorman who\n",
            "Rating: 5.0\n",
            "Price Range: moderate, mid-range, reasonable\n",
            "Trip Date: 2023-09\n",
            "Hotel URL: https://www.tripadvisor.com/Hotel_Review-g60763-d112064-Reviews-or20-Warwick_New_York-New_York_City_New_York.html\n",
            "Rating Value: 4.5\n",
            "Review Count: 5425.0\n",
            "Country: United States\n",
            "City: New York City\n",
            "Street Address: 65 W 54th St\n",
            "Hotel Image: https://media-cdn.tripadvisor.com/media/photo-s/1d/a0/45/91/warwick-new-york.jpg\n",
            "\n",
            "----------------------------------------\n",
            "Hotel Name: Travelodge London Central Kings Cross\n",
            "Description: Travelodge London Central Kings Cross offers convenient access to London's top attractions like Covent Garden and the Coca-Cola London Eye. Comfortable guest rooms include flat screen TVs, and free WiFi ensures easy connectivity. Guests can enjoy a complimentary breakfast and explore nearby restaurants like Hawksmoor Seven Dials, Ye Olde Cheshire Cheese, and ROKA Charlotte Street.  The British Museum is also within walking distance. \n",
            "\n",
            "Review Title: Great location, lack of amenities :(\n",
            "Review Text: The location of the hotel is fantastic, all of the staff were lovely, the room was what we needed, but when I got into the shower I found there was no shower gel in the dispenser, at this point I could not go down to the front desk without having to dry off, get dressed and shower again, so had a thoroughly disappointing shower, bad start to my day\n",
            "Rating: 3.0\n",
            "Price Range: affordable, budget, economical\n",
            "Trip Date: 2024-01\n",
            "Hotel URL: https://www.tripadvisor.com/Hotel_Review-g186338-d289706-Reviews-or10-Travelodge_London_Central_Kings_Cross-London_England.html\n",
            "Rating Value: 4.5\n",
            "Review Count: 395.0\n",
            "Country: United Kingdom\n",
            "City: London\n",
            "Street Address: Willing House 356-364 Gray's Inn Road Willings House\n",
            "Hotel Image: https://media-cdn.tripadvisor.com/media/photo-s/26/37/24/88/gb-exterior.jpg\n",
            "\n",
            "----------------------------------------\n",
            "Hotel Name: Travelodge London Central Kings Cross\n",
            "Description: Travelodge London Central Kings Cross offers convenient access to London's top attractions like Covent Garden and the Coca-Cola London Eye. Comfortable guest rooms include flat screen TVs, and free WiFi ensures easy connectivity. Guests can enjoy a complimentary breakfast and explore nearby restaurants like Hawksmoor Seven Dials, Ye Olde Cheshire Cheese, and ROKA Charlotte Street.  The British Museum is also within walking distance. \n",
            "\n",
            "Review Title: Stay at Travelodge Kings Cross\n",
            "Review Text: Staff very welcoming and helpful. Receptionist Bee very kind and thoughtful Andrew, manager also very welcoming Staff keen  to make my stay comfortable. Breakfast sufficient and variety good Room vomfortable Thank you\n",
            "Rating: 4.0\n",
            "Price Range: affordable, budget, economical\n",
            "Trip Date: 2024-01\n",
            "Hotel URL: https://www.tripadvisor.com/Hotel_Review-g186338-d289706-Reviews-or30-Travelodge_London_Central_Kings_Cross-London_England.html\n",
            "Rating Value: 4.5\n",
            "Review Count: 395.0\n",
            "Country: United Kingdom\n",
            "City: London\n",
            "Street Address: Willing House 356-364 Gray's Inn Road Willings House\n",
            "Hotel Image: https://media-cdn.tripadvisor.com/media/photo-s/26/37/24/88/gb-exterior.jpg\n",
            "\n",
            "----------------------------------------\n"
          ]
        }
      ],
      "source": [
        "for idx in top_indices:\n",
        "    row = df.iloc[idx]\n",
        "    metadata = (\n",
        "        f\"Hotel Name: {row['hotel_name']}\\n\"\n",
        "        f\"Description: {row['hotel_description_summary']}\\n\"\n",
        "        f\"Review Title: {row['review_title']}\\n\"\n",
        "        f\"Review Text: {row['review_text']}\\n\"\n",
        "        f\"Rating: {row['rate']}\\n\"\n",
        "        f\"Price Range: {row['price_range']}\\n\"\n",
        "        f\"Trip Date: {row['tripdate']}\\n\"\n",
        "        f\"Hotel URL: {row['hotel_url']}\\n\"\n",
        "        f\"Rating Value: {row['rating_value']}\\n\"\n",
        "        f\"Review Count: {row['review_count']}\\n\"\n",
        "        f\"Country: {row['country']}\\n\"\n",
        "        f\"City: {row['locality']}\\n\"\n",
        "        f\"Street Address: {row['street_address']}\\n\"\n",
        "        f\"Hotel Image: {row['hotel_image']}\\n\"\n",
        "    )\n",
        "    print(metadata)\n",
        "    print(\"-\" * 40)"
      ]
    },
    {
      "cell_type": "code",
      "execution_count": 54,
      "id": "riW4TOOBXTg6",
      "metadata": {
        "colab": {
          "base_uri": "https://localhost:8080/"
        },
        "collapsed": true,
        "id": "riW4TOOBXTg6",
        "outputId": "2685e5f3-a39a-4afb-8d0f-9b0a41dbcaaf"
      },
      "outputs": [
        {
          "name": "stdout",
          "output_type": "stream",
          "text": [
            "Collecting faiss-gpu\n",
            "  Downloading faiss_gpu-1.7.2-cp310-cp310-manylinux_2_17_x86_64.manylinux2014_x86_64.whl.metadata (1.4 kB)\n",
            "Downloading faiss_gpu-1.7.2-cp310-cp310-manylinux_2_17_x86_64.manylinux2014_x86_64.whl (85.5 MB)\n",
            "\u001b[2K   \u001b[90m━━━━━━━━━━━━━━━━━━━━━━━━━━━━━━━━━━━━━━━━\u001b[0m \u001b[32m85.5/85.5 MB\u001b[0m \u001b[31m9.1 MB/s\u001b[0m eta \u001b[36m0:00:00\u001b[0m\n",
            "\u001b[?25hInstalling collected packages: faiss-gpu\n",
            "Successfully installed faiss-gpu-1.7.2\n"
          ]
        }
      ],
      "source": [
        "!pip install faiss-gpu"
      ]
    },
    {
      "cell_type": "code",
      "execution_count": 49,
      "id": "ZFQ3tEB91jis",
      "metadata": {
        "colab": {
          "base_uri": "https://localhost:8080/"
        },
        "id": "ZFQ3tEB91jis",
        "outputId": "64450c0b-ed0b-4292-c077-05d1106bc26b"
      },
      "outputs": [
        {
          "data": {
            "text/plain": [
              "['romanc istanbul hotel 39 room elegantli furnish harmon modern life style tradit ottoman touch romanc istanbul sit intersect old citi import part luxuri inspir design landmark old citi locat steep histori surround romanc istanbul hotel welcom except design room turkish hospit colleagu deliv person servic perfectli place perfectli design enhanc istanbul offer room offer privat bathroom shower equip satellit tv free wifi connect room size chang 20 m2 45 m2 includ 7 suit room 1 royal suit 4 grand suit 1 romanc suit 1 premium suit 2 luxuri room terrac 22 delux room 8 citi room',\n",
              " 'romanc istanbul hotel 39 room elegantli furnish harmon modern life style tradit ottoman touch romanc istanbul sit intersect old citi import part luxuri inspir design landmark old citi locat steep histori surround romanc istanbul hotel welcom except design room turkish hospit colleagu deliv person servic perfectli place perfectli design enhanc istanbul offer room offer privat bathroom shower equip satellit tv free wifi connect room size chang 20 m2 45 m2 includ 7 suit room 1 royal suit 4 grand suit 1 romanc suit 1 premium suit 2 luxuri room terrac 22 delux room 8 citi room',\n",
              " 'romanc istanbul hotel 39 room elegantli furnish harmon modern life style tradit ottoman touch romanc istanbul sit intersect old citi import part luxuri inspir design landmark old citi locat steep histori surround romanc istanbul hotel welcom except design room turkish hospit colleagu deliv person servic perfectli place perfectli design enhanc istanbul offer room offer privat bathroom shower equip satellit tv free wifi connect room size chang 20 m2 45 m2 includ 7 suit room 1 royal suit 4 grand suit 1 romanc suit 1 premium suit 2 luxuri room terrac 22 delux room 8 citi room',\n",
              " 'romanc istanbul hotel 39 room elegantli furnish harmon modern life style tradit ottoman touch romanc istanbul sit intersect old citi import part luxuri inspir design landmark old citi locat steep histori surround romanc istanbul hotel welcom except design room turkish hospit colleagu deliv person servic perfectli place perfectli design enhanc istanbul offer room offer privat bathroom shower equip satellit tv free wifi connect room size chang 20 m2 45 m2 includ 7 suit room 1 royal suit 4 grand suit 1 romanc suit 1 premium suit 2 luxuri room terrac 22 delux room 8 citi room',\n",
              " 'romanc istanbul hotel 39 room elegantli furnish harmon modern life style tradit ottoman touch romanc istanbul sit intersect old citi import part luxuri inspir design landmark old citi locat steep histori surround romanc istanbul hotel welcom except design room turkish hospit colleagu deliv person servic perfectli place perfectli design enhanc istanbul offer room offer privat bathroom shower equip satellit tv free wifi connect room size chang 20 m2 45 m2 includ 7 suit room 1 royal suit 4 grand suit 1 romanc suit 1 premium suit 2 luxuri room terrac 22 delux room 8 citi room']"
            ]
          },
          "execution_count": 49,
          "metadata": {},
          "output_type": "execute_result"
        }
      ],
      "source": [
        "sentences = df['description_processed'].tolist()\n",
        "sentences[:5]"
      ]
    },
    {
      "cell_type": "code",
      "execution_count": 50,
      "id": "qOQdzaLq9XYU",
      "metadata": {
        "colab": {
          "base_uri": "https://localhost:8080/"
        },
        "id": "qOQdzaLq9XYU",
        "outputId": "43edf53b-15b7-41bf-f18c-6e749c5eaf85"
      },
      "outputs": [
        {
          "data": {
            "text/plain": [
              "(5997, 768)"
            ]
          },
          "execution_count": 50,
          "metadata": {},
          "output_type": "execute_result"
        }
      ],
      "source": [
        "embeddings_descriptions_array.shape"
      ]
    },
    {
      "cell_type": "code",
      "execution_count": 51,
      "id": "SORbaciE-IpY",
      "metadata": {
        "colab": {
          "base_uri": "https://localhost:8080/"
        },
        "id": "SORbaciE-IpY",
        "outputId": "af5dc7ad-7dc0-49b6-ec25-e67b9c5a863c"
      },
      "outputs": [
        {
          "data": {
            "text/plain": [
              "(768,)"
            ]
          },
          "execution_count": 51,
          "metadata": {},
          "output_type": "execute_result"
        }
      ],
      "source": [
        "query_embedding.shape"
      ]
    },
    {
      "cell_type": "code",
      "execution_count": 52,
      "id": "loLSAk0f9mLT",
      "metadata": {
        "id": "loLSAk0f9mLT"
      },
      "outputs": [],
      "source": [
        "import faiss\n",
        "dimension = embeddings_descriptions_array.shape[1]\n",
        "index = faiss.IndexFlatL2(dimension)"
      ]
    },
    {
      "cell_type": "code",
      "execution_count": 53,
      "id": "FIH9ZPEc90xh",
      "metadata": {
        "colab": {
          "base_uri": "https://localhost:8080/"
        },
        "id": "FIH9ZPEc90xh",
        "outputId": "6127eb34-022a-4125-845e-efff2b5e15cf"
      },
      "outputs": [
        {
          "data": {
            "text/plain": [
              "True"
            ]
          },
          "execution_count": 53,
          "metadata": {},
          "output_type": "execute_result"
        }
      ],
      "source": [
        "index.is_trained"
      ]
    },
    {
      "cell_type": "code",
      "execution_count": 54,
      "id": "W-eLWBgj92ap",
      "metadata": {
        "id": "W-eLWBgj92ap"
      },
      "outputs": [],
      "source": [
        "index.add(embeddings_descriptions_array)"
      ]
    },
    {
      "cell_type": "code",
      "execution_count": 55,
      "id": "PDeJvdYm948G",
      "metadata": {
        "id": "PDeJvdYm948G"
      },
      "outputs": [],
      "source": [
        "k = 5"
      ]
    },
    {
      "cell_type": "code",
      "execution_count": 56,
      "id": "p9ZghR0v-bfy",
      "metadata": {
        "id": "p9ZghR0v-bfy"
      },
      "outputs": [],
      "source": [
        "query_embedding = np.array([query_embedding], dtype=np.float32)"
      ]
    },
    {
      "cell_type": "code",
      "execution_count": 57,
      "id": "_HZrrfV298tK",
      "metadata": {
        "colab": {
          "base_uri": "https://localhost:8080/"
        },
        "id": "_HZrrfV298tK",
        "outputId": "9f54580f-5bc3-4df6-82f2-1698326cb097"
      },
      "outputs": [
        {
          "name": "stdout",
          "output_type": "stream",
          "text": [
            "[[4281 4282 4283 4284 4280]]\n"
          ]
        }
      ],
      "source": [
        "D, I = index.search(query_embedding, k)\n",
        "print(I)"
      ]
    },
    {
      "cell_type": "code",
      "execution_count": 58,
      "id": "49YDt7SX-CGn",
      "metadata": {
        "colab": {
          "base_uri": "https://localhost:8080/"
        },
        "id": "49YDt7SX-CGn",
        "outputId": "e3888662-3be2-4a17-ebca-c12a093666c2"
      },
      "outputs": [
        {
          "name": "stdout",
          "output_type": "stream",
          "text": [
            "Hotel Name: The New Yorker, A Wyndham Hotel\n",
            "Description: The New Yorker Hotel offers a luxurious experience with its recently renovated rooms and suites.  Designed for modern-day business travelers, the hotel provides the comforts of the future while preserving its historic charm in the heart of New York City. \n",
            "\n",
            "Review Title: Dark and Dirty.  Avoid the room upgrade option.\n",
            "Review Text: I will not visit this property again.  The room couldn't be any smaller.  The hallways are dark and dirty with carpet taped together.  Prior to arrival I had the option to pay an additional fee for a room upgrade (slightly larger with a city view).  My view was of an alley and the room was much smaller than the pictures online.  The front desk was not helpful in resolving this issue.  The location was good (close to MSG and Penn Station), but not worth the stay at this property.  \n",
            "Rating: 1.0\n",
            "Price Range: moderate, mid-range, reasonable\n",
            "Trip Date: 2024-01\n",
            "Hotel URL: https://www.tripadvisor.com/Hotel_Review-g60763-d122005-Reviews-The_New_Yorker_A_Wyndham_Hotel-New_York_City_New_York.html\n",
            "Rating Value: 4.0\n",
            "Review Count: 16122.0\n",
            "Country: United States\n",
            "City: New York City\n",
            "Street Address: 481 8th Avenue & 34th Street\n",
            "Hotel Image: https://media-cdn.tripadvisor.com/media/photo-s/22/4e/37/ea/welcome-to-the-wyndham.jpg\n",
            "\n",
            "----------------------------------------\n",
            "Hotel Name: The New Yorker, A Wyndham Hotel\n",
            "Description: The New Yorker Hotel offers a luxurious experience with its recently renovated rooms and suites.  Designed for modern-day business travelers, the hotel provides the comforts of the future while preserving its historic charm in the heart of New York City. \n",
            "\n",
            "Review Title: Great location\n",
            "Review Text: The location was great, the neighborhood was nice and lively, the hotel was only a few minute walk to the train station.  There is a subway stop right at the same corner as the hotel.  Their Tick Tock restaurant was more than adequate (hash browns were not the best tho).  The $5 bag hold service was super useful to keep my suitcase the day I checked out, while I enjoyed the city.\n",
            "Rating: 5.0\n",
            "Price Range: moderate, mid-range, reasonable\n",
            "Trip Date: 2024-01\n",
            "Hotel URL: https://www.tripadvisor.com/Hotel_Review-g60763-d122005-Reviews-The_New_Yorker_A_Wyndham_Hotel-New_York_City_New_York.html\n",
            "Rating Value: 4.0\n",
            "Review Count: 16122.0\n",
            "Country: United States\n",
            "City: New York City\n",
            "Street Address: 481 8th Avenue & 34th Street\n",
            "Hotel Image: https://media-cdn.tripadvisor.com/media/photo-s/22/4e/37/ea/welcome-to-the-wyndham.jpg\n",
            "\n",
            "----------------------------------------\n",
            "Hotel Name: The New Yorker, A Wyndham Hotel\n",
            "Description: The New Yorker Hotel offers a luxurious experience with its recently renovated rooms and suites.  Designed for modern-day business travelers, the hotel provides the comforts of the future while preserving its historic charm in the heart of New York City. \n",
            "\n",
            "Review Title: Perfect location, great stay; shower for short people\n",
            "Review Text: The location was amazing. We exited Penn Station and were looking right at the hotel. It couldn’t have been easier or more convenient. We were early for check-in, but we were allowed to check in anyway. The staff was super friendly and upgraded our room (it was my birthday). The rooms are a bit dated, but immaculately clean and very comfortable. The view was outstanding. We loved security being at the elevators checking key cards. It made us feel very safe and secure. The Tick Tock diner in the lobby was awesome for breakfast or a snack at the end of the day (try the Nutella and banana French toast; your taste buds will thank you). The bag check service was super affordable ($5/bag) and allowed us to spend our last few hours in the city (after checkout time) without our heavy\n",
            "Rating: 5.0\n",
            "Price Range: moderate, mid-range, reasonable\n",
            "Trip Date: 2024-01\n",
            "Hotel URL: https://www.tripadvisor.com/Hotel_Review-g60763-d122005-Reviews-The_New_Yorker_A_Wyndham_Hotel-New_York_City_New_York.html\n",
            "Rating Value: 4.0\n",
            "Review Count: 16122.0\n",
            "Country: United States\n",
            "City: New York City\n",
            "Street Address: 481 8th Avenue & 34th Street\n",
            "Hotel Image: https://media-cdn.tripadvisor.com/media/photo-s/22/4e/37/ea/welcome-to-the-wyndham.jpg\n",
            "\n",
            "----------------------------------------\n",
            "Hotel Name: The New Yorker, A Wyndham Hotel\n",
            "Description: The New Yorker Hotel offers a luxurious experience with its recently renovated rooms and suites.  Designed for modern-day business travelers, the hotel provides the comforts of the future while preserving its historic charm in the heart of New York City. \n",
            "\n",
            "Review Title: Not Great!\n",
            "Review Text: We spent a significant amount of time dealing with reception staff over a mixup in our reservations and billing. This took up a significant amount of our time and impacted our overall satisfaction with our stay. Upgrades were offered but unavailable, and alternatives were also offered but then unavailable.  Beds were confortable but very small for 2 adults - doubles only - which impacted on sleep. Some rooms were very noisy - we had one near elevators which made noise all day/nigjt. Also, hotel run down and needs some maintenance doing - walls painted, carpet replaced etc. Secuiety excellent and cleaning staff very helpful. Not great value for maney as we paid $14,000 AUD  over Christmas/New Years  for 10 nights , so with this level of fee would expect hotel to be up to date\n",
            "Rating: 2.0\n",
            "Price Range: moderate, mid-range, reasonable\n",
            "Trip Date: 2023-12\n",
            "Hotel URL: https://www.tripadvisor.com/Hotel_Review-g60763-d122005-Reviews-The_New_Yorker_A_Wyndham_Hotel-New_York_City_New_York.html\n",
            "Rating Value: 4.0\n",
            "Review Count: 16122.0\n",
            "Country: United States\n",
            "City: New York City\n",
            "Street Address: 481 8th Avenue & 34th Street\n",
            "Hotel Image: https://media-cdn.tripadvisor.com/media/photo-s/22/4e/37/ea/welcome-to-the-wyndham.jpg\n",
            "\n",
            "----------------------------------------\n",
            "Hotel Name: The New Yorker, A Wyndham Hotel\n",
            "Description: The New Yorker Hotel offers a luxurious experience with its recently renovated rooms and suites.  Designed for modern-day business travelers, the hotel provides the comforts of the future while preserving its historic charm in the heart of New York City. \n",
            "\n",
            "Review Title: Best Hotel Stay in NYC\n",
            "Review Text: Beautiful Hotel, staff is very accommodating, prime location, clean rooms, great security. We can't wait to come back in the Fall. We spent only 2 nights before leaving this time. Easy access to trains, shops, landmarks and restaurants. Glad we stayed here.\n",
            "Rating: 5.0\n",
            "Price Range: moderate, mid-range, reasonable\n",
            "Trip Date: 2023-12\n",
            "Hotel URL: https://www.tripadvisor.com/Hotel_Review-g60763-d122005-Reviews-The_New_Yorker_A_Wyndham_Hotel-New_York_City_New_York.html\n",
            "Rating Value: 4.0\n",
            "Review Count: 16122.0\n",
            "Country: United States\n",
            "City: New York City\n",
            "Street Address: 481 8th Avenue & 34th Street\n",
            "Hotel Image: https://media-cdn.tripadvisor.com/media/photo-s/22/4e/37/ea/welcome-to-the-wyndham.jpg\n",
            "\n",
            "----------------------------------------\n"
          ]
        }
      ],
      "source": [
        "top_indices = I[0]\n",
        "\n",
        "for idx in top_indices:\n",
        "    row = df.iloc[idx]\n",
        "    metadata = (\n",
        "        f\"Hotel Name: {row['hotel_name']}\\n\"\n",
        "        f\"Description: {row['hotel_description_summary']}\\n\"\n",
        "        f\"Review Title: {row['review_title']}\\n\"\n",
        "        f\"Review Text: {row['review_text']}\\n\"\n",
        "        f\"Rating: {row['rate']}\\n\"\n",
        "        f\"Price Range: {row['price_range']}\\n\"\n",
        "        f\"Trip Date: {row['tripdate']}\\n\"\n",
        "        f\"Hotel URL: {row['hotel_url']}\\n\"\n",
        "        f\"Rating Value: {row['rating_value']}\\n\"\n",
        "        f\"Review Count: {row['review_count']}\\n\"\n",
        "        f\"Country: {row['country']}\\n\"\n",
        "        f\"City: {row['locality']}\\n\"\n",
        "        f\"Street Address: {row['street_address']}\\n\"\n",
        "        f\"Hotel Image: {row['hotel_image']}\\n\"\n",
        "    )\n",
        "    print(metadata)\n",
        "    print(\"-\" * 40)"
      ]
    },
    {
      "cell_type": "code",
      "execution_count": 68,
      "id": "e2-POU8PTKXU",
      "metadata": {
        "id": "e2-POU8PTKXU"
      },
      "outputs": [],
      "source": [
        "combined_dimension = combined_embeddings.shape[1]"
      ]
    },
    {
      "cell_type": "code",
      "execution_count": 70,
      "id": "1p7guHcFERgb",
      "metadata": {
        "id": "1p7guHcFERgb"
      },
      "outputs": [],
      "source": [
        "nlist = 50\n",
        "quantizer = faiss.IndexFlatL2(combined_dimension)\n",
        "index = faiss.IndexIVFFlat(quantizer, combined_dimension, nlist)"
      ]
    },
    {
      "cell_type": "code",
      "execution_count": 71,
      "id": "_FirRT0nEVBh",
      "metadata": {
        "colab": {
          "base_uri": "https://localhost:8080/"
        },
        "id": "_FirRT0nEVBh",
        "outputId": "156cb295-4e97-4d4d-9854-80da26293576"
      },
      "outputs": [
        {
          "data": {
            "text/plain": [
              "False"
            ]
          },
          "execution_count": 71,
          "metadata": {},
          "output_type": "execute_result"
        }
      ],
      "source": [
        "index.is_trained"
      ]
    },
    {
      "cell_type": "code",
      "execution_count": 72,
      "id": "uAz4ht4XGO2R",
      "metadata": {
        "colab": {
          "base_uri": "https://localhost:8080/"
        },
        "id": "uAz4ht4XGO2R",
        "outputId": "7784bcc2-f693-4e59-a287-b57091f145f6"
      },
      "outputs": [
        {
          "data": {
            "text/plain": [
              "True"
            ]
          },
          "execution_count": 72,
          "metadata": {},
          "output_type": "execute_result"
        }
      ],
      "source": [
        "index.train(combined_embeddings)\n",
        "index.is_trained"
      ]
    },
    {
      "cell_type": "code",
      "execution_count": 73,
      "id": "pSdf5s_kEWmN",
      "metadata": {
        "colab": {
          "base_uri": "https://localhost:8080/"
        },
        "id": "pSdf5s_kEWmN",
        "outputId": "861ed2b1-5b58-4769-9ab2-c69097f23e0f"
      },
      "outputs": [
        {
          "data": {
            "text/plain": [
              "5997"
            ]
          },
          "execution_count": 73,
          "metadata": {},
          "output_type": "execute_result"
        }
      ],
      "source": [
        "index.add(combined_embeddings)\n",
        "index.ntotal"
      ]
    },
    {
      "cell_type": "code",
      "execution_count": 74,
      "id": "6B66UA8gHEgr",
      "metadata": {
        "id": "6B66UA8gHEgr"
      },
      "outputs": [],
      "source": [
        "index.nprobe =1000"
      ]
    },
    {
      "cell_type": "code",
      "execution_count": 75,
      "id": "GwK7XKocFeeU",
      "metadata": {
        "id": "GwK7XKocFeeU"
      },
      "outputs": [],
      "source": [
        "k = 5\n",
        "D, I = index.search(query_combined_embedding, k)"
      ]
    },
    {
      "cell_type": "code",
      "execution_count": 76,
      "id": "UoCXQSxVGpTp",
      "metadata": {
        "colab": {
          "base_uri": "https://localhost:8080/"
        },
        "id": "UoCXQSxVGpTp",
        "outputId": "78cff99c-9ae8-45bd-cf8c-6b16c20557c5"
      },
      "outputs": [
        {
          "data": {
            "text/plain": [
              "array([[4287, 4311, 4318, 4290, 4292]])"
            ]
          },
          "execution_count": 76,
          "metadata": {},
          "output_type": "execute_result"
        }
      ],
      "source": [
        "I"
      ]
    },
    {
      "cell_type": "code",
      "execution_count": 77,
      "id": "fpLl0Mf3UO73",
      "metadata": {
        "colab": {
          "base_uri": "https://localhost:8080/"
        },
        "id": "fpLl0Mf3UO73",
        "outputId": "d1184598-a07b-43dd-e4a7-2dbdb80b75be"
      },
      "outputs": [
        {
          "name": "stdout",
          "output_type": "stream",
          "text": [
            "Hotel Name: The New Yorker, A Wyndham Hotel\n",
            "Description: The New Yorker Hotel offers a luxurious experience with its recently renovated rooms and suites.  Designed for modern-day business travelers, the hotel provides the comforts of the future while preserving its historic charm in the heart of New York City. \n",
            "\n",
            "Review Title: The New Yorker\n",
            "Review Text: Great location. Very clean rooms. Great view. It is definitely a hotel that I will visit again. The personnel were very friendly and helpful, it was a real pleasure to be there. The bathroom was outdated but that just added some charm. \n",
            "Rating: 5.0\n",
            "Price Range: moderate, mid-range, reasonable\n",
            "Trip Date: 2023-12\n",
            "Hotel URL: https://www.tripadvisor.com/Hotel_Review-g60763-d122005-Reviews-The_New_Yorker_A_Wyndham_Hotel-New_York_City_New_York.html\n",
            "Rating Value: 4.0\n",
            "Review Count: 16122.0\n",
            "Country: United States\n",
            "City: New York City\n",
            "Street Address: 481 8th Avenue & 34th Street\n",
            "Hotel Image: https://media-cdn.tripadvisor.com/media/photo-s/22/4e/37/ea/welcome-to-the-wyndham.jpg\n",
            "\n",
            "----------------------------------------\n",
            "Hotel Name: The New Yorker, A Wyndham Hotel\n",
            "Description: The New Yorker Hotel offers a luxurious experience with its recently renovated rooms and suites.  Designed for modern-day business travelers, the hotel provides the comforts of the future while preserving its historic charm in the heart of New York City. \n",
            "\n",
            "Review Title: Another great stay at The New Yorker Hotel\n",
            "Review Text: Stayed at The New Yorker Hotel from 7/12/2023-14/12/2023. This was my second stay at this Hotel, and again it did not disappoint. Special mention to Charmaine  at check-in. Thank you for allocating us room 1911 . The room was spacious for two people, we had two large extremely comfortable beds, we had a closet each, great for storing our stash of shopping. This room also has a view of The Edge. Also a mention to Marguerita from Housekeeping who did a great job! Thank you for helping me to the elevator with my luggage. The Hotel is within easy walking distance to many sightseeing attractions and shops. There are Subway stations very close by also. Overall we had a great stay, and look forward to returning again on our next visit to NYC\n",
            "Rating: 5.0\n",
            "Price Range: moderate, mid-range, reasonable\n",
            "Trip Date: 2023-12\n",
            "Hotel URL: https://www.tripadvisor.com/Hotel_Review-g60763-d122005-Reviews-or30-The_New_Yorker_A_Wyndham_Hotel-New_York_City_New_York.html\n",
            "Rating Value: 4.0\n",
            "Review Count: 16122.0\n",
            "Country: United States\n",
            "City: New York City\n",
            "Street Address: 481 8th Avenue & 34th Street\n",
            "Hotel Image: https://media-cdn.tripadvisor.com/media/photo-s/22/4e/37/ea/welcome-to-the-wyndham.jpg\n",
            "\n",
            "----------------------------------------\n",
            "Hotel Name: The New Yorker, A Wyndham Hotel\n",
            "Description: The New Yorker Hotel offers a luxurious experience with its recently renovated rooms and suites.  Designed for modern-day business travelers, the hotel provides the comforts of the future while preserving its historic charm in the heart of New York City. \n",
            "\n",
            "Review Title: Good hotel for what you need \n",
            "Review Text: I went on the 7th to 11th December 23 to New York for the 1st time and stayed at the New Yorker hotel in midtown Manhatten - room was small but it had a comfy bed with nice pillows -  running hot water for shower and bath - TV - phone and wardrobe and drawers it catered for what we needed the room for as you only need it to sleep in - who goes to NYC to spend a lot of time in the hotel room - the staff were very pleasant and helpful - you have access to the tick tock diner and a steak place as well - LOCATION is brilliant very central and subway just across the road to get you further afield or if your not good with walking loads - If i was to ever go again to NYC I would be more than happy to return to this hotel again \n",
            "Rating: 5.0\n",
            "Price Range: moderate, mid-range, reasonable\n",
            "Trip Date: 2023-12\n",
            "Hotel URL: https://www.tripadvisor.com/Hotel_Review-g60763-d122005-Reviews-or30-The_New_Yorker_A_Wyndham_Hotel-New_York_City_New_York.html\n",
            "Rating Value: 4.0\n",
            "Review Count: 16122.0\n",
            "Country: United States\n",
            "City: New York City\n",
            "Street Address: 481 8th Avenue & 34th Street\n",
            "Hotel Image: https://media-cdn.tripadvisor.com/media/photo-s/22/4e/37/ea/welcome-to-the-wyndham.jpg\n",
            "\n",
            "----------------------------------------\n",
            "Hotel Name: The New Yorker, A Wyndham Hotel\n",
            "Description: The New Yorker Hotel offers a luxurious experience with its recently renovated rooms and suites.  Designed for modern-day business travelers, the hotel provides the comforts of the future while preserving its historic charm in the heart of New York City. \n",
            "\n",
            "Review Title: Gem of a Hotel with good rates and close to everything\n",
            "Review Text: This was my third stay at the New Yorker Hotel. It is centrally located and is in walking distance to Time Square, Broadway, Macy's, Bryant Park, Hudson Yards, Rockefeller Square, Empire State Building..... the list can go on. It is also right across the street from Penn Station which is great for getting to and from the airports and accessing the subway. I have always found all staff from front desk, housekeeping and security to be very friendly and approachable. They are quick to assist such as requesting a blanket, a room issue or information.  The hotel itself is quirky in areas of the room because they have kept true to the hotel's original architecture, room layout and size which is so much part of its charm. The hotel is very clean and well kept and some of the views are\n",
            "Rating: 5.0\n",
            "Price Range: moderate, mid-range, reasonable\n",
            "Trip Date: 2023-12\n",
            "Hotel URL: https://www.tripadvisor.com/Hotel_Review-g60763-d122005-Reviews-or10-The_New_Yorker_A_Wyndham_Hotel-New_York_City_New_York.html\n",
            "Rating Value: 4.0\n",
            "Review Count: 16122.0\n",
            "Country: United States\n",
            "City: New York City\n",
            "Street Address: 481 8th Avenue & 34th Street\n",
            "Hotel Image: https://media-cdn.tripadvisor.com/media/photo-s/22/4e/37/ea/welcome-to-the-wyndham.jpg\n",
            "\n",
            "----------------------------------------\n",
            "Hotel Name: The New Yorker, A Wyndham Hotel\n",
            "Description: The New Yorker Hotel offers a luxurious experience with its recently renovated rooms and suites.  Designed for modern-day business travelers, the hotel provides the comforts of the future while preserving its historic charm in the heart of New York City. \n",
            "\n",
            "Review Title: Great location, great sleep\n",
            "Review Text: The hotel is on the dated side but for what we paid for it we were happy enough. Rooms are small and basic but bed is comfy and shower pressure was great which is all we needed as we didn’t spend much time in room. The rooms are in definite need of an upgrade, however it’s your typical old New York hotel. Service from the reception was great. There is a CVS just across the road, completely ideal. Train and sub stations right next door. Would definitely stay again.\n",
            "Rating: 4.0\n",
            "Price Range: moderate, mid-range, reasonable\n",
            "Trip Date: 2023-11\n",
            "Hotel URL: https://www.tripadvisor.com/Hotel_Review-g60763-d122005-Reviews-or10-The_New_Yorker_A_Wyndham_Hotel-New_York_City_New_York.html\n",
            "Rating Value: 4.0\n",
            "Review Count: 16122.0\n",
            "Country: United States\n",
            "City: New York City\n",
            "Street Address: 481 8th Avenue & 34th Street\n",
            "Hotel Image: https://media-cdn.tripadvisor.com/media/photo-s/22/4e/37/ea/welcome-to-the-wyndham.jpg\n",
            "\n",
            "----------------------------------------\n"
          ]
        }
      ],
      "source": [
        "top_indices = I[0]\n",
        "\n",
        "for idx in top_indices:\n",
        "    row = df.iloc[idx]\n",
        "    metadata = (\n",
        "        f\"Hotel Name: {row['hotel_name']}\\n\"\n",
        "        f\"Description: {row['hotel_description_summary']}\\n\"\n",
        "        f\"Review Title: {row['review_title']}\\n\"\n",
        "        f\"Review Text: {row['review_text']}\\n\"\n",
        "        f\"Rating: {row['rate']}\\n\"\n",
        "        f\"Price Range: {row['price_range']}\\n\"\n",
        "        f\"Trip Date: {row['tripdate']}\\n\"\n",
        "        f\"Hotel URL: {row['hotel_url']}\\n\"\n",
        "        f\"Rating Value: {row['rating_value']}\\n\"\n",
        "        f\"Review Count: {row['review_count']}\\n\"\n",
        "        f\"Country: {row['country']}\\n\"\n",
        "        f\"City: {row['locality']}\\n\"\n",
        "        f\"Street Address: {row['street_address']}\\n\"\n",
        "        f\"Hotel Image: {row['hotel_image']}\\n\"\n",
        "    )\n",
        "    print(metadata)\n",
        "    print(\"-\" * 40)"
      ]
    },
    {
      "cell_type": "code",
      "execution_count": 89,
      "id": "Dcn7cb9BH6wo",
      "metadata": {
        "id": "Dcn7cb9BH6wo"
      },
      "outputs": [],
      "source": [
        "def faiss_search(combined_embeddings, query_embedding, k=5, nlist=50, nprobe=100, df=None):\n",
        "    \"\"\"\n",
        "    Perform Faiss search using combined embeddings.\n",
        "\n",
        "    Parameters:\n",
        "    - combined_embeddings: numpy array of combined embeddings (shape: [n_samples, embedding_dim])\n",
        "    - query_embedding: numpy array of the query embedding (shape: [embedding_dim,])\n",
        "    - k: int, number of nearest neighbors to return (default is 5)\n",
        "    - nlist: int, number of clusters for IVF (default is 50)\n",
        "    - nprobe: int, number of clusters to search (default is 100)\n",
        "    - df: pandas DataFrame containing metadata for the embeddings\n",
        "\n",
        "    Returns:\n",
        "    - metadata: List of strings with metadata for the top k results\n",
        "    \"\"\"\n",
        "    # Get the dimension of combined embeddings\n",
        "    combined_dimension = combined_embeddings.shape[1]\n",
        "\n",
        "    # Initialize and train Faiss index\n",
        "    quantizer = faiss.IndexFlatL2(combined_dimension)\n",
        "    index = faiss.IndexIVFFlat(quantizer, combined_dimension, nlist)\n",
        "\n",
        "    # Train the index\n",
        "    index.train(combined_embeddings)\n",
        "    assert index.is_trained, \"Index failed to train properly.\"\n",
        "\n",
        "    # Add embeddings to the index\n",
        "    index.add(combined_embeddings)\n",
        "    index.nprobe = nprobe  # Set nprobe to control the number of clusters to search\n",
        "\n",
        "    # Reshape query embedding for Faiss\n",
        "    query_combined_embedding = query_embedding.reshape(1, -1)\n",
        "\n",
        "    # Perform search\n",
        "    _, I = index.search(query_combined_embedding, k)\n",
        "\n",
        "    # Retrieve metadata for top results\n",
        "    metadata = []\n",
        "    if df is not None:\n",
        "        for idx in I[0]:\n",
        "            row = df.iloc[idx]\n",
        "            metadata.append(\n",
        "                f\"Hotel Name: {row['hotel_name']}\\n\"\n",
        "                f\"Description: {row['hotel_description_summary']}\\n\\n\"\n",
        "                f\"Review Title: {row['review_title']}\\n\"\n",
        "                f\"Review Text: {row['review_text']}\\n\"\n",
        "                f\"Rating: {row['rate']}\\n\"\n",
        "                f\"Price Range: {row['price_range']}\\n\"\n",
        "                f\"Trip Date: {row['tripdate']}\\n\"\n",
        "                f\"Hotel URL: {row['hotel_url']}\\n\"\n",
        "                f\"Rating Value: {row['rating_value']}\\n\"\n",
        "                f\"Review Count: {row['review_count']}\\n\"\n",
        "                f\"Country: {row['country']}\\n\"\n",
        "                f\"City: {row['locality']}\\n\"\n",
        "                f\"Street Address: {row['street_address']}\\n\"\n",
        "                f\"Hotel Image: {row['hotel_image']}\\n\"\n",
        "            )\n",
        "\n",
        "    return metadata"
      ]
    },
    {
      "cell_type": "code",
      "execution_count": 90,
      "id": "EF42x3fzIA86",
      "metadata": {
        "id": "EF42x3fzIA86"
      },
      "outputs": [],
      "source": [
        "top_results = faiss_search(combined_embeddings, query_combined_embedding, k=5, nlist=50, nprobe=100, df=df)"
      ]
    },
    {
      "cell_type": "code",
      "execution_count": 91,
      "id": "XuE32C1uFq4T",
      "metadata": {
        "colab": {
          "base_uri": "https://localhost:8080/"
        },
        "id": "XuE32C1uFq4T",
        "outputId": "92b81289-41e1-4990-93fe-d52fefec73ef"
      },
      "outputs": [
        {
          "name": "stdout",
          "output_type": "stream",
          "text": [
            "Hotel Name: The New Yorker, A Wyndham Hotel\n",
            "Description: The New Yorker Hotel offers a luxurious experience with its recently renovated rooms and suites.  Designed for modern-day business travelers, the hotel provides the comforts of the future while preserving its historic charm in the heart of New York City. \n",
            "\n",
            "\n",
            "Review Title: The New Yorker\n",
            "Review Text: Great location. Very clean rooms. Great view. It is definitely a hotel that I will visit again. The personnel were very friendly and helpful, it was a real pleasure to be there. The bathroom was outdated but that just added some charm. \n",
            "Rating: 5.0\n",
            "Price Range: moderate, mid-range, reasonable\n",
            "Trip Date: 2023-12\n",
            "Hotel URL: https://www.tripadvisor.com/Hotel_Review-g60763-d122005-Reviews-The_New_Yorker_A_Wyndham_Hotel-New_York_City_New_York.html\n",
            "Rating Value: 4.0\n",
            "Review Count: 16122.0\n",
            "Country: United States\n",
            "City: New York City\n",
            "Street Address: 481 8th Avenue & 34th Street\n",
            "Hotel Image: https://media-cdn.tripadvisor.com/media/photo-s/22/4e/37/ea/welcome-to-the-wyndham.jpg\n",
            "\n",
            "----------------------------------------\n",
            "Hotel Name: The New Yorker, A Wyndham Hotel\n",
            "Description: The New Yorker Hotel offers a luxurious experience with its recently renovated rooms and suites.  Designed for modern-day business travelers, the hotel provides the comforts of the future while preserving its historic charm in the heart of New York City. \n",
            "\n",
            "\n",
            "Review Title: Another great stay at The New Yorker Hotel\n",
            "Review Text: Stayed at The New Yorker Hotel from 7/12/2023-14/12/2023. This was my second stay at this Hotel, and again it did not disappoint. Special mention to Charmaine  at check-in. Thank you for allocating us room 1911 . The room was spacious for two people, we had two large extremely comfortable beds, we had a closet each, great for storing our stash of shopping. This room also has a view of The Edge. Also a mention to Marguerita from Housekeeping who did a great job! Thank you for helping me to the elevator with my luggage. The Hotel is within easy walking distance to many sightseeing attractions and shops. There are Subway stations very close by also. Overall we had a great stay, and look forward to returning again on our next visit to NYC\n",
            "Rating: 5.0\n",
            "Price Range: moderate, mid-range, reasonable\n",
            "Trip Date: 2023-12\n",
            "Hotel URL: https://www.tripadvisor.com/Hotel_Review-g60763-d122005-Reviews-or30-The_New_Yorker_A_Wyndham_Hotel-New_York_City_New_York.html\n",
            "Rating Value: 4.0\n",
            "Review Count: 16122.0\n",
            "Country: United States\n",
            "City: New York City\n",
            "Street Address: 481 8th Avenue & 34th Street\n",
            "Hotel Image: https://media-cdn.tripadvisor.com/media/photo-s/22/4e/37/ea/welcome-to-the-wyndham.jpg\n",
            "\n",
            "----------------------------------------\n",
            "Hotel Name: The New Yorker, A Wyndham Hotel\n",
            "Description: The New Yorker Hotel offers a luxurious experience with its recently renovated rooms and suites.  Designed for modern-day business travelers, the hotel provides the comforts of the future while preserving its historic charm in the heart of New York City. \n",
            "\n",
            "\n",
            "Review Title: Good hotel for what you need \n",
            "Review Text: I went on the 7th to 11th December 23 to New York for the 1st time and stayed at the New Yorker hotel in midtown Manhatten - room was small but it had a comfy bed with nice pillows -  running hot water for shower and bath - TV - phone and wardrobe and drawers it catered for what we needed the room for as you only need it to sleep in - who goes to NYC to spend a lot of time in the hotel room - the staff were very pleasant and helpful - you have access to the tick tock diner and a steak place as well - LOCATION is brilliant very central and subway just across the road to get you further afield or if your not good with walking loads - If i was to ever go again to NYC I would be more than happy to return to this hotel again \n",
            "Rating: 5.0\n",
            "Price Range: moderate, mid-range, reasonable\n",
            "Trip Date: 2023-12\n",
            "Hotel URL: https://www.tripadvisor.com/Hotel_Review-g60763-d122005-Reviews-or30-The_New_Yorker_A_Wyndham_Hotel-New_York_City_New_York.html\n",
            "Rating Value: 4.0\n",
            "Review Count: 16122.0\n",
            "Country: United States\n",
            "City: New York City\n",
            "Street Address: 481 8th Avenue & 34th Street\n",
            "Hotel Image: https://media-cdn.tripadvisor.com/media/photo-s/22/4e/37/ea/welcome-to-the-wyndham.jpg\n",
            "\n",
            "----------------------------------------\n",
            "Hotel Name: The New Yorker, A Wyndham Hotel\n",
            "Description: The New Yorker Hotel offers a luxurious experience with its recently renovated rooms and suites.  Designed for modern-day business travelers, the hotel provides the comforts of the future while preserving its historic charm in the heart of New York City. \n",
            "\n",
            "\n",
            "Review Title: Gem of a Hotel with good rates and close to everything\n",
            "Review Text: This was my third stay at the New Yorker Hotel. It is centrally located and is in walking distance to Time Square, Broadway, Macy's, Bryant Park, Hudson Yards, Rockefeller Square, Empire State Building..... the list can go on. It is also right across the street from Penn Station which is great for getting to and from the airports and accessing the subway. I have always found all staff from front desk, housekeeping and security to be very friendly and approachable. They are quick to assist such as requesting a blanket, a room issue or information.  The hotel itself is quirky in areas of the room because they have kept true to the hotel's original architecture, room layout and size which is so much part of its charm. The hotel is very clean and well kept and some of the views are\n",
            "Rating: 5.0\n",
            "Price Range: moderate, mid-range, reasonable\n",
            "Trip Date: 2023-12\n",
            "Hotel URL: https://www.tripadvisor.com/Hotel_Review-g60763-d122005-Reviews-or10-The_New_Yorker_A_Wyndham_Hotel-New_York_City_New_York.html\n",
            "Rating Value: 4.0\n",
            "Review Count: 16122.0\n",
            "Country: United States\n",
            "City: New York City\n",
            "Street Address: 481 8th Avenue & 34th Street\n",
            "Hotel Image: https://media-cdn.tripadvisor.com/media/photo-s/22/4e/37/ea/welcome-to-the-wyndham.jpg\n",
            "\n",
            "----------------------------------------\n",
            "Hotel Name: The New Yorker, A Wyndham Hotel\n",
            "Description: The New Yorker Hotel offers a luxurious experience with its recently renovated rooms and suites.  Designed for modern-day business travelers, the hotel provides the comforts of the future while preserving its historic charm in the heart of New York City. \n",
            "\n",
            "\n",
            "Review Title: Great location, great sleep\n",
            "Review Text: The hotel is on the dated side but for what we paid for it we were happy enough. Rooms are small and basic but bed is comfy and shower pressure was great which is all we needed as we didn’t spend much time in room. The rooms are in definite need of an upgrade, however it’s your typical old New York hotel. Service from the reception was great. There is a CVS just across the road, completely ideal. Train and sub stations right next door. Would definitely stay again.\n",
            "Rating: 4.0\n",
            "Price Range: moderate, mid-range, reasonable\n",
            "Trip Date: 2023-11\n",
            "Hotel URL: https://www.tripadvisor.com/Hotel_Review-g60763-d122005-Reviews-or10-The_New_Yorker_A_Wyndham_Hotel-New_York_City_New_York.html\n",
            "Rating Value: 4.0\n",
            "Review Count: 16122.0\n",
            "Country: United States\n",
            "City: New York City\n",
            "Street Address: 481 8th Avenue & 34th Street\n",
            "Hotel Image: https://media-cdn.tripadvisor.com/media/photo-s/22/4e/37/ea/welcome-to-the-wyndham.jpg\n",
            "\n",
            "----------------------------------------\n"
          ]
        }
      ],
      "source": [
        "for result in top_results:\n",
        "    print(result)\n",
        "    print(\"-\" * 40)"
      ]
    },
    {
      "cell_type": "code",
      "execution_count": 98,
      "id": "EN4Miyv4Mj1I",
      "metadata": {
        "id": "EN4Miyv4Mj1I"
      },
      "outputs": [],
      "source": [
        "def faiss_bm25(df, query, k1=1.5, b=0.75, combined_embeddings=None, query_embedding=None, k=5, nlist=50, nprobe=100, bm25_weight=0.3, faiss_weight=0.7):\n",
        "    \"\"\"\n",
        "    Perform a hybrid search using both BM25 and Faiss with weighted scores.\n",
        "\n",
        "    Parameters:\n",
        "    - df: pandas DataFrame containing tokenized text columns and embeddings\n",
        "    - query: string representing the search query\n",
        "    - k1: BM25 parameter k1\n",
        "    - b: BM25 parameter b\n",
        "    - combined_embeddings: numpy array with combined embeddings for Faiss\n",
        "    - query_embedding: numpy array with query embedding for Faiss\n",
        "    - k: number of top results to retrieve from Faiss\n",
        "    - nlist: number of clusters for the Faiss index\n",
        "    - nprobe: number of clusters to search in Faiss\n",
        "    - bm25_weight: weight for BM25 scores\n",
        "    - faiss_weight: weight for Faiss scores\n",
        "\n",
        "    Returns:\n",
        "    - metadata: List of dictionaries with metadata for the top k results\n",
        "    \"\"\"\n",
        "\n",
        "    # Combine all tokenized fields for BM25 search\n",
        "    combined_columns = [\n",
        "        description + \" \" + full_review + \" \" + address + \" \" + price\n",
        "        for description, full_review, address, price in zip(\n",
        "            df['description_processed'], df['full_review_processed'], df['address_processed'], df['price_processed']\n",
        "        )\n",
        "    ]\n",
        "\n",
        "    # Initialize and run BM25 model\n",
        "    bm25 = BM25Okapi(combined_columns, k1=k1, b=b)\n",
        "    query_preprocessing = preprocess_text(query)\n",
        "    bm25_scores = bm25.get_scores(query_preprocessing)\n",
        "\n",
        "    # Initialize and train Faiss index\n",
        "    combined_dimension = combined_embeddings.shape[1]\n",
        "    quantizer = faiss.IndexFlatL2(combined_dimension)\n",
        "    index = faiss.IndexIVFFlat(quantizer, combined_dimension, nlist)\n",
        "\n",
        "    # Train the index\n",
        "    index.train(combined_embeddings)\n",
        "    assert index.is_trained, \"Faiss index failed to train properly.\"\n",
        "\n",
        "    # Add embeddings to the index\n",
        "    index.add(combined_embeddings)\n",
        "    index.nprobe = nprobe  # Set nprobe to control the number of clusters to search\n",
        "\n",
        "    # Perform Faiss search\n",
        "    query_combined_embedding = query_embedding.reshape(1, -1)\n",
        "    _, faiss_indices = index.search(query_combined_embedding, k)\n",
        "\n",
        "    # Combine BM25 and Faiss results\n",
        "    faiss_scores = np.zeros(len(df))\n",
        "    for idx in faiss_indices[0]:\n",
        "        faiss_scores[idx] = 1  # Assign a dummy score of 1 for Faiss results\n",
        "\n",
        "    # Normalize scores\n",
        "    faiss_scores = (faiss_scores - faiss_scores.min()) / (faiss_scores.max() - faiss_scores.min())\n",
        "\n",
        "    # Weighted combination of BM25 and Faiss scores\n",
        "    combined_scores = bm25_weight * np.array(bm25_scores) + faiss_weight * faiss_scores\n",
        "\n",
        "    # Get top k results based on combined scores\n",
        "    top_k_indices = np.argsort(-combined_scores)[:k]\n",
        "\n",
        "    # Retrieve and return metadata for top results\n",
        "    metadata = []\n",
        "    for idx in top_k_indices:\n",
        "        row = df.iloc[idx]\n",
        "        metadata.append(\n",
        "                f\"Hotel Name: {row['hotel_name']}\\n\"\n",
        "                f\"Description: {row['hotel_description_summary']}\\n\\n\"\n",
        "                f\"Review Title: {row['review_title']}\\n\"\n",
        "                f\"Review Text: {row['review_text']}\\n\"\n",
        "                f\"Rating: {row['rate']}\\n\"\n",
        "                f\"Price Range: {row['price_range']}\\n\"\n",
        "                f\"Trip Date: {row['tripdate']}\\n\"\n",
        "                f\"Hotel URL: {row['hotel_url']}\\n\"\n",
        "                f\"Rating Value: {row['rating_value']}\\n\"\n",
        "                f\"Review Count: {row['review_count']}\\n\"\n",
        "                f\"Country: {row['country']}\\n\"\n",
        "                f\"City: {row['locality']}\\n\"\n",
        "                f\"Street Address: {row['street_address']}\\n\"\n",
        "                f\"Hotel Image: {row['hotel_image']}\\n\"\n",
        "        )\n",
        "\n",
        "    return metadata"
      ]
    },
    {
      "cell_type": "code",
      "execution_count": 99,
      "id": "uUMEWFUhUiWK",
      "metadata": {
        "id": "uUMEWFUhUiWK"
      },
      "outputs": [],
      "source": [
        "top_results = faiss_bm25(df, query, k1=1.5, b=0.75, combined_embeddings=combined_embeddings, query_embedding=query_combined_embedding, k=5, nlist=50, nprobe=100)"
      ]
    },
    {
      "cell_type": "code",
      "execution_count": 100,
      "id": "pAPmmJZmUoaX",
      "metadata": {
        "colab": {
          "base_uri": "https://localhost:8080/"
        },
        "id": "pAPmmJZmUoaX",
        "outputId": "bbdd2a02-4209-40e9-b9ee-4a960cb05670"
      },
      "outputs": [
        {
          "name": "stdout",
          "output_type": "stream",
          "text": [
            "Hotel Name: The New Yorker, A Wyndham Hotel\n",
            "Description: The New Yorker Hotel offers a luxurious experience with its recently renovated rooms and suites.  Designed for modern-day business travelers, the hotel provides the comforts of the future while preserving its historic charm in the heart of New York City. \n",
            "\n",
            "\n",
            "Review Title: Another great stay at The New Yorker Hotel\n",
            "Review Text: Stayed at The New Yorker Hotel from 7/12/2023-14/12/2023. This was my second stay at this Hotel, and again it did not disappoint. Special mention to Charmaine  at check-in. Thank you for allocating us room 1911 . The room was spacious for two people, we had two large extremely comfortable beds, we had a closet each, great for storing our stash of shopping. This room also has a view of The Edge. Also a mention to Marguerita from Housekeeping who did a great job! Thank you for helping me to the elevator with my luggage. The Hotel is within easy walking distance to many sightseeing attractions and shops. There are Subway stations very close by also. Overall we had a great stay, and look forward to returning again on our next visit to NYC\n",
            "Rating: 5.0\n",
            "Price Range: moderate, mid-range, reasonable\n",
            "Trip Date: 2023-12\n",
            "Hotel URL: https://www.tripadvisor.com/Hotel_Review-g60763-d122005-Reviews-or30-The_New_Yorker_A_Wyndham_Hotel-New_York_City_New_York.html\n",
            "Rating Value: 4.0\n",
            "Review Count: 16122.0\n",
            "Country: United States\n",
            "City: New York City\n",
            "Street Address: 481 8th Avenue & 34th Street\n",
            "Hotel Image: https://media-cdn.tripadvisor.com/media/photo-s/22/4e/37/ea/welcome-to-the-wyndham.jpg\n",
            "\n",
            "----------------------------------------\n",
            "Hotel Name: The New Yorker, A Wyndham Hotel\n",
            "Description: The New Yorker Hotel offers a luxurious experience with its recently renovated rooms and suites.  Designed for modern-day business travelers, the hotel provides the comforts of the future while preserving its historic charm in the heart of New York City. \n",
            "\n",
            "\n",
            "Review Title: Good hotel for what you need \n",
            "Review Text: I went on the 7th to 11th December 23 to New York for the 1st time and stayed at the New Yorker hotel in midtown Manhatten - room was small but it had a comfy bed with nice pillows -  running hot water for shower and bath - TV - phone and wardrobe and drawers it catered for what we needed the room for as you only need it to sleep in - who goes to NYC to spend a lot of time in the hotel room - the staff were very pleasant and helpful - you have access to the tick tock diner and a steak place as well - LOCATION is brilliant very central and subway just across the road to get you further afield or if your not good with walking loads - If i was to ever go again to NYC I would be more than happy to return to this hotel again \n",
            "Rating: 5.0\n",
            "Price Range: moderate, mid-range, reasonable\n",
            "Trip Date: 2023-12\n",
            "Hotel URL: https://www.tripadvisor.com/Hotel_Review-g60763-d122005-Reviews-or30-The_New_Yorker_A_Wyndham_Hotel-New_York_City_New_York.html\n",
            "Rating Value: 4.0\n",
            "Review Count: 16122.0\n",
            "Country: United States\n",
            "City: New York City\n",
            "Street Address: 481 8th Avenue & 34th Street\n",
            "Hotel Image: https://media-cdn.tripadvisor.com/media/photo-s/22/4e/37/ea/welcome-to-the-wyndham.jpg\n",
            "\n",
            "----------------------------------------\n",
            "Hotel Name: The New Yorker, A Wyndham Hotel\n",
            "Description: The New Yorker Hotel offers a luxurious experience with its recently renovated rooms and suites.  Designed for modern-day business travelers, the hotel provides the comforts of the future while preserving its historic charm in the heart of New York City. \n",
            "\n",
            "\n",
            "Review Title: Gem of a Hotel with good rates and close to everything\n",
            "Review Text: This was my third stay at the New Yorker Hotel. It is centrally located and is in walking distance to Time Square, Broadway, Macy's, Bryant Park, Hudson Yards, Rockefeller Square, Empire State Building..... the list can go on. It is also right across the street from Penn Station which is great for getting to and from the airports and accessing the subway. I have always found all staff from front desk, housekeeping and security to be very friendly and approachable. They are quick to assist such as requesting a blanket, a room issue or information.  The hotel itself is quirky in areas of the room because they have kept true to the hotel's original architecture, room layout and size which is so much part of its charm. The hotel is very clean and well kept and some of the views are\n",
            "Rating: 5.0\n",
            "Price Range: moderate, mid-range, reasonable\n",
            "Trip Date: 2023-12\n",
            "Hotel URL: https://www.tripadvisor.com/Hotel_Review-g60763-d122005-Reviews-or10-The_New_Yorker_A_Wyndham_Hotel-New_York_City_New_York.html\n",
            "Rating Value: 4.0\n",
            "Review Count: 16122.0\n",
            "Country: United States\n",
            "City: New York City\n",
            "Street Address: 481 8th Avenue & 34th Street\n",
            "Hotel Image: https://media-cdn.tripadvisor.com/media/photo-s/22/4e/37/ea/welcome-to-the-wyndham.jpg\n",
            "\n",
            "----------------------------------------\n",
            "Hotel Name: The New Yorker, A Wyndham Hotel\n",
            "Description: The New Yorker Hotel offers a luxurious experience with its recently renovated rooms and suites.  Designed for modern-day business travelers, the hotel provides the comforts of the future while preserving its historic charm in the heart of New York City. \n",
            "\n",
            "\n",
            "Review Title: Great location, great sleep\n",
            "Review Text: The hotel is on the dated side but for what we paid for it we were happy enough. Rooms are small and basic but bed is comfy and shower pressure was great which is all we needed as we didn’t spend much time in room. The rooms are in definite need of an upgrade, however it’s your typical old New York hotel. Service from the reception was great. There is a CVS just across the road, completely ideal. Train and sub stations right next door. Would definitely stay again.\n",
            "Rating: 4.0\n",
            "Price Range: moderate, mid-range, reasonable\n",
            "Trip Date: 2023-11\n",
            "Hotel URL: https://www.tripadvisor.com/Hotel_Review-g60763-d122005-Reviews-or10-The_New_Yorker_A_Wyndham_Hotel-New_York_City_New_York.html\n",
            "Rating Value: 4.0\n",
            "Review Count: 16122.0\n",
            "Country: United States\n",
            "City: New York City\n",
            "Street Address: 481 8th Avenue & 34th Street\n",
            "Hotel Image: https://media-cdn.tripadvisor.com/media/photo-s/22/4e/37/ea/welcome-to-the-wyndham.jpg\n",
            "\n",
            "----------------------------------------\n",
            "Hotel Name: The New Yorker, A Wyndham Hotel\n",
            "Description: The New Yorker Hotel offers a luxurious experience with its recently renovated rooms and suites.  Designed for modern-day business travelers, the hotel provides the comforts of the future while preserving its historic charm in the heart of New York City. \n",
            "\n",
            "\n",
            "Review Title: The New Yorker\n",
            "Review Text: Great location. Very clean rooms. Great view. It is definitely a hotel that I will visit again. The personnel were very friendly and helpful, it was a real pleasure to be there. The bathroom was outdated but that just added some charm. \n",
            "Rating: 5.0\n",
            "Price Range: moderate, mid-range, reasonable\n",
            "Trip Date: 2023-12\n",
            "Hotel URL: https://www.tripadvisor.com/Hotel_Review-g60763-d122005-Reviews-The_New_Yorker_A_Wyndham_Hotel-New_York_City_New_York.html\n",
            "Rating Value: 4.0\n",
            "Review Count: 16122.0\n",
            "Country: United States\n",
            "City: New York City\n",
            "Street Address: 481 8th Avenue & 34th Street\n",
            "Hotel Image: https://media-cdn.tripadvisor.com/media/photo-s/22/4e/37/ea/welcome-to-the-wyndham.jpg\n",
            "\n",
            "----------------------------------------\n"
          ]
        }
      ],
      "source": [
        "for result in top_results:\n",
        "    print(result)\n",
        "    print(\"-\" * 40)"
      ]
    },
    {
      "cell_type": "code",
      "execution_count": null,
      "id": "38iS5_kUUyme",
      "metadata": {
        "id": "38iS5_kUUyme"
      },
      "outputs": [],
      "source": []
    }
  ],
  "metadata": {
    "accelerator": "GPU",
    "colab": {
      "gpuType": "T4",
      "provenance": []
    },
    "kernelspec": {
      "display_name": "Python 3",
      "name": "python3"
    },
    "language_info": {
      "codemirror_mode": {
        "name": "ipython",
        "version": 3
      },
      "file_extension": ".py",
      "mimetype": "text/x-python",
      "name": "python",
      "nbconvert_exporter": "python",
      "pygments_lexer": "ipython3",
      "version": "3.12.5"
    }
  },
  "nbformat": 4,
  "nbformat_minor": 5
}
