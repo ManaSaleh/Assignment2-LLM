{
  "nbformat": 4,
  "nbformat_minor": 0,
  "metadata": {
    "colab": {
      "provenance": []
    },
    "kernelspec": {
      "name": "python3",
      "display_name": "Python 3"
    },
    "language_info": {
      "name": "python"
    }
  },
  "cells": [
    {
      "cell_type": "code",
      "execution_count": null,
      "metadata": {
        "colab": {
          "base_uri": "https://localhost:8080/"
        },
        "id": "IxWsSSgZxycY",
        "outputId": "fca2b52b-e5f0-439d-d7b2-761c03d986e6"
      },
      "outputs": [
        {
          "output_type": "stream",
          "name": "stdout",
          "text": [
            "Drive already mounted at /content/drive; to attempt to forcibly remount, call drive.mount(\"/content/drive\", force_remount=True).\n"
          ]
        }
      ],
      "source": [
        "from google.colab import drive\n",
        "drive.mount('/content/drive')"
      ]
    },
    {
      "cell_type": "code",
      "source": [
        "import pandas as pd\n",
        "\n",
        "df = pd.read_pickle('/content/drive/MyDrive/hotel_data_with_embeddings.pkl')\n",
        "df.head()"
      ],
      "metadata": {
        "colab": {
          "base_uri": "https://localhost:8080/",
          "height": 602
        },
        "id": "e1tU06M3yVbb",
        "outputId": "d95f7f75-bb01-4ae2-bba9-ec41bd292987"
      },
      "execution_count": null,
      "outputs": [
        {
          "output_type": "execute_result",
          "data": {
            "text/plain": [
              "               hotel_name                                  hotel_description  \\\n",
              "0  Romance Istanbul Hotel  Romance Istanbul Hotel has 39 rooms.Every room...   \n",
              "1  Romance Istanbul Hotel  Romance Istanbul Hotel has 39 rooms.Every room...   \n",
              "2  Romance Istanbul Hotel  Romance Istanbul Hotel has 39 rooms.Every room...   \n",
              "3  Romance Istanbul Hotel  Romance Istanbul Hotel has 39 rooms.Every room...   \n",
              "4  Romance Istanbul Hotel  Romance Istanbul Hotel has 39 rooms.Every room...   \n",
              "\n",
              "                           hotel_description_summary  rating_value  \\\n",
              "0  Romance Istanbul Hotel offers 39 elegantly fur...           5.0   \n",
              "1  Romance Istanbul Hotel offers 39 elegantly fur...           5.0   \n",
              "2  Romance Istanbul Hotel offers 39 elegantly fur...           5.0   \n",
              "3  Romance Istanbul Hotel offers 39 elegantly fur...           5.0   \n",
              "4  Romance Istanbul Hotel offers 39 elegantly fur...           5.0   \n",
              "\n",
              "   review_count                                       review_title  \\\n",
              "0        4023.0  An exceptional boutique hotel, great value for...   \n",
              "1        4023.0                    You can’t get better than this.   \n",
              "2        4023.0                           Exceeds all expectations   \n",
              "3        4023.0           Great Location, Fantastic Accommodations   \n",
              "4        4023.0              Perfection. It is all in the details.   \n",
              "\n",
              "                                         review_text  rate tripdate  \\\n",
              "0  This boutique hotel exceeded all expectations,...   5.0  2020-02   \n",
              "1  An exceptional stay that exceeded all expectat...   5.0  2021-03   \n",
              "2  This hotel truly goes above and beyond in ever...   5.0  2021-03   \n",
              "3  This hotel offers a superb experience with its...   5.0  2021-08   \n",
              "4  Impeccable attention to detail elevates the ex...   5.0  2021-06   \n",
              "\n",
              "                      price_range  ...  \\\n",
              "0  affordable, budget, economical  ...   \n",
              "1  affordable, budget, economical  ...   \n",
              "2  affordable, budget, economical  ...   \n",
              "3  affordable, budget, economical  ...   \n",
              "4  affordable, budget, economical  ...   \n",
              "\n",
              "                                         full_review  \\\n",
              "0  An exceptional boutique hotel, great value for...   \n",
              "1  You can’t get better than this.: An exceptiona...   \n",
              "2  Exceeds all expectations: This hotel truly goe...   \n",
              "3  Great Location, Fantastic Accommodations: This...   \n",
              "4  Perfection. It is all in the details.: Impecca...   \n",
              "\n",
              "                                       full_address  \\\n",
              "0  Hudavendigar Cd. No:5 Sirkeci, Istanbul, Turkiye   \n",
              "1  Hudavendigar Cd. No:5 Sirkeci, Istanbul, Turkiye   \n",
              "2  Hudavendigar Cd. No:5 Sirkeci, Istanbul, Turkiye   \n",
              "3  Hudavendigar Cd. No:5 Sirkeci, Istanbul, Turkiye   \n",
              "4  Hudavendigar Cd. No:5 Sirkeci, Istanbul, Turkiye   \n",
              "\n",
              "                               description_processed  \\\n",
              "0  romanc istanbul hotel 39 room elegantli furnis...   \n",
              "1  romanc istanbul hotel 39 room elegantli furnis...   \n",
              "2  romanc istanbul hotel 39 room elegantli furnis...   \n",
              "3  romanc istanbul hotel 39 room elegantli furnis...   \n",
              "4  romanc istanbul hotel 39 room elegantli furnis...   \n",
              "\n",
              "                               full_review_processed  \\\n",
              "0  except boutiqu hotel great valu money boutiqu ...   \n",
              "1  get better except stay exceed expect hotel del...   \n",
              "2  exce expect hotel truli goe beyond everi aspec...   \n",
              "3  great locat fantast accommod hotel offer super...   \n",
              "4  perfect detail impecc attent detail elev exper...   \n",
              "\n",
              "                         address_processed       price_processed  \\\n",
              "0  hudavendigar cd sirkeci istanbul turkiy  afford budget econom   \n",
              "1  hudavendigar cd sirkeci istanbul turkiy  afford budget econom   \n",
              "2  hudavendigar cd sirkeci istanbul turkiy  afford budget econom   \n",
              "3  hudavendigar cd sirkeci istanbul turkiy  afford budget econom   \n",
              "4  hudavendigar cd sirkeci istanbul turkiy  afford budget econom   \n",
              "\n",
              "                              embedding_descriptions  \\\n",
              "0  [-0.72195345, 1.079411, -3.1429782, -0.9376375...   \n",
              "1  [-0.72195345, 1.079411, -3.1429782, -0.9376375...   \n",
              "2  [-0.72195345, 1.079411, -3.1429782, -0.9376375...   \n",
              "3  [-0.72195345, 1.079411, -3.1429782, -0.9376375...   \n",
              "4  [-0.72195345, 1.079411, -3.1429782, -0.9376375...   \n",
              "\n",
              "                                 embedding_addresses  \\\n",
              "0  [-0.57478076, 0.008897147, -3.1645122, -0.2190...   \n",
              "1  [-0.57478076, 0.008897147, -3.1645122, -0.2190...   \n",
              "2  [-0.57478076, 0.008897147, -3.1645122, -0.2190...   \n",
              "3  [-0.57478076, 0.008897147, -3.1645122, -0.2190...   \n",
              "4  [-0.57478076, 0.008897147, -3.1645122, -0.2190...   \n",
              "\n",
              "                                    embedding_prices  \\\n",
              "0  [0.41714233, 0.93826044, -2.9774604, -0.179409...   \n",
              "1  [0.41714233, 0.93826044, -2.9774604, -0.179409...   \n",
              "2  [0.41714233, 0.93826044, -2.9774604, -0.179409...   \n",
              "3  [0.41714233, 0.93826044, -2.9774604, -0.179409...   \n",
              "4  [0.41714233, 0.93826044, -2.9774604, -0.179409...   \n",
              "\n",
              "                               embedding_full_review  \n",
              "0  [-1.4592323, 1.7448821, -3.8982518, 0.91076475...  \n",
              "1  [-0.7813845, 1.2947574, -3.6422498, 0.23717952...  \n",
              "2  [-0.75293285, 1.4301245, -3.5443554, 0.1793581...  \n",
              "3  [-1.6934611, 1.8118676, -4.088441, -0.30559927...  \n",
              "4  [-0.24897064, 1.3150338, -3.780413, -0.0476737...  \n",
              "\n",
              "[5 rows x 25 columns]"
            ],
            "text/html": [
              "\n",
              "  <div id=\"df-d4e02357-ae2a-4ae7-a28f-633929b83407\" class=\"colab-df-container\">\n",
              "    <div>\n",
              "<style scoped>\n",
              "    .dataframe tbody tr th:only-of-type {\n",
              "        vertical-align: middle;\n",
              "    }\n",
              "\n",
              "    .dataframe tbody tr th {\n",
              "        vertical-align: top;\n",
              "    }\n",
              "\n",
              "    .dataframe thead th {\n",
              "        text-align: right;\n",
              "    }\n",
              "</style>\n",
              "<table border=\"1\" class=\"dataframe\">\n",
              "  <thead>\n",
              "    <tr style=\"text-align: right;\">\n",
              "      <th></th>\n",
              "      <th>hotel_name</th>\n",
              "      <th>hotel_description</th>\n",
              "      <th>hotel_description_summary</th>\n",
              "      <th>rating_value</th>\n",
              "      <th>review_count</th>\n",
              "      <th>review_title</th>\n",
              "      <th>review_text</th>\n",
              "      <th>rate</th>\n",
              "      <th>tripdate</th>\n",
              "      <th>price_range</th>\n",
              "      <th>...</th>\n",
              "      <th>full_review</th>\n",
              "      <th>full_address</th>\n",
              "      <th>description_processed</th>\n",
              "      <th>full_review_processed</th>\n",
              "      <th>address_processed</th>\n",
              "      <th>price_processed</th>\n",
              "      <th>embedding_descriptions</th>\n",
              "      <th>embedding_addresses</th>\n",
              "      <th>embedding_prices</th>\n",
              "      <th>embedding_full_review</th>\n",
              "    </tr>\n",
              "  </thead>\n",
              "  <tbody>\n",
              "    <tr>\n",
              "      <th>0</th>\n",
              "      <td>Romance Istanbul Hotel</td>\n",
              "      <td>Romance Istanbul Hotel has 39 rooms.Every room...</td>\n",
              "      <td>Romance Istanbul Hotel offers 39 elegantly fur...</td>\n",
              "      <td>5.0</td>\n",
              "      <td>4023.0</td>\n",
              "      <td>An exceptional boutique hotel, great value for...</td>\n",
              "      <td>This boutique hotel exceeded all expectations,...</td>\n",
              "      <td>5.0</td>\n",
              "      <td>2020-02</td>\n",
              "      <td>affordable, budget, economical</td>\n",
              "      <td>...</td>\n",
              "      <td>An exceptional boutique hotel, great value for...</td>\n",
              "      <td>Hudavendigar Cd. No:5 Sirkeci, Istanbul, Turkiye</td>\n",
              "      <td>romanc istanbul hotel 39 room elegantli furnis...</td>\n",
              "      <td>except boutiqu hotel great valu money boutiqu ...</td>\n",
              "      <td>hudavendigar cd sirkeci istanbul turkiy</td>\n",
              "      <td>afford budget econom</td>\n",
              "      <td>[-0.72195345, 1.079411, -3.1429782, -0.9376375...</td>\n",
              "      <td>[-0.57478076, 0.008897147, -3.1645122, -0.2190...</td>\n",
              "      <td>[0.41714233, 0.93826044, -2.9774604, -0.179409...</td>\n",
              "      <td>[-1.4592323, 1.7448821, -3.8982518, 0.91076475...</td>\n",
              "    </tr>\n",
              "    <tr>\n",
              "      <th>1</th>\n",
              "      <td>Romance Istanbul Hotel</td>\n",
              "      <td>Romance Istanbul Hotel has 39 rooms.Every room...</td>\n",
              "      <td>Romance Istanbul Hotel offers 39 elegantly fur...</td>\n",
              "      <td>5.0</td>\n",
              "      <td>4023.0</td>\n",
              "      <td>You can’t get better than this.</td>\n",
              "      <td>An exceptional stay that exceeded all expectat...</td>\n",
              "      <td>5.0</td>\n",
              "      <td>2021-03</td>\n",
              "      <td>affordable, budget, economical</td>\n",
              "      <td>...</td>\n",
              "      <td>You can’t get better than this.: An exceptiona...</td>\n",
              "      <td>Hudavendigar Cd. No:5 Sirkeci, Istanbul, Turkiye</td>\n",
              "      <td>romanc istanbul hotel 39 room elegantli furnis...</td>\n",
              "      <td>get better except stay exceed expect hotel del...</td>\n",
              "      <td>hudavendigar cd sirkeci istanbul turkiy</td>\n",
              "      <td>afford budget econom</td>\n",
              "      <td>[-0.72195345, 1.079411, -3.1429782, -0.9376375...</td>\n",
              "      <td>[-0.57478076, 0.008897147, -3.1645122, -0.2190...</td>\n",
              "      <td>[0.41714233, 0.93826044, -2.9774604, -0.179409...</td>\n",
              "      <td>[-0.7813845, 1.2947574, -3.6422498, 0.23717952...</td>\n",
              "    </tr>\n",
              "    <tr>\n",
              "      <th>2</th>\n",
              "      <td>Romance Istanbul Hotel</td>\n",
              "      <td>Romance Istanbul Hotel has 39 rooms.Every room...</td>\n",
              "      <td>Romance Istanbul Hotel offers 39 elegantly fur...</td>\n",
              "      <td>5.0</td>\n",
              "      <td>4023.0</td>\n",
              "      <td>Exceeds all expectations</td>\n",
              "      <td>This hotel truly goes above and beyond in ever...</td>\n",
              "      <td>5.0</td>\n",
              "      <td>2021-03</td>\n",
              "      <td>affordable, budget, economical</td>\n",
              "      <td>...</td>\n",
              "      <td>Exceeds all expectations: This hotel truly goe...</td>\n",
              "      <td>Hudavendigar Cd. No:5 Sirkeci, Istanbul, Turkiye</td>\n",
              "      <td>romanc istanbul hotel 39 room elegantli furnis...</td>\n",
              "      <td>exce expect hotel truli goe beyond everi aspec...</td>\n",
              "      <td>hudavendigar cd sirkeci istanbul turkiy</td>\n",
              "      <td>afford budget econom</td>\n",
              "      <td>[-0.72195345, 1.079411, -3.1429782, -0.9376375...</td>\n",
              "      <td>[-0.57478076, 0.008897147, -3.1645122, -0.2190...</td>\n",
              "      <td>[0.41714233, 0.93826044, -2.9774604, -0.179409...</td>\n",
              "      <td>[-0.75293285, 1.4301245, -3.5443554, 0.1793581...</td>\n",
              "    </tr>\n",
              "    <tr>\n",
              "      <th>3</th>\n",
              "      <td>Romance Istanbul Hotel</td>\n",
              "      <td>Romance Istanbul Hotel has 39 rooms.Every room...</td>\n",
              "      <td>Romance Istanbul Hotel offers 39 elegantly fur...</td>\n",
              "      <td>5.0</td>\n",
              "      <td>4023.0</td>\n",
              "      <td>Great Location, Fantastic Accommodations</td>\n",
              "      <td>This hotel offers a superb experience with its...</td>\n",
              "      <td>5.0</td>\n",
              "      <td>2021-08</td>\n",
              "      <td>affordable, budget, economical</td>\n",
              "      <td>...</td>\n",
              "      <td>Great Location, Fantastic Accommodations: This...</td>\n",
              "      <td>Hudavendigar Cd. No:5 Sirkeci, Istanbul, Turkiye</td>\n",
              "      <td>romanc istanbul hotel 39 room elegantli furnis...</td>\n",
              "      <td>great locat fantast accommod hotel offer super...</td>\n",
              "      <td>hudavendigar cd sirkeci istanbul turkiy</td>\n",
              "      <td>afford budget econom</td>\n",
              "      <td>[-0.72195345, 1.079411, -3.1429782, -0.9376375...</td>\n",
              "      <td>[-0.57478076, 0.008897147, -3.1645122, -0.2190...</td>\n",
              "      <td>[0.41714233, 0.93826044, -2.9774604, -0.179409...</td>\n",
              "      <td>[-1.6934611, 1.8118676, -4.088441, -0.30559927...</td>\n",
              "    </tr>\n",
              "    <tr>\n",
              "      <th>4</th>\n",
              "      <td>Romance Istanbul Hotel</td>\n",
              "      <td>Romance Istanbul Hotel has 39 rooms.Every room...</td>\n",
              "      <td>Romance Istanbul Hotel offers 39 elegantly fur...</td>\n",
              "      <td>5.0</td>\n",
              "      <td>4023.0</td>\n",
              "      <td>Perfection. It is all in the details.</td>\n",
              "      <td>Impeccable attention to detail elevates the ex...</td>\n",
              "      <td>5.0</td>\n",
              "      <td>2021-06</td>\n",
              "      <td>affordable, budget, economical</td>\n",
              "      <td>...</td>\n",
              "      <td>Perfection. It is all in the details.: Impecca...</td>\n",
              "      <td>Hudavendigar Cd. No:5 Sirkeci, Istanbul, Turkiye</td>\n",
              "      <td>romanc istanbul hotel 39 room elegantli furnis...</td>\n",
              "      <td>perfect detail impecc attent detail elev exper...</td>\n",
              "      <td>hudavendigar cd sirkeci istanbul turkiy</td>\n",
              "      <td>afford budget econom</td>\n",
              "      <td>[-0.72195345, 1.079411, -3.1429782, -0.9376375...</td>\n",
              "      <td>[-0.57478076, 0.008897147, -3.1645122, -0.2190...</td>\n",
              "      <td>[0.41714233, 0.93826044, -2.9774604, -0.179409...</td>\n",
              "      <td>[-0.24897064, 1.3150338, -3.780413, -0.0476737...</td>\n",
              "    </tr>\n",
              "  </tbody>\n",
              "</table>\n",
              "<p>5 rows × 25 columns</p>\n",
              "</div>\n",
              "    <div class=\"colab-df-buttons\">\n",
              "\n",
              "  <div class=\"colab-df-container\">\n",
              "    <button class=\"colab-df-convert\" onclick=\"convertToInteractive('df-d4e02357-ae2a-4ae7-a28f-633929b83407')\"\n",
              "            title=\"Convert this dataframe to an interactive table.\"\n",
              "            style=\"display:none;\">\n",
              "\n",
              "  <svg xmlns=\"http://www.w3.org/2000/svg\" height=\"24px\" viewBox=\"0 -960 960 960\">\n",
              "    <path d=\"M120-120v-720h720v720H120Zm60-500h600v-160H180v160Zm220 220h160v-160H400v160Zm0 220h160v-160H400v160ZM180-400h160v-160H180v160Zm440 0h160v-160H620v160ZM180-180h160v-160H180v160Zm440 0h160v-160H620v160Z\"/>\n",
              "  </svg>\n",
              "    </button>\n",
              "\n",
              "  <style>\n",
              "    .colab-df-container {\n",
              "      display:flex;\n",
              "      gap: 12px;\n",
              "    }\n",
              "\n",
              "    .colab-df-convert {\n",
              "      background-color: #E8F0FE;\n",
              "      border: none;\n",
              "      border-radius: 50%;\n",
              "      cursor: pointer;\n",
              "      display: none;\n",
              "      fill: #1967D2;\n",
              "      height: 32px;\n",
              "      padding: 0 0 0 0;\n",
              "      width: 32px;\n",
              "    }\n",
              "\n",
              "    .colab-df-convert:hover {\n",
              "      background-color: #E2EBFA;\n",
              "      box-shadow: 0px 1px 2px rgba(60, 64, 67, 0.3), 0px 1px 3px 1px rgba(60, 64, 67, 0.15);\n",
              "      fill: #174EA6;\n",
              "    }\n",
              "\n",
              "    .colab-df-buttons div {\n",
              "      margin-bottom: 4px;\n",
              "    }\n",
              "\n",
              "    [theme=dark] .colab-df-convert {\n",
              "      background-color: #3B4455;\n",
              "      fill: #D2E3FC;\n",
              "    }\n",
              "\n",
              "    [theme=dark] .colab-df-convert:hover {\n",
              "      background-color: #434B5C;\n",
              "      box-shadow: 0px 1px 3px 1px rgba(0, 0, 0, 0.15);\n",
              "      filter: drop-shadow(0px 1px 2px rgba(0, 0, 0, 0.3));\n",
              "      fill: #FFFFFF;\n",
              "    }\n",
              "  </style>\n",
              "\n",
              "    <script>\n",
              "      const buttonEl =\n",
              "        document.querySelector('#df-d4e02357-ae2a-4ae7-a28f-633929b83407 button.colab-df-convert');\n",
              "      buttonEl.style.display =\n",
              "        google.colab.kernel.accessAllowed ? 'block' : 'none';\n",
              "\n",
              "      async function convertToInteractive(key) {\n",
              "        const element = document.querySelector('#df-d4e02357-ae2a-4ae7-a28f-633929b83407');\n",
              "        const dataTable =\n",
              "          await google.colab.kernel.invokeFunction('convertToInteractive',\n",
              "                                                    [key], {});\n",
              "        if (!dataTable) return;\n",
              "\n",
              "        const docLinkHtml = 'Like what you see? Visit the ' +\n",
              "          '<a target=\"_blank\" href=https://colab.research.google.com/notebooks/data_table.ipynb>data table notebook</a>'\n",
              "          + ' to learn more about interactive tables.';\n",
              "        element.innerHTML = '';\n",
              "        dataTable['output_type'] = 'display_data';\n",
              "        await google.colab.output.renderOutput(dataTable, element);\n",
              "        const docLink = document.createElement('div');\n",
              "        docLink.innerHTML = docLinkHtml;\n",
              "        element.appendChild(docLink);\n",
              "      }\n",
              "    </script>\n",
              "  </div>\n",
              "\n",
              "\n",
              "<div id=\"df-f78e8337-25f0-4610-a5d4-d9434e06b2a9\">\n",
              "  <button class=\"colab-df-quickchart\" onclick=\"quickchart('df-f78e8337-25f0-4610-a5d4-d9434e06b2a9')\"\n",
              "            title=\"Suggest charts\"\n",
              "            style=\"display:none;\">\n",
              "\n",
              "<svg xmlns=\"http://www.w3.org/2000/svg\" height=\"24px\"viewBox=\"0 0 24 24\"\n",
              "     width=\"24px\">\n",
              "    <g>\n",
              "        <path d=\"M19 3H5c-1.1 0-2 .9-2 2v14c0 1.1.9 2 2 2h14c1.1 0 2-.9 2-2V5c0-1.1-.9-2-2-2zM9 17H7v-7h2v7zm4 0h-2V7h2v10zm4 0h-2v-4h2v4z\"/>\n",
              "    </g>\n",
              "</svg>\n",
              "  </button>\n",
              "\n",
              "<style>\n",
              "  .colab-df-quickchart {\n",
              "      --bg-color: #E8F0FE;\n",
              "      --fill-color: #1967D2;\n",
              "      --hover-bg-color: #E2EBFA;\n",
              "      --hover-fill-color: #174EA6;\n",
              "      --disabled-fill-color: #AAA;\n",
              "      --disabled-bg-color: #DDD;\n",
              "  }\n",
              "\n",
              "  [theme=dark] .colab-df-quickchart {\n",
              "      --bg-color: #3B4455;\n",
              "      --fill-color: #D2E3FC;\n",
              "      --hover-bg-color: #434B5C;\n",
              "      --hover-fill-color: #FFFFFF;\n",
              "      --disabled-bg-color: #3B4455;\n",
              "      --disabled-fill-color: #666;\n",
              "  }\n",
              "\n",
              "  .colab-df-quickchart {\n",
              "    background-color: var(--bg-color);\n",
              "    border: none;\n",
              "    border-radius: 50%;\n",
              "    cursor: pointer;\n",
              "    display: none;\n",
              "    fill: var(--fill-color);\n",
              "    height: 32px;\n",
              "    padding: 0;\n",
              "    width: 32px;\n",
              "  }\n",
              "\n",
              "  .colab-df-quickchart:hover {\n",
              "    background-color: var(--hover-bg-color);\n",
              "    box-shadow: 0 1px 2px rgba(60, 64, 67, 0.3), 0 1px 3px 1px rgba(60, 64, 67, 0.15);\n",
              "    fill: var(--button-hover-fill-color);\n",
              "  }\n",
              "\n",
              "  .colab-df-quickchart-complete:disabled,\n",
              "  .colab-df-quickchart-complete:disabled:hover {\n",
              "    background-color: var(--disabled-bg-color);\n",
              "    fill: var(--disabled-fill-color);\n",
              "    box-shadow: none;\n",
              "  }\n",
              "\n",
              "  .colab-df-spinner {\n",
              "    border: 2px solid var(--fill-color);\n",
              "    border-color: transparent;\n",
              "    border-bottom-color: var(--fill-color);\n",
              "    animation:\n",
              "      spin 1s steps(1) infinite;\n",
              "  }\n",
              "\n",
              "  @keyframes spin {\n",
              "    0% {\n",
              "      border-color: transparent;\n",
              "      border-bottom-color: var(--fill-color);\n",
              "      border-left-color: var(--fill-color);\n",
              "    }\n",
              "    20% {\n",
              "      border-color: transparent;\n",
              "      border-left-color: var(--fill-color);\n",
              "      border-top-color: var(--fill-color);\n",
              "    }\n",
              "    30% {\n",
              "      border-color: transparent;\n",
              "      border-left-color: var(--fill-color);\n",
              "      border-top-color: var(--fill-color);\n",
              "      border-right-color: var(--fill-color);\n",
              "    }\n",
              "    40% {\n",
              "      border-color: transparent;\n",
              "      border-right-color: var(--fill-color);\n",
              "      border-top-color: var(--fill-color);\n",
              "    }\n",
              "    60% {\n",
              "      border-color: transparent;\n",
              "      border-right-color: var(--fill-color);\n",
              "    }\n",
              "    80% {\n",
              "      border-color: transparent;\n",
              "      border-right-color: var(--fill-color);\n",
              "      border-bottom-color: var(--fill-color);\n",
              "    }\n",
              "    90% {\n",
              "      border-color: transparent;\n",
              "      border-bottom-color: var(--fill-color);\n",
              "    }\n",
              "  }\n",
              "</style>\n",
              "\n",
              "  <script>\n",
              "    async function quickchart(key) {\n",
              "      const quickchartButtonEl =\n",
              "        document.querySelector('#' + key + ' button');\n",
              "      quickchartButtonEl.disabled = true;  // To prevent multiple clicks.\n",
              "      quickchartButtonEl.classList.add('colab-df-spinner');\n",
              "      try {\n",
              "        const charts = await google.colab.kernel.invokeFunction(\n",
              "            'suggestCharts', [key], {});\n",
              "      } catch (error) {\n",
              "        console.error('Error during call to suggestCharts:', error);\n",
              "      }\n",
              "      quickchartButtonEl.classList.remove('colab-df-spinner');\n",
              "      quickchartButtonEl.classList.add('colab-df-quickchart-complete');\n",
              "    }\n",
              "    (() => {\n",
              "      let quickchartButtonEl =\n",
              "        document.querySelector('#df-f78e8337-25f0-4610-a5d4-d9434e06b2a9 button');\n",
              "      quickchartButtonEl.style.display =\n",
              "        google.colab.kernel.accessAllowed ? 'block' : 'none';\n",
              "    })();\n",
              "  </script>\n",
              "</div>\n",
              "\n",
              "    </div>\n",
              "  </div>\n"
            ],
            "application/vnd.google.colaboratory.intrinsic+json": {
              "type": "dataframe",
              "variable_name": "df"
            }
          },
          "metadata": {},
          "execution_count": 64
        }
      ]
    },
    {
      "cell_type": "code",
      "source": [
        "import numpy as np\n",
        "embeddings_addresses_array = np.vstack(df['embedding_addresses'])\n",
        "embeddings_prices_array = np.vstack(df['embedding_prices'])\n",
        "embeddings_full_review_array = np.vstack(df['embedding_full_review'])\n",
        "embeddings_descriptions_array = np.vstack(df['embedding_descriptions'])\n",
        "\n",
        "print(embeddings_addresses_array.shape)\n",
        "print(embeddings_prices_array.shape)\n",
        "print(embeddings_full_review_array.shape)\n",
        "print(embeddings_descriptions_array.shape)"
      ],
      "metadata": {
        "colab": {
          "base_uri": "https://localhost:8080/"
        },
        "id": "I_LZZIGjycre",
        "outputId": "50b387a9-ffa4-4442-db9e-45142915beea"
      },
      "execution_count": null,
      "outputs": [
        {
          "output_type": "stream",
          "name": "stdout",
          "text": [
            "(5997, 768)\n",
            "(5997, 768)\n",
            "(5997, 768)\n",
            "(5997, 768)\n"
          ]
        }
      ]
    },
    {
      "cell_type": "code",
      "source": [
        "combined_embeddings = np.hstack([\n",
        "    embeddings_addresses_array,\n",
        "    embeddings_prices_array,\n",
        "    embeddings_full_review_array,\n",
        "    embeddings_descriptions_array\n",
        "])\n",
        "\n",
        "print(\"Shape of combined_embeddings:\", combined_embeddings.shape)"
      ],
      "metadata": {
        "colab": {
          "base_uri": "https://localhost:8080/"
        },
        "id": "T779r92PzRtg",
        "outputId": "001e846d-06c3-426a-8ed0-e4033f7ba9a9"
      },
      "execution_count": null,
      "outputs": [
        {
          "output_type": "stream",
          "name": "stdout",
          "text": [
            "Shape of combined_embeddings: (5997, 3072)\n"
          ]
        }
      ]
    },
    {
      "cell_type": "code",
      "source": [
        "!pip install sentence_transformers"
      ],
      "metadata": {
        "colab": {
          "base_uri": "https://localhost:8080/"
        },
        "collapsed": true,
        "id": "F_Ypf3LLzi0a",
        "outputId": "1c798770-6754-4f0c-df54-0d1fb6cfcea9"
      },
      "execution_count": null,
      "outputs": [
        {
          "output_type": "stream",
          "name": "stdout",
          "text": [
            "Requirement already satisfied: sentence_transformers in /usr/local/lib/python3.10/dist-packages (3.0.1)\n",
            "Requirement already satisfied: transformers<5.0.0,>=4.34.0 in /usr/local/lib/python3.10/dist-packages (from sentence_transformers) (4.42.4)\n",
            "Requirement already satisfied: tqdm in /usr/local/lib/python3.10/dist-packages (from sentence_transformers) (4.66.5)\n",
            "Requirement already satisfied: torch>=1.11.0 in /usr/local/lib/python3.10/dist-packages (from sentence_transformers) (2.3.1+cu121)\n",
            "Requirement already satisfied: numpy in /usr/local/lib/python3.10/dist-packages (from sentence_transformers) (1.26.4)\n",
            "Requirement already satisfied: scikit-learn in /usr/local/lib/python3.10/dist-packages (from sentence_transformers) (1.3.2)\n",
            "Requirement already satisfied: scipy in /usr/local/lib/python3.10/dist-packages (from sentence_transformers) (1.13.1)\n",
            "Requirement already satisfied: huggingface-hub>=0.15.1 in /usr/local/lib/python3.10/dist-packages (from sentence_transformers) (0.23.5)\n",
            "Requirement already satisfied: Pillow in /usr/local/lib/python3.10/dist-packages (from sentence_transformers) (9.4.0)\n",
            "Requirement already satisfied: filelock in /usr/local/lib/python3.10/dist-packages (from huggingface-hub>=0.15.1->sentence_transformers) (3.15.4)\n",
            "Requirement already satisfied: fsspec>=2023.5.0 in /usr/local/lib/python3.10/dist-packages (from huggingface-hub>=0.15.1->sentence_transformers) (2024.6.1)\n",
            "Requirement already satisfied: packaging>=20.9 in /usr/local/lib/python3.10/dist-packages (from huggingface-hub>=0.15.1->sentence_transformers) (24.1)\n",
            "Requirement already satisfied: pyyaml>=5.1 in /usr/local/lib/python3.10/dist-packages (from huggingface-hub>=0.15.1->sentence_transformers) (6.0.2)\n",
            "Requirement already satisfied: requests in /usr/local/lib/python3.10/dist-packages (from huggingface-hub>=0.15.1->sentence_transformers) (2.32.3)\n",
            "Requirement already satisfied: typing-extensions>=3.7.4.3 in /usr/local/lib/python3.10/dist-packages (from huggingface-hub>=0.15.1->sentence_transformers) (4.12.2)\n",
            "Requirement already satisfied: sympy in /usr/local/lib/python3.10/dist-packages (from torch>=1.11.0->sentence_transformers) (1.13.1)\n",
            "Requirement already satisfied: networkx in /usr/local/lib/python3.10/dist-packages (from torch>=1.11.0->sentence_transformers) (3.3)\n",
            "Requirement already satisfied: jinja2 in /usr/local/lib/python3.10/dist-packages (from torch>=1.11.0->sentence_transformers) (3.1.4)\n",
            "Requirement already satisfied: nvidia-cuda-nvrtc-cu12==12.1.105 in /usr/local/lib/python3.10/dist-packages (from torch>=1.11.0->sentence_transformers) (12.1.105)\n",
            "Requirement already satisfied: nvidia-cuda-runtime-cu12==12.1.105 in /usr/local/lib/python3.10/dist-packages (from torch>=1.11.0->sentence_transformers) (12.1.105)\n",
            "Requirement already satisfied: nvidia-cuda-cupti-cu12==12.1.105 in /usr/local/lib/python3.10/dist-packages (from torch>=1.11.0->sentence_transformers) (12.1.105)\n",
            "Requirement already satisfied: nvidia-cudnn-cu12==8.9.2.26 in /usr/local/lib/python3.10/dist-packages (from torch>=1.11.0->sentence_transformers) (8.9.2.26)\n",
            "Requirement already satisfied: nvidia-cublas-cu12==12.1.3.1 in /usr/local/lib/python3.10/dist-packages (from torch>=1.11.0->sentence_transformers) (12.1.3.1)\n",
            "Requirement already satisfied: nvidia-cufft-cu12==11.0.2.54 in /usr/local/lib/python3.10/dist-packages (from torch>=1.11.0->sentence_transformers) (11.0.2.54)\n",
            "Requirement already satisfied: nvidia-curand-cu12==10.3.2.106 in /usr/local/lib/python3.10/dist-packages (from torch>=1.11.0->sentence_transformers) (10.3.2.106)\n",
            "Requirement already satisfied: nvidia-cusolver-cu12==11.4.5.107 in /usr/local/lib/python3.10/dist-packages (from torch>=1.11.0->sentence_transformers) (11.4.5.107)\n",
            "Requirement already satisfied: nvidia-cusparse-cu12==12.1.0.106 in /usr/local/lib/python3.10/dist-packages (from torch>=1.11.0->sentence_transformers) (12.1.0.106)\n",
            "Requirement already satisfied: nvidia-nccl-cu12==2.20.5 in /usr/local/lib/python3.10/dist-packages (from torch>=1.11.0->sentence_transformers) (2.20.5)\n",
            "Requirement already satisfied: nvidia-nvtx-cu12==12.1.105 in /usr/local/lib/python3.10/dist-packages (from torch>=1.11.0->sentence_transformers) (12.1.105)\n",
            "Requirement already satisfied: triton==2.3.1 in /usr/local/lib/python3.10/dist-packages (from torch>=1.11.0->sentence_transformers) (2.3.1)\n",
            "Requirement already satisfied: nvidia-nvjitlink-cu12 in /usr/local/lib/python3.10/dist-packages (from nvidia-cusolver-cu12==11.4.5.107->torch>=1.11.0->sentence_transformers) (12.6.20)\n",
            "Requirement already satisfied: regex!=2019.12.17 in /usr/local/lib/python3.10/dist-packages (from transformers<5.0.0,>=4.34.0->sentence_transformers) (2024.5.15)\n",
            "Requirement already satisfied: safetensors>=0.4.1 in /usr/local/lib/python3.10/dist-packages (from transformers<5.0.0,>=4.34.0->sentence_transformers) (0.4.4)\n",
            "Requirement already satisfied: tokenizers<0.20,>=0.19 in /usr/local/lib/python3.10/dist-packages (from transformers<5.0.0,>=4.34.0->sentence_transformers) (0.19.1)\n",
            "Requirement already satisfied: joblib>=1.1.1 in /usr/local/lib/python3.10/dist-packages (from scikit-learn->sentence_transformers) (1.4.2)\n",
            "Requirement already satisfied: threadpoolctl>=2.0.0 in /usr/local/lib/python3.10/dist-packages (from scikit-learn->sentence_transformers) (3.5.0)\n",
            "Requirement already satisfied: MarkupSafe>=2.0 in /usr/local/lib/python3.10/dist-packages (from jinja2->torch>=1.11.0->sentence_transformers) (2.1.5)\n",
            "Requirement already satisfied: charset-normalizer<4,>=2 in /usr/local/lib/python3.10/dist-packages (from requests->huggingface-hub>=0.15.1->sentence_transformers) (3.3.2)\n",
            "Requirement already satisfied: idna<4,>=2.5 in /usr/local/lib/python3.10/dist-packages (from requests->huggingface-hub>=0.15.1->sentence_transformers) (3.7)\n",
            "Requirement already satisfied: urllib3<3,>=1.21.1 in /usr/local/lib/python3.10/dist-packages (from requests->huggingface-hub>=0.15.1->sentence_transformers) (2.0.7)\n",
            "Requirement already satisfied: certifi>=2017.4.17 in /usr/local/lib/python3.10/dist-packages (from requests->huggingface-hub>=0.15.1->sentence_transformers) (2024.7.4)\n",
            "Requirement already satisfied: mpmath<1.4,>=1.1.0 in /usr/local/lib/python3.10/dist-packages (from sympy->torch>=1.11.0->sentence_transformers) (1.3.0)\n"
          ]
        }
      ]
    },
    {
      "cell_type": "code",
      "source": [
        "from nltk.tokenize import word_tokenize\n",
        "from nltk.corpus import stopwords\n",
        "from nltk.stem import PorterStemmer\n",
        "import string\n",
        "import re\n",
        "import nltk\n",
        "\n",
        "nltk.download('punkt')\n",
        "nltk.download('stopwords')\n",
        "\n",
        "stop_words = set(stopwords.words('english'))\n",
        "stemmer = PorterStemmer()\n",
        "\n",
        "def preprocess_text(text):\n",
        "    # Tokenize and convert to lowercase\n",
        "    tokens = word_tokenize(text.lower())\n",
        "\n",
        "    # Keep only alphanumeric tokens (including alphabetic and numeric characters)\n",
        "    tokens = [word for word in tokens if word.isalnum()]\n",
        "\n",
        "    # Remove stop words and apply stemming\n",
        "    tokens = [stemmer.stem(word) for word in tokens if word not in stop_words]\n",
        "\n",
        "    # Join tokens back into a single string\n",
        "    return ' '.join(tokens)"
      ],
      "metadata": {
        "colab": {
          "base_uri": "https://localhost:8080/"
        },
        "id": "eUyFTvK_zZKD",
        "outputId": "54dccb03-a794-4013-c6bc-9c1efd2cf960"
      },
      "execution_count": null,
      "outputs": [
        {
          "output_type": "stream",
          "name": "stderr",
          "text": [
            "[nltk_data] Downloading package punkt to /root/nltk_data...\n",
            "[nltk_data]   Package punkt is already up-to-date!\n",
            "[nltk_data] Downloading package stopwords to /root/nltk_data...\n",
            "[nltk_data]   Package stopwords is already up-to-date!\n"
          ]
        }
      ]
    },
    {
      "cell_type": "code",
      "source": [
        "from sentence_transformers import SentenceTransformer\n",
        "import torch\n",
        "\n",
        "device = torch.device('cuda' if torch.cuda.is_available() else 'cpu')\n",
        "model = SentenceTransformer(\"nomic-ai/nomic-embed-text-v1.5\" , trust_remote_code=True)\n",
        "\n",
        "def embed(text):\n",
        "    embeddings = model.encode(text, convert_to_tensor=True)\n",
        "    embeddings = embeddings.to(device)\n",
        "    return embeddings"
      ],
      "metadata": {
        "colab": {
          "base_uri": "https://localhost:8080/"
        },
        "id": "r6G0v0EXzdZN",
        "outputId": "ef732d73-d27d-4210-a4df-7d733c267cb6"
      },
      "execution_count": null,
      "outputs": [
        {
          "output_type": "stream",
          "name": "stderr",
          "text": [
            "WARNING:transformers_modules.nomic-ai.nomic-bert-2048.e55a7d4324f65581af5f483e830b80f34680e8ff.modeling_hf_nomic_bert:<All keys matched successfully>\n"
          ]
        }
      ]
    },
    {
      "cell_type": "code",
      "source": [
        "def embed_query(query):\n",
        "    query_preprocessing = preprocess_text(query)\n",
        "    query_embedding = embed([query_preprocessing]).cpu().numpy()[0]\n",
        "    query_addresses_embedding = embed([query_preprocessing]).cpu().numpy()[0]\n",
        "    query_prices_embedding = embed([query_preprocessing]).cpu().numpy()[0]\n",
        "    query_full_review_embedding = embed([query_preprocessing]).cpu().numpy()[0]\n",
        "    query_descriptions_embedding = embed([query_preprocessing]).cpu().numpy()[0]\n",
        "    query_combined_embedding = np.concatenate([\n",
        "        query_addresses_embedding,\n",
        "        query_prices_embedding,\n",
        "        query_full_review_embedding,\n",
        "        query_descriptions_embedding\n",
        "    ])\n",
        "    query_combined_embedding = query_combined_embedding.reshape(1, -1)\n",
        "    return query_combined_embedding, query_embedding"
      ],
      "metadata": {
        "id": "46Z3FFQYzhbD"
      },
      "execution_count": null,
      "outputs": []
    },
    {
      "cell_type": "code",
      "source": [
        "query = \"A good hotel with a great view on New York\"\n",
        "query_combined_embedding, query_single_embedding = embed_query(query)\n",
        "print(query_combined_embedding.shape)\n",
        "print(query_single_embedding.shape)"
      ],
      "metadata": {
        "colab": {
          "base_uri": "https://localhost:8080/"
        },
        "id": "EMWN2eW30Web",
        "outputId": "5742c1c1-9659-458e-9883-8c10a015369d"
      },
      "execution_count": null,
      "outputs": [
        {
          "output_type": "stream",
          "name": "stdout",
          "text": [
            "(1, 3072)\n",
            "(768,)\n"
          ]
        }
      ]
    },
    {
      "cell_type": "code",
      "source": [
        "!pip install faiss-cpu"
      ],
      "metadata": {
        "colab": {
          "base_uri": "https://localhost:8080/"
        },
        "id": "_AHmARsX1RT3",
        "outputId": "2d7292ef-8832-4760-9a89-c72316b80880"
      },
      "execution_count": null,
      "outputs": [
        {
          "output_type": "stream",
          "name": "stdout",
          "text": [
            "Requirement already satisfied: faiss-cpu in /usr/local/lib/python3.10/dist-packages (1.8.0.post1)\n",
            "Requirement already satisfied: numpy<2.0,>=1.0 in /usr/local/lib/python3.10/dist-packages (from faiss-cpu) (1.26.4)\n",
            "Requirement already satisfied: packaging in /usr/local/lib/python3.10/dist-packages (from faiss-cpu) (24.1)\n"
          ]
        }
      ]
    },
    {
      "cell_type": "code",
      "source": [
        "!pip install rank_bm25"
      ],
      "metadata": {
        "colab": {
          "base_uri": "https://localhost:8080/"
        },
        "id": "Xp_7ldzO1WKr",
        "outputId": "952b8a5a-0add-446f-af09-1ab836b59585"
      },
      "execution_count": null,
      "outputs": [
        {
          "output_type": "stream",
          "name": "stdout",
          "text": [
            "Requirement already satisfied: rank_bm25 in /usr/local/lib/python3.10/dist-packages (0.2.2)\n",
            "Requirement already satisfied: numpy in /usr/local/lib/python3.10/dist-packages (from rank_bm25) (1.26.4)\n"
          ]
        }
      ]
    },
    {
      "cell_type": "code",
      "source": [
        "import faiss\n",
        "from rank_bm25 import BM25Okapi\n",
        "import numpy as np\n",
        "\n",
        "def faiss_bm25(df, query, k1=1.5, b=0.75, combined_embeddings=None, query_embedding=None, k=200, nlist=50, nprobe=100, bm25_weight=0.3, faiss_weight=0.7):\n",
        "    \"\"\"\n",
        "    Perform a hybrid search using both BM25 and Faiss with weighted scores.\n",
        "\n",
        "    Parameters:\n",
        "    - df: pandas DataFrame containing tokenized text columns and embeddings\n",
        "    - query: string representing the search query\n",
        "    - k1: BM25 parameter k1\n",
        "    - b: BM25 parameter b\n",
        "    - combined_embeddings: numpy array with combined embeddings for Faiss\n",
        "    - query_embedding: numpy array with query embedding for Faiss\n",
        "    - k: number of top results to retrieve from Faiss\n",
        "    - nlist: number of clusters for the Faiss index\n",
        "    - nprobe: number of clusters to search in Faiss\n",
        "    - bm25_weight: weight for BM25 scores\n",
        "    - faiss_weight: weight for Faiss scores\n",
        "\n",
        "    Returns:\n",
        "    - metadata: String containing formatted metadata for the top k results\n",
        "    \"\"\"\n",
        "\n",
        "    # Combine all tokenized fields for BM25 search\n",
        "    combined_columns = [\n",
        "        description + \" \" + full_review + \" \" + address + \" \" + price\n",
        "        for description, full_review, address, price in zip(\n",
        "            df['description_processed'], df['full_review_processed'], df['address_processed'], df['price_processed']\n",
        "        )\n",
        "    ]\n",
        "\n",
        "    # Initialize and run BM25 model\n",
        "    bm25 = BM25Okapi(combined_columns, k1=k1, b=b)\n",
        "    query_preprocessing = preprocess_text(query)\n",
        "    bm25_scores = bm25.get_scores(query_preprocessing)\n",
        "\n",
        "    # Initialize and train Faiss index\n",
        "    combined_dimension = combined_embeddings.shape[1]\n",
        "    quantizer = faiss.IndexFlatL2(combined_dimension)\n",
        "    index = faiss.IndexIVFFlat(quantizer, combined_dimension, nlist)\n",
        "\n",
        "    # Train the index\n",
        "    index.train(combined_embeddings)\n",
        "    assert index.is_trained, \"Faiss index failed to train properly.\"\n",
        "\n",
        "    # Add embeddings to the index\n",
        "    index.add(combined_embeddings)\n",
        "    index.nprobe = nprobe  # Set nprobe to control the number of clusters to search\n",
        "\n",
        "    # Perform Faiss search\n",
        "    query_combined_embedding = query_embedding.reshape(1, -1)\n",
        "    _, faiss_indices = index.search(query_combined_embedding, k)\n",
        "\n",
        "    # Combine BM25 and Faiss results\n",
        "    faiss_scores = np.zeros(len(df))\n",
        "    for idx in faiss_indices[0]:\n",
        "        faiss_scores[idx] = 1  # Assign a dummy score of 1 for Faiss results\n",
        "\n",
        "    # Normalize scores\n",
        "    faiss_scores = (faiss_scores - faiss_scores.min()) / (faiss_scores.max() - faiss_scores.min())\n",
        "\n",
        "    # Weighted combination of BM25 and Faiss scores\n",
        "    combined_scores = bm25_weight * np.array(bm25_scores) + faiss_weight * faiss_scores\n",
        "\n",
        "    # Get top k results based on combined scores\n",
        "    top_k_indices = np.argsort(-combined_scores)[:k]\n",
        "\n",
        "    # Group reviews by hotel name\n",
        "    hotel_reviews = {}\n",
        "    for idx in top_k_indices:\n",
        "        row = df.iloc[idx]\n",
        "        hotel_name = row['hotel_name']\n",
        "        if hotel_name not in hotel_reviews:\n",
        "            hotel_reviews[hotel_name] = {\n",
        "                'hotel_description_summary': row['hotel_description_summary'],\n",
        "                'price_range': row['price_range'],\n",
        "                'trip_date': row['tripdate'],\n",
        "                'hotel_url': row['hotel_url'],\n",
        "                'rating_value': row['rating_value'],\n",
        "                'review_count': row['review_count'],\n",
        "                'country': row['country'],\n",
        "                'city': row['locality'],\n",
        "                'street_address': row['street_address'],\n",
        "                'hotel_image': row['hotel_image'],\n",
        "                'reviews': []\n",
        "            }\n",
        "        hotel_reviews[hotel_name]['reviews'].append({\n",
        "            'review_title': row['review_title'],\n",
        "            'review_text': row['review_text'],\n",
        "            'rating': row['rate'],\n",
        "        })\n",
        "\n",
        "    # Prepare formatted metadata output\n",
        "    metadata = []\n",
        "    for hotel_name, details in hotel_reviews.items():\n",
        "        metadata.append(\n",
        "            f\"Hotel Name: {hotel_name}\\n\"\n",
        "            f\"Description: {details['hotel_description_summary']}\\n\"\n",
        "            f\"Price Range: {details['price_range']}\\n\"\n",
        "            f\"Trip Date: {details['trip_date']}\\n\"\n",
        "            f\"Hotel URL: {details['hotel_url']}\\n\"\n",
        "            f\"Rating Value: {details['rating_value']}\\n\"\n",
        "            f\"Review Count: {details['review_count']}\\n\"\n",
        "            f\"Country: {details['country']}\\n\"\n",
        "            f\"City: {details['city']}\\n\"\n",
        "            f\"Street Address: {details['street_address']}\\n\"\n",
        "            f\"Hotel Image: {details['hotel_image']}\\n\"\n",
        "        )\n",
        "        for review in details['reviews']:\n",
        "            metadata.append(\n",
        "                f\"\\nReview Title: {review['review_title']}\\n\"\n",
        "                f\"Review Text: {review['review_text']}\\n\"\n",
        "                f\"Rating: {review['rating']}\\n\"\n",
        "            )\n",
        "        metadata.append(\"-\" * 80)\n",
        "\n",
        "    return \"\\n\".join(metadata)"
      ],
      "metadata": {
        "id": "cVPQFbPq0imK"
      },
      "execution_count": null,
      "outputs": []
    },
    {
      "cell_type": "code",
      "source": [
        "metadata = faiss_bm25(df, query, combined_embeddings=combined_embeddings, query_embedding=query_combined_embedding, k=10)"
      ],
      "metadata": {
        "id": "w3cyMqmz34TX"
      },
      "execution_count": null,
      "outputs": []
    },
    {
      "cell_type": "code",
      "source": [
        "!pip install openai==0.27.7\n",
        "!pip install gradio"
      ],
      "metadata": {
        "colab": {
          "base_uri": "https://localhost:8080/"
        },
        "collapsed": true,
        "id": "y4q8-rx04WF8",
        "outputId": "01e343f0-45f0-4bc5-c35d-17f460ef9f5f"
      },
      "execution_count": null,
      "outputs": [
        {
          "output_type": "stream",
          "name": "stdout",
          "text": [
            "Requirement already satisfied: openai==0.27.7 in /usr/local/lib/python3.10/dist-packages (0.27.7)\n",
            "Requirement already satisfied: requests>=2.20 in /usr/local/lib/python3.10/dist-packages (from openai==0.27.7) (2.32.3)\n",
            "Requirement already satisfied: tqdm in /usr/local/lib/python3.10/dist-packages (from openai==0.27.7) (4.66.5)\n",
            "Requirement already satisfied: aiohttp in /usr/local/lib/python3.10/dist-packages (from openai==0.27.7) (3.10.1)\n",
            "Requirement already satisfied: charset-normalizer<4,>=2 in /usr/local/lib/python3.10/dist-packages (from requests>=2.20->openai==0.27.7) (3.3.2)\n",
            "Requirement already satisfied: idna<4,>=2.5 in /usr/local/lib/python3.10/dist-packages (from requests>=2.20->openai==0.27.7) (3.7)\n",
            "Requirement already satisfied: urllib3<3,>=1.21.1 in /usr/local/lib/python3.10/dist-packages (from requests>=2.20->openai==0.27.7) (2.0.7)\n",
            "Requirement already satisfied: certifi>=2017.4.17 in /usr/local/lib/python3.10/dist-packages (from requests>=2.20->openai==0.27.7) (2024.7.4)\n",
            "Requirement already satisfied: aiohappyeyeballs>=2.3.0 in /usr/local/lib/python3.10/dist-packages (from aiohttp->openai==0.27.7) (2.3.4)\n",
            "Requirement already satisfied: aiosignal>=1.1.2 in /usr/local/lib/python3.10/dist-packages (from aiohttp->openai==0.27.7) (1.3.1)\n",
            "Requirement already satisfied: attrs>=17.3.0 in /usr/local/lib/python3.10/dist-packages (from aiohttp->openai==0.27.7) (24.2.0)\n",
            "Requirement already satisfied: frozenlist>=1.1.1 in /usr/local/lib/python3.10/dist-packages (from aiohttp->openai==0.27.7) (1.4.1)\n",
            "Requirement already satisfied: multidict<7.0,>=4.5 in /usr/local/lib/python3.10/dist-packages (from aiohttp->openai==0.27.7) (6.0.5)\n",
            "Requirement already satisfied: yarl<2.0,>=1.0 in /usr/local/lib/python3.10/dist-packages (from aiohttp->openai==0.27.7) (1.9.4)\n",
            "Requirement already satisfied: async-timeout<5.0,>=4.0 in /usr/local/lib/python3.10/dist-packages (from aiohttp->openai==0.27.7) (4.0.3)\n",
            "Requirement already satisfied: gradio in /usr/local/lib/python3.10/dist-packages (4.41.0)\n",
            "Requirement already satisfied: aiofiles<24.0,>=22.0 in /usr/local/lib/python3.10/dist-packages (from gradio) (23.2.1)\n",
            "Requirement already satisfied: anyio<5.0,>=3.0 in /usr/local/lib/python3.10/dist-packages (from gradio) (3.7.1)\n",
            "Requirement already satisfied: fastapi in /usr/local/lib/python3.10/dist-packages (from gradio) (0.112.0)\n",
            "Requirement already satisfied: ffmpy in /usr/local/lib/python3.10/dist-packages (from gradio) (0.4.0)\n",
            "Requirement already satisfied: gradio-client==1.3.0 in /usr/local/lib/python3.10/dist-packages (from gradio) (1.3.0)\n",
            "Requirement already satisfied: httpx>=0.24.1 in /usr/local/lib/python3.10/dist-packages (from gradio) (0.27.0)\n",
            "Requirement already satisfied: huggingface-hub>=0.19.3 in /usr/local/lib/python3.10/dist-packages (from gradio) (0.23.5)\n",
            "Requirement already satisfied: importlib-resources<7.0,>=1.3 in /usr/local/lib/python3.10/dist-packages (from gradio) (6.4.0)\n",
            "Requirement already satisfied: jinja2<4.0 in /usr/local/lib/python3.10/dist-packages (from gradio) (3.1.4)\n",
            "Requirement already satisfied: markupsafe~=2.0 in /usr/local/lib/python3.10/dist-packages (from gradio) (2.1.5)\n",
            "Requirement already satisfied: matplotlib~=3.0 in /usr/local/lib/python3.10/dist-packages (from gradio) (3.7.1)\n",
            "Requirement already satisfied: numpy<3.0,>=1.0 in /usr/local/lib/python3.10/dist-packages (from gradio) (1.26.4)\n",
            "Requirement already satisfied: orjson~=3.0 in /usr/local/lib/python3.10/dist-packages (from gradio) (3.10.7)\n",
            "Requirement already satisfied: packaging in /usr/local/lib/python3.10/dist-packages (from gradio) (24.1)\n",
            "Requirement already satisfied: pandas<3.0,>=1.0 in /usr/local/lib/python3.10/dist-packages (from gradio) (2.1.4)\n",
            "Requirement already satisfied: pillow<11.0,>=8.0 in /usr/local/lib/python3.10/dist-packages (from gradio) (9.4.0)\n",
            "Requirement already satisfied: pydantic>=2.0 in /usr/local/lib/python3.10/dist-packages (from gradio) (2.8.2)\n",
            "Requirement already satisfied: pydub in /usr/local/lib/python3.10/dist-packages (from gradio) (0.25.1)\n",
            "Requirement already satisfied: python-multipart>=0.0.9 in /usr/local/lib/python3.10/dist-packages (from gradio) (0.0.9)\n",
            "Requirement already satisfied: pyyaml<7.0,>=5.0 in /usr/local/lib/python3.10/dist-packages (from gradio) (6.0.2)\n",
            "Requirement already satisfied: ruff>=0.2.2 in /usr/local/lib/python3.10/dist-packages (from gradio) (0.5.7)\n",
            "Requirement already satisfied: semantic-version~=2.0 in /usr/local/lib/python3.10/dist-packages (from gradio) (2.10.0)\n",
            "Requirement already satisfied: tomlkit==0.12.0 in /usr/local/lib/python3.10/dist-packages (from gradio) (0.12.0)\n",
            "Requirement already satisfied: typer<1.0,>=0.12 in /usr/local/lib/python3.10/dist-packages (from gradio) (0.12.3)\n",
            "Requirement already satisfied: typing-extensions~=4.0 in /usr/local/lib/python3.10/dist-packages (from gradio) (4.12.2)\n",
            "Requirement already satisfied: urllib3~=2.0 in /usr/local/lib/python3.10/dist-packages (from gradio) (2.0.7)\n",
            "Requirement already satisfied: uvicorn>=0.14.0 in /usr/local/lib/python3.10/dist-packages (from gradio) (0.30.6)\n",
            "Requirement already satisfied: fsspec in /usr/local/lib/python3.10/dist-packages (from gradio-client==1.3.0->gradio) (2024.6.1)\n",
            "Requirement already satisfied: websockets<13.0,>=10.0 in /usr/local/lib/python3.10/dist-packages (from gradio-client==1.3.0->gradio) (12.0)\n",
            "Requirement already satisfied: idna>=2.8 in /usr/local/lib/python3.10/dist-packages (from anyio<5.0,>=3.0->gradio) (3.7)\n",
            "Requirement already satisfied: sniffio>=1.1 in /usr/local/lib/python3.10/dist-packages (from anyio<5.0,>=3.0->gradio) (1.3.1)\n",
            "Requirement already satisfied: exceptiongroup in /usr/local/lib/python3.10/dist-packages (from anyio<5.0,>=3.0->gradio) (1.2.2)\n",
            "Requirement already satisfied: certifi in /usr/local/lib/python3.10/dist-packages (from httpx>=0.24.1->gradio) (2024.7.4)\n",
            "Requirement already satisfied: httpcore==1.* in /usr/local/lib/python3.10/dist-packages (from httpx>=0.24.1->gradio) (1.0.5)\n",
            "Requirement already satisfied: h11<0.15,>=0.13 in /usr/local/lib/python3.10/dist-packages (from httpcore==1.*->httpx>=0.24.1->gradio) (0.14.0)\n",
            "Requirement already satisfied: filelock in /usr/local/lib/python3.10/dist-packages (from huggingface-hub>=0.19.3->gradio) (3.15.4)\n",
            "Requirement already satisfied: requests in /usr/local/lib/python3.10/dist-packages (from huggingface-hub>=0.19.3->gradio) (2.32.3)\n",
            "Requirement already satisfied: tqdm>=4.42.1 in /usr/local/lib/python3.10/dist-packages (from huggingface-hub>=0.19.3->gradio) (4.66.5)\n",
            "Requirement already satisfied: contourpy>=1.0.1 in /usr/local/lib/python3.10/dist-packages (from matplotlib~=3.0->gradio) (1.2.1)\n",
            "Requirement already satisfied: cycler>=0.10 in /usr/local/lib/python3.10/dist-packages (from matplotlib~=3.0->gradio) (0.12.1)\n",
            "Requirement already satisfied: fonttools>=4.22.0 in /usr/local/lib/python3.10/dist-packages (from matplotlib~=3.0->gradio) (4.53.1)\n",
            "Requirement already satisfied: kiwisolver>=1.0.1 in /usr/local/lib/python3.10/dist-packages (from matplotlib~=3.0->gradio) (1.4.5)\n",
            "Requirement already satisfied: pyparsing>=2.3.1 in /usr/local/lib/python3.10/dist-packages (from matplotlib~=3.0->gradio) (3.1.2)\n",
            "Requirement already satisfied: python-dateutil>=2.7 in /usr/local/lib/python3.10/dist-packages (from matplotlib~=3.0->gradio) (2.8.2)\n",
            "Requirement already satisfied: pytz>=2020.1 in /usr/local/lib/python3.10/dist-packages (from pandas<3.0,>=1.0->gradio) (2024.1)\n",
            "Requirement already satisfied: tzdata>=2022.1 in /usr/local/lib/python3.10/dist-packages (from pandas<3.0,>=1.0->gradio) (2024.1)\n",
            "Requirement already satisfied: annotated-types>=0.4.0 in /usr/local/lib/python3.10/dist-packages (from pydantic>=2.0->gradio) (0.7.0)\n",
            "Requirement already satisfied: pydantic-core==2.20.1 in /usr/local/lib/python3.10/dist-packages (from pydantic>=2.0->gradio) (2.20.1)\n",
            "Requirement already satisfied: click>=8.0.0 in /usr/local/lib/python3.10/dist-packages (from typer<1.0,>=0.12->gradio) (8.1.7)\n",
            "Requirement already satisfied: shellingham>=1.3.0 in /usr/local/lib/python3.10/dist-packages (from typer<1.0,>=0.12->gradio) (1.5.4)\n",
            "Requirement already satisfied: rich>=10.11.0 in /usr/local/lib/python3.10/dist-packages (from typer<1.0,>=0.12->gradio) (13.7.1)\n",
            "Requirement already satisfied: starlette<0.38.0,>=0.37.2 in /usr/local/lib/python3.10/dist-packages (from fastapi->gradio) (0.37.2)\n",
            "Requirement already satisfied: six>=1.5 in /usr/local/lib/python3.10/dist-packages (from python-dateutil>=2.7->matplotlib~=3.0->gradio) (1.16.0)\n",
            "Requirement already satisfied: markdown-it-py>=2.2.0 in /usr/local/lib/python3.10/dist-packages (from rich>=10.11.0->typer<1.0,>=0.12->gradio) (3.0.0)\n",
            "Requirement already satisfied: pygments<3.0.0,>=2.13.0 in /usr/local/lib/python3.10/dist-packages (from rich>=10.11.0->typer<1.0,>=0.12->gradio) (2.16.1)\n",
            "Requirement already satisfied: charset-normalizer<4,>=2 in /usr/local/lib/python3.10/dist-packages (from requests->huggingface-hub>=0.19.3->gradio) (3.3.2)\n",
            "Requirement already satisfied: mdurl~=0.1 in /usr/local/lib/python3.10/dist-packages (from markdown-it-py>=2.2.0->rich>=10.11.0->typer<1.0,>=0.12->gradio) (0.1.2)\n"
          ]
        }
      ]
    },
    {
      "cell_type": "code",
      "source": [
        "from google.colab import userdata\n",
        "import openai\n",
        "openai.api_key = '#'"
      ],
      "metadata": {
        "id": "6Z-s7Ilf8dwH"
      },
      "execution_count": null,
      "outputs": []
    },
    {
      "cell_type": "code",
      "source": [
        "import openai\n",
        "import markdown\n",
        "from IPython.display import display, HTML\n",
        "\n",
        "def search(query):\n",
        "    return faiss_bm25(df, query, combined_embeddings=combined_embeddings, query_embedding=query_combined_embedding, k=200)\n",
        "\n",
        "def generate_answer(query):\n",
        "    context = search(query)\n",
        "    prompt = f\"\"\"\n",
        "    Based on the following query from a user, please generate a detailed answer based on the context,\n",
        "    focusing on which are the top 3 hotels based on the query. You should respond as if you are a travel agent and are conversing with the user.\n",
        "\n",
        "    ###########\n",
        "    query:\n",
        "    \"{query}\"\n",
        "\n",
        "    ########\n",
        "\n",
        "    context:\n",
        "    \"{context}\"\n",
        "    #####\n",
        "\n",
        "    Return the answer in Markdown format, with each hotel name highlighted.\n",
        "    \"\"\"\n",
        "\n",
        "    messages = [\n",
        "        {\"role\": \"system\", \"content\": \"You are a helpful assistant.\"},\n",
        "        {\"role\": \"user\", \"content\": prompt}\n",
        "    ]\n",
        "\n",
        "    response = openai.ChatCompletion.create(\n",
        "        model=\"gpt-4o-mini\",\n",
        "        max_tokens=1500,\n",
        "        n=1,\n",
        "        stop=None,\n",
        "        temperature=0.7,\n",
        "        messages=messages\n",
        "    )\n",
        "\n",
        "    generated_text = response.choices[0].message['content'].strip()\n",
        "\n",
        "    return generated_text\n",
        "\n",
        "def render_markdown(md_text):\n",
        "    html = markdown.markdown(md_text)\n",
        "    display(HTML(html))"
      ],
      "metadata": {
        "id": "QEhVDDJL66QX"
      },
      "execution_count": null,
      "outputs": []
    },
    {
      "cell_type": "code",
      "source": [
        "query = \"A good hotel with a great view on New York\"\n",
        "response = generate_answer(query)\n",
        "render_markdown(response)"
      ],
      "metadata": {
        "colab": {
          "base_uri": "https://localhost:8080/",
          "height": 1000
        },
        "id": "p6KLvs9285OB",
        "outputId": "d400e315-c01c-475c-8c7b-e57b13561941"
      },
      "execution_count": null,
      "outputs": [
        {
          "output_type": "display_data",
          "data": {
            "text/plain": [
              "<IPython.core.display.HTML object>"
            ],
            "text/html": [
              "<p>Certainly! Based on your query for a good hotel with a great view in New York City, here are the top three recommendations:</p>\n",
              "<h3>1. <strong>The Warwick New York</strong></h3>\n",
              "<p><img alt=\"Warwick New York\" src=\"https://media-cdn.tripadvisor.com/media/photo-s/1d/a0/45/91/warwick-new-york.jpg\" />\n",
              "The Warwick Hotel in New York offers a blend of history and luxury, having been established in 1926. It's located just a few blocks from Central Park and offers spacious rooms with city views. Guests have praised the hotel for its exceptional service and central location, making it easy to explore the city. Some rooms even feature balconies, providing a delightful view of the bustling cityscape. You can check out more details <a href=\"https://www.tripadvisor.com/Hotel_Review-g60763-d112064-Reviews-or20-Warwick_New_York-New_York_City_New_York.html\">here</a>.</p>\n",
              "<h3>2. <strong>The Bryant Park Hotel</strong></h3>\n",
              "<p><img alt=\"Bryant Park Hotel\" src=\"https://media-cdn.tripadvisor.com/media/photo-s/28/8d/23/73/our-front-yard-in-spring.jpg\" />\n",
              "Located near Times Square and overlooking Bryant Park, this hotel provides stunning views of the park's seasonal activities, including ice skating in the winter. Guests have loved the spacious rooms and the warm, welcoming staff. The hotel’s design is award-winning, and the complimentary amenities add to a luxurious stay. More information can be found <a href=\"https://www.tripadvisor.com/Hotel_Review-g60763-d224214-Reviews-or10-The_Bryant_Park_Hotel-New_York_City_New_York.html\">here</a>.</p>\n",
              "<h3>3. <strong>Dream Downtown</strong></h3>\n",
              "<p><img alt=\"Dream Downtown\" src=\"https://media-cdn.tripadvisor.com/media/photo-s/04/0b/67/7b/dream-downtown.jpg\" />\n",
              "Nestled between the Meatpacking District and Chelsea, Dream Downtown offers chic accommodations and fantastic city views. The hotel's rooftop lounge and pool provide an elegant setting for guests to enjoy breathtaking views of the Manhattan skyline. This stylish hotel is perfect for those looking to experience New York's nightlife while enjoying a comfortable stay. You can learn more about this hotel <a href=\"https://www.tripadvisor.com/Hotel_Review-g60763-d2173604-Reviews-Dream_Downtown-New_York_City_New_York.html\">here</a>.</p>\n",
              "<hr />\n",
              "<p>These hotels not only provide great views but also excellent locations and amenities to ensure a memorable stay in New York City. If you have any further questions or need assistance with bookings, feel free to ask!</p>"
            ]
          },
          "metadata": {}
        }
      ]
    },
    {
      "cell_type": "code",
      "source": [
        "import gradio as gr\n",
        "def gradio_interface(query):\n",
        "    response = generate_answer(query)\n",
        "    return response"
      ],
      "metadata": {
        "id": "w6L9WwhK9p2w"
      },
      "execution_count": null,
      "outputs": []
    },
    {
      "cell_type": "code",
      "source": [
        "iface = gr.Interface(\n",
        "    fn=gradio_interface,\n",
        "    inputs=\"text\",\n",
        "    outputs=\"markdown\",\n",
        "    title=\"Top 3 Hotels Finder\",\n",
        "    description=\"Enter a query to find the best 3 hotels based on your preferences.\"\n",
        ")"
      ],
      "metadata": {
        "id": "wGhSAs6GB_JG"
      },
      "execution_count": null,
      "outputs": []
    },
    {
      "cell_type": "code",
      "source": [
        "iface.launch()"
      ],
      "metadata": {
        "colab": {
          "base_uri": "https://localhost:8080/",
          "height": 680
        },
        "id": "SMTkZIGLCEQ9",
        "outputId": "ac21b82c-d389-441f-cd81-654fe2914b9c"
      },
      "execution_count": null,
      "outputs": [
        {
          "output_type": "stream",
          "name": "stdout",
          "text": [
            "Rerunning server... use `close()` to stop if you need to change `launch()` parameters.\n",
            "----\n",
            "Setting queue=True in a Colab notebook requires sharing enabled. Setting `share=True` (you can turn this off by setting `share=False` in `launch()` explicitly).\n",
            "\n",
            "Colab notebook detected. To show errors in colab notebook, set debug=True in launch()\n",
            "Running on public URL: https://59e7f8a495255b5109.gradio.live\n",
            "\n",
            "This share link expires in 72 hours. For free permanent hosting and GPU upgrades, run `gradio deploy` from Terminal to deploy to Spaces (https://huggingface.co/spaces)\n"
          ]
        },
        {
          "output_type": "display_data",
          "data": {
            "text/plain": [
              "<IPython.core.display.HTML object>"
            ],
            "text/html": [
              "<div><iframe src=\"https://59e7f8a495255b5109.gradio.live\" width=\"100%\" height=\"500\" allow=\"autoplay; camera; microphone; clipboard-read; clipboard-write;\" frameborder=\"0\" allowfullscreen></iframe></div>"
            ]
          },
          "metadata": {}
        },
        {
          "output_type": "execute_result",
          "data": {
            "text/plain": []
          },
          "metadata": {},
          "execution_count": 84
        }
      ]
    },
    {
      "cell_type": "code",
      "source": [],
      "metadata": {
        "id": "UUTgGGiKCFxV"
      },
      "execution_count": null,
      "outputs": []
    }
  ]
}